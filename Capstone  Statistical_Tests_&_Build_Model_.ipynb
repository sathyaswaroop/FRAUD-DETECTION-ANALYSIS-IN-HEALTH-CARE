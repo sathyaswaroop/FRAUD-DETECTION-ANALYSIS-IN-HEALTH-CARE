{
  "cells": [
    {
      "cell_type": "code",
      "execution_count": null,
      "metadata": {
        "ExecuteTime": {
          "end_time": "2022-03-22T14:01:37.557810Z",
          "start_time": "2022-03-22T14:01:37.535913Z"
        },
        "id": "d1X_5k6nDXGx"
      },
      "outputs": [],
      "source": [
        "import numpy as np\n",
        "import pandas as pd\n",
        "import matplotlib.pyplot as plt\n",
        "import seaborn as sns\n",
        "import warnings\n",
        "warnings.filterwarnings('ignore')\n",
        "\n",
        "plt.rcParams['figure.figsize'] = [15,8] "
      ]
    },
    {
      "cell_type": "code",
      "source": [
        "from google.colab import drive\n",
        "drive.mount('/content/drive')"
      ],
      "metadata": {
        "colab": {
          "base_uri": "https://localhost:8080/"
        },
        "id": "9mWgeLqyDnw0",
        "outputId": "0c88cf13-4433-427b-b66e-b114a7630a7c"
      },
      "execution_count": null,
      "outputs": [
        {
          "output_type": "stream",
          "name": "stdout",
          "text": [
            "Drive already mounted at /content/drive; to attempt to forcibly remount, call drive.mount(\"/content/drive\", force_remount=True).\n"
          ]
        }
      ]
    },
    {
      "cell_type": "code",
      "execution_count": null,
      "metadata": {
        "ExecuteTime": {
          "end_time": "2022-03-22T14:01:42.218123Z",
          "start_time": "2022-03-22T14:01:39.735405Z"
        },
        "colab": {
          "base_uri": "https://localhost:8080/",
          "height": 299
        },
        "id": "BZopi_1eDXG6",
        "outputId": "4a9c2a09-d2ba-4e80-8256-c6787f199881"
      },
      "outputs": [
        {
          "output_type": "execute_result",
          "data": {
            "text/plain": [
              "   PotentialFraud  InscClaimAmtReimbursed  DeductibleAmtPaid  Gender  Race  \\\n",
              "0               0                     500                0.0       1     1   \n",
              "1               0                   36000             1068.0       1     1   \n",
              "2               0                   12000             1068.0       1     1   \n",
              "3               0                      70                0.0       1     1   \n",
              "4               0                    3000             1068.0       2     1   \n",
              "\n",
              "   State  County  NoOfMonths_PartACov  NoOfMonths_PartBCov  \\\n",
              "0      1     410                   12                   12   \n",
              "1      1     510                   12                   12   \n",
              "2      1     160                   12                   12   \n",
              "3      1     510                   12                   12   \n",
              "4      1     510                   12                   12   \n",
              "\n",
              "   IPAnnualReimbursementAmt  ...   Age  Days_stayed_inhospital  \\\n",
              "0                      2020  ...  74.0                     0.0   \n",
              "1                     36000  ...  69.0                     4.0   \n",
              "2                     95000  ...  72.0                     2.0   \n",
              "3                      5000  ...  91.0                     0.0   \n",
              "4                      3000  ...  75.0                     5.0   \n",
              "\n",
              "   Patient_visitType  DeadorNot  Days_to_settle_claim  \\\n",
              "0                0.0        0.0                     1   \n",
              "1                1.0        0.0                     4   \n",
              "2                1.0        0.0                     2   \n",
              "3                0.0        0.0                     0   \n",
              "4                1.0        0.0                     5   \n",
              "\n",
              "   Total_PhysiciansChecked  Repeted_Physician  TotalClmDiagnosisCount  \\\n",
              "0                        2                0.0                       1   \n",
              "1                        1                0.0                       3   \n",
              "2                        1                0.0                       1   \n",
              "3                        1                0.0                       4   \n",
              "4                        1                0.0                       2   \n",
              "\n",
              "   TotalClmProcedureCount  TotalDiseaseCount  \n",
              "0                       0                  8  \n",
              "1                       0                  6  \n",
              "2                       0                  1  \n",
              "3                       0                  4  \n",
              "4                       0                  6  \n",
              "\n",
              "[5 rows x 23 columns]"
            ],
            "text/html": [
              "\n",
              "  <div id=\"df-56f7094a-41f8-4bf0-952d-ae41e2e7b6ad\">\n",
              "    <div class=\"colab-df-container\">\n",
              "      <div>\n",
              "<style scoped>\n",
              "    .dataframe tbody tr th:only-of-type {\n",
              "        vertical-align: middle;\n",
              "    }\n",
              "\n",
              "    .dataframe tbody tr th {\n",
              "        vertical-align: top;\n",
              "    }\n",
              "\n",
              "    .dataframe thead th {\n",
              "        text-align: right;\n",
              "    }\n",
              "</style>\n",
              "<table border=\"1\" class=\"dataframe\">\n",
              "  <thead>\n",
              "    <tr style=\"text-align: right;\">\n",
              "      <th></th>\n",
              "      <th>PotentialFraud</th>\n",
              "      <th>InscClaimAmtReimbursed</th>\n",
              "      <th>DeductibleAmtPaid</th>\n",
              "      <th>Gender</th>\n",
              "      <th>Race</th>\n",
              "      <th>State</th>\n",
              "      <th>County</th>\n",
              "      <th>NoOfMonths_PartACov</th>\n",
              "      <th>NoOfMonths_PartBCov</th>\n",
              "      <th>IPAnnualReimbursementAmt</th>\n",
              "      <th>...</th>\n",
              "      <th>Age</th>\n",
              "      <th>Days_stayed_inhospital</th>\n",
              "      <th>Patient_visitType</th>\n",
              "      <th>DeadorNot</th>\n",
              "      <th>Days_to_settle_claim</th>\n",
              "      <th>Total_PhysiciansChecked</th>\n",
              "      <th>Repeted_Physician</th>\n",
              "      <th>TotalClmDiagnosisCount</th>\n",
              "      <th>TotalClmProcedureCount</th>\n",
              "      <th>TotalDiseaseCount</th>\n",
              "    </tr>\n",
              "  </thead>\n",
              "  <tbody>\n",
              "    <tr>\n",
              "      <th>0</th>\n",
              "      <td>0</td>\n",
              "      <td>500</td>\n",
              "      <td>0.0</td>\n",
              "      <td>1</td>\n",
              "      <td>1</td>\n",
              "      <td>1</td>\n",
              "      <td>410</td>\n",
              "      <td>12</td>\n",
              "      <td>12</td>\n",
              "      <td>2020</td>\n",
              "      <td>...</td>\n",
              "      <td>74.0</td>\n",
              "      <td>0.0</td>\n",
              "      <td>0.0</td>\n",
              "      <td>0.0</td>\n",
              "      <td>1</td>\n",
              "      <td>2</td>\n",
              "      <td>0.0</td>\n",
              "      <td>1</td>\n",
              "      <td>0</td>\n",
              "      <td>8</td>\n",
              "    </tr>\n",
              "    <tr>\n",
              "      <th>1</th>\n",
              "      <td>0</td>\n",
              "      <td>36000</td>\n",
              "      <td>1068.0</td>\n",
              "      <td>1</td>\n",
              "      <td>1</td>\n",
              "      <td>1</td>\n",
              "      <td>510</td>\n",
              "      <td>12</td>\n",
              "      <td>12</td>\n",
              "      <td>36000</td>\n",
              "      <td>...</td>\n",
              "      <td>69.0</td>\n",
              "      <td>4.0</td>\n",
              "      <td>1.0</td>\n",
              "      <td>0.0</td>\n",
              "      <td>4</td>\n",
              "      <td>1</td>\n",
              "      <td>0.0</td>\n",
              "      <td>3</td>\n",
              "      <td>0</td>\n",
              "      <td>6</td>\n",
              "    </tr>\n",
              "    <tr>\n",
              "      <th>2</th>\n",
              "      <td>0</td>\n",
              "      <td>12000</td>\n",
              "      <td>1068.0</td>\n",
              "      <td>1</td>\n",
              "      <td>1</td>\n",
              "      <td>1</td>\n",
              "      <td>160</td>\n",
              "      <td>12</td>\n",
              "      <td>12</td>\n",
              "      <td>95000</td>\n",
              "      <td>...</td>\n",
              "      <td>72.0</td>\n",
              "      <td>2.0</td>\n",
              "      <td>1.0</td>\n",
              "      <td>0.0</td>\n",
              "      <td>2</td>\n",
              "      <td>1</td>\n",
              "      <td>0.0</td>\n",
              "      <td>1</td>\n",
              "      <td>0</td>\n",
              "      <td>1</td>\n",
              "    </tr>\n",
              "    <tr>\n",
              "      <th>3</th>\n",
              "      <td>0</td>\n",
              "      <td>70</td>\n",
              "      <td>0.0</td>\n",
              "      <td>1</td>\n",
              "      <td>1</td>\n",
              "      <td>1</td>\n",
              "      <td>510</td>\n",
              "      <td>12</td>\n",
              "      <td>12</td>\n",
              "      <td>5000</td>\n",
              "      <td>...</td>\n",
              "      <td>91.0</td>\n",
              "      <td>0.0</td>\n",
              "      <td>0.0</td>\n",
              "      <td>0.0</td>\n",
              "      <td>0</td>\n",
              "      <td>1</td>\n",
              "      <td>0.0</td>\n",
              "      <td>4</td>\n",
              "      <td>0</td>\n",
              "      <td>4</td>\n",
              "    </tr>\n",
              "    <tr>\n",
              "      <th>4</th>\n",
              "      <td>0</td>\n",
              "      <td>3000</td>\n",
              "      <td>1068.0</td>\n",
              "      <td>2</td>\n",
              "      <td>1</td>\n",
              "      <td>1</td>\n",
              "      <td>510</td>\n",
              "      <td>12</td>\n",
              "      <td>12</td>\n",
              "      <td>3000</td>\n",
              "      <td>...</td>\n",
              "      <td>75.0</td>\n",
              "      <td>5.0</td>\n",
              "      <td>1.0</td>\n",
              "      <td>0.0</td>\n",
              "      <td>5</td>\n",
              "      <td>1</td>\n",
              "      <td>0.0</td>\n",
              "      <td>2</td>\n",
              "      <td>0</td>\n",
              "      <td>6</td>\n",
              "    </tr>\n",
              "  </tbody>\n",
              "</table>\n",
              "<p>5 rows × 23 columns</p>\n",
              "</div>\n",
              "      <button class=\"colab-df-convert\" onclick=\"convertToInteractive('df-56f7094a-41f8-4bf0-952d-ae41e2e7b6ad')\"\n",
              "              title=\"Convert this dataframe to an interactive table.\"\n",
              "              style=\"display:none;\">\n",
              "        \n",
              "  <svg xmlns=\"http://www.w3.org/2000/svg\" height=\"24px\"viewBox=\"0 0 24 24\"\n",
              "       width=\"24px\">\n",
              "    <path d=\"M0 0h24v24H0V0z\" fill=\"none\"/>\n",
              "    <path d=\"M18.56 5.44l.94 2.06.94-2.06 2.06-.94-2.06-.94-.94-2.06-.94 2.06-2.06.94zm-11 1L8.5 8.5l.94-2.06 2.06-.94-2.06-.94L8.5 2.5l-.94 2.06-2.06.94zm10 10l.94 2.06.94-2.06 2.06-.94-2.06-.94-.94-2.06-.94 2.06-2.06.94z\"/><path d=\"M17.41 7.96l-1.37-1.37c-.4-.4-.92-.59-1.43-.59-.52 0-1.04.2-1.43.59L10.3 9.45l-7.72 7.72c-.78.78-.78 2.05 0 2.83L4 21.41c.39.39.9.59 1.41.59.51 0 1.02-.2 1.41-.59l7.78-7.78 2.81-2.81c.8-.78.8-2.07 0-2.86zM5.41 20L4 18.59l7.72-7.72 1.47 1.35L5.41 20z\"/>\n",
              "  </svg>\n",
              "      </button>\n",
              "      \n",
              "  <style>\n",
              "    .colab-df-container {\n",
              "      display:flex;\n",
              "      flex-wrap:wrap;\n",
              "      gap: 12px;\n",
              "    }\n",
              "\n",
              "    .colab-df-convert {\n",
              "      background-color: #E8F0FE;\n",
              "      border: none;\n",
              "      border-radius: 50%;\n",
              "      cursor: pointer;\n",
              "      display: none;\n",
              "      fill: #1967D2;\n",
              "      height: 32px;\n",
              "      padding: 0 0 0 0;\n",
              "      width: 32px;\n",
              "    }\n",
              "\n",
              "    .colab-df-convert:hover {\n",
              "      background-color: #E2EBFA;\n",
              "      box-shadow: 0px 1px 2px rgba(60, 64, 67, 0.3), 0px 1px 3px 1px rgba(60, 64, 67, 0.15);\n",
              "      fill: #174EA6;\n",
              "    }\n",
              "\n",
              "    [theme=dark] .colab-df-convert {\n",
              "      background-color: #3B4455;\n",
              "      fill: #D2E3FC;\n",
              "    }\n",
              "\n",
              "    [theme=dark] .colab-df-convert:hover {\n",
              "      background-color: #434B5C;\n",
              "      box-shadow: 0px 1px 3px 1px rgba(0, 0, 0, 0.15);\n",
              "      filter: drop-shadow(0px 1px 2px rgba(0, 0, 0, 0.3));\n",
              "      fill: #FFFFFF;\n",
              "    }\n",
              "  </style>\n",
              "\n",
              "      <script>\n",
              "        const buttonEl =\n",
              "          document.querySelector('#df-56f7094a-41f8-4bf0-952d-ae41e2e7b6ad button.colab-df-convert');\n",
              "        buttonEl.style.display =\n",
              "          google.colab.kernel.accessAllowed ? 'block' : 'none';\n",
              "\n",
              "        async function convertToInteractive(key) {\n",
              "          const element = document.querySelector('#df-56f7094a-41f8-4bf0-952d-ae41e2e7b6ad');\n",
              "          const dataTable =\n",
              "            await google.colab.kernel.invokeFunction('convertToInteractive',\n",
              "                                                     [key], {});\n",
              "          if (!dataTable) return;\n",
              "\n",
              "          const docLinkHtml = 'Like what you see? Visit the ' +\n",
              "            '<a target=\"_blank\" href=https://colab.research.google.com/notebooks/data_table.ipynb>data table notebook</a>'\n",
              "            + ' to learn more about interactive tables.';\n",
              "          element.innerHTML = '';\n",
              "          dataTable['output_type'] = 'display_data';\n",
              "          await google.colab.output.renderOutput(dataTable, element);\n",
              "          const docLink = document.createElement('div');\n",
              "          docLink.innerHTML = docLinkHtml;\n",
              "          element.appendChild(docLink);\n",
              "        }\n",
              "      </script>\n",
              "    </div>\n",
              "  </div>\n",
              "  "
            ]
          },
          "metadata": {},
          "execution_count": 4
        }
      ],
      "source": [
        "final_df = pd.read_csv('/content/drive/MyDrive/Healthcare_fraud.csv')\n",
        "final_df = final_df.drop('ClaimID',axis=1)\n",
        "final_df.head()"
      ]
    },
    {
      "cell_type": "code",
      "execution_count": null,
      "metadata": {
        "ExecuteTime": {
          "end_time": "2022-03-22T14:25:27.886116Z",
          "start_time": "2022-03-22T14:25:27.877118Z"
        },
        "id": "cFmzxB0gDXG-"
      },
      "outputs": [],
      "source": [
        "# sns.pairplot(final_df, diag_kind=True)"
      ]
    },
    {
      "cell_type": "code",
      "execution_count": null,
      "metadata": {
        "ExecuteTime": {
          "end_time": "2022-03-22T14:25:23.410475Z",
          "start_time": "2022-03-22T14:25:23.359564Z"
        },
        "id": "oMtkur5iDXHE",
        "outputId": "b07bcd93-652f-40d8-b04b-eb9b7d15075b",
        "colab": {
          "base_uri": "https://localhost:8080/"
        }
      },
      "outputs": [
        {
          "output_type": "execute_result",
          "data": {
            "text/plain": [
              "Index(['PotentialFraud', 'InscClaimAmtReimbursed', 'DeductibleAmtPaid',\n",
              "       'Gender', 'Race', 'State', 'County', 'NoOfMonths_PartACov',\n",
              "       'NoOfMonths_PartBCov', 'IPAnnualReimbursementAmt',\n",
              "       'IPAnnualDeductibleAmt', 'OPAnnualReimbursementAmt',\n",
              "       'OPAnnualDeductibleAmt', 'Age', 'Days_stayed_inhospital',\n",
              "       'Patient_visitType', 'DeadorNot', 'Days_to_settle_claim',\n",
              "       'Total_PhysiciansChecked', 'Repeted_Physician',\n",
              "       'TotalClmDiagnosisCount', 'TotalClmProcedureCount',\n",
              "       'TotalDiseaseCount'],\n",
              "      dtype='object')"
            ]
          },
          "metadata": {},
          "execution_count": 6
        }
      ],
      "source": [
        "final_df.columns "
      ]
    },
    {
      "cell_type": "code",
      "execution_count": null,
      "metadata": {
        "ExecuteTime": {
          "end_time": "2022-03-22T14:29:09.836157Z",
          "start_time": "2022-03-22T14:29:08.918931Z"
        },
        "id": "C87NMIghDXHG"
      },
      "outputs": [],
      "source": [
        "final_df_num = final_df[['InscClaimAmtReimbursed', 'DeductibleAmtPaid','NoOfMonths_PartACov',\n",
        "                         'NoOfMonths_PartBCov', 'IPAnnualReimbursementAmt',\n",
        "                         'IPAnnualDeductibleAmt', 'OPAnnualReimbursementAmt',\n",
        "                         'OPAnnualDeductibleAmt', 'Age', 'Days_stayed_inhospital',\n",
        "                        'Days_to_settle_claim','Total_PhysiciansChecked','TotalClmDiagnosisCount',\n",
        "                         'TotalClmProcedureCount','TotalDiseaseCount']]\n",
        "\n",
        "final_df_cat= final_df.drop(['InscClaimAmtReimbursed', 'DeductibleAmtPaid','NoOfMonths_PartACov',\n",
        "                         'NoOfMonths_PartBCov', 'IPAnnualReimbursementAmt',\n",
        "                         'IPAnnualDeductibleAmt', 'OPAnnualReimbursementAmt',\n",
        "                         'OPAnnualDeductibleAmt', 'Age', 'Days_stayed_inhospital',\n",
        "                        'Days_to_settle_claim','Total_PhysiciansChecked','TotalClmDiagnosisCount',\n",
        "                         'TotalClmProcedureCount','TotalDiseaseCount'],axis=1)"
      ]
    },
    {
      "cell_type": "code",
      "execution_count": null,
      "metadata": {
        "ExecuteTime": {
          "end_time": "2022-03-22T14:29:32.534703Z",
          "start_time": "2022-03-22T14:29:32.513127Z"
        },
        "id": "bznxq71ADXHJ",
        "outputId": "1993ce44-627d-4faf-824c-8d482970dbd5",
        "colab": {
          "base_uri": "https://localhost:8080/"
        }
      },
      "outputs": [
        {
          "output_type": "execute_result",
          "data": {
            "text/plain": [
              "(558211, 15)"
            ]
          },
          "metadata": {},
          "execution_count": 8
        }
      ],
      "source": [
        "final_df_num.shape"
      ]
    },
    {
      "cell_type": "code",
      "execution_count": null,
      "metadata": {
        "ExecuteTime": {
          "end_time": "2022-03-22T14:29:41.448470Z",
          "start_time": "2022-03-22T14:29:41.430787Z"
        },
        "id": "S799T5F-DXHL",
        "outputId": "201c3bd7-be44-4fdc-8e13-6b4679e8f720",
        "colab": {
          "base_uri": "https://localhost:8080/"
        }
      },
      "outputs": [
        {
          "output_type": "execute_result",
          "data": {
            "text/plain": [
              "(558211, 8)"
            ]
          },
          "metadata": {},
          "execution_count": 9
        }
      ],
      "source": [
        "final_df_cat.shape "
      ]
    },
    {
      "cell_type": "code",
      "execution_count": null,
      "metadata": {
        "ExecuteTime": {
          "start_time": "2022-03-22T14:32:17.881Z"
        },
        "id": "gOsv4xNQDXHN",
        "colab": {
          "base_uri": "https://localhost:8080/",
          "height": 1000
        },
        "outputId": "358474d0-f764-45c1-ac1d-8351d82bb91f"
      },
      "outputs": [
        {
          "output_type": "display_data",
          "data": {
            "text/plain": [
              "<Figure size 1440x1008 with 15 Axes>"
            ],
            "image/png": "[encoded data removed]"
          },
          "metadata": {
            "needs_background": "light"
          }
        }
      ],
      "source": [
        "fig,ax = plt.subplots(nrows=5,ncols=3, figsize=(20,14))\n",
        "for i,v in zip(final_df_num.columns, ax.flatten()):\n",
        "  sns.distplot(final_df_num[i], ax= v)\n",
        "\n",
        "plt.tight_layout()\n",
        "plt.show()"
      ]
    },
    {
      "cell_type": "markdown",
      "source": [
        "## Numeric vs Categorical(Target) Stat. Test"
      ],
      "metadata": {
        "id": "1IzWL73qFnKj"
      }
    },
    {
      "cell_type": "code",
      "source": [
        "from scipy import stats"
      ],
      "metadata": {
        "id": "aYRTOzTQFmFE"
      },
      "execution_count": null,
      "outputs": []
    },
    {
      "cell_type": "markdown",
      "source": [
        "NUll : Data is Normal / skew=0\n",
        "\n",
        "Altr : Data is Not Normal / skew != 0"
      ],
      "metadata": {
        "id": "ph2YRfcIGjEq"
      }
    },
    {
      "cell_type": "code",
      "source": [
        "p_val= []\n",
        "for i in final_df_num.columns:\n",
        "  pvalue = stats.shapiro(final_df_num[i])[1]\n",
        "  p_val.append(pvalue)\n",
        "\n",
        "print(p_val)"
      ],
      "metadata": {
        "colab": {
          "base_uri": "https://localhost:8080/"
        },
        "id": "hH-vFphHG4eX",
        "outputId": "40a40776-439c-4dbe-a17a-078a08af4378"
      },
      "execution_count": null,
      "outputs": [
        {
          "output_type": "stream",
          "name": "stdout",
          "text": [
            "[0.0, 0.0, 0.0, 0.0, 0.0, 0.0, 0.0, 0.0, 0.0, 0.0, 0.0, 0.0, 0.0, 0.0, 0.0]\n"
          ]
        }
      ]
    },
    {
      "cell_type": "code",
      "execution_count": null,
      "metadata": {
        "id": "HDooSdXrDXHQ"
      },
      "outputs": [],
      "source": [
        "## As for all the numerical featutes we have found that the p-value <0.05 \n",
        "## so we reject the H0 , so we can conclude that data is not normal.\n",
        "## Same thing we are able to conclude from the distribution plots done in EDA.  "
      ]
    },
    {
      "cell_type": "markdown",
      "source": [
        "## null : Var is Equal \n",
        "    \n",
        "## Altr : Var is Not Equal"
      ],
      "metadata": {
        "id": "k9nYoxXcIt5o"
      }
    },
    {
      "cell_type": "code",
      "source": [
        "p_val= []\n",
        "for i in final_df_num.columns:\n",
        "  pvalue = stats.levene(final_df_num[i],final_df['PotentialFraud'])[1]\n",
        "  p_val.append(pvalue)\n",
        "\n",
        "print(p_val)"
      ],
      "metadata": {
        "colab": {
          "base_uri": "https://localhost:8080/"
        },
        "id": "KKsT8bMkIuVS",
        "outputId": "19ff6691-1a0e-4a1a-9eb0-0a55c2344ec3"
      },
      "execution_count": null,
      "outputs": [
        {
          "output_type": "stream",
          "name": "stdout",
          "text": [
            "[0.0, 0.0, 0.0, 0.0, 0.0, 0.0, 0.0, 0.0, 0.0, 2.3198887789700883e-24, 0.0, 0.0, 0.0, 0.0, 0.0]\n"
          ]
        }
      ]
    },
    {
      "cell_type": "code",
      "source": [
        "## As for all Numerical features the p-value <0.05 \n",
        "## so we reject the H0 , so we can conclude that variences are not equal."
      ],
      "metadata": {
        "id": "E-M0QYGKGg3T"
      },
      "execution_count": null,
      "outputs": []
    },
    {
      "cell_type": "markdown",
      "source": [
        "## As we can see that the features distibution is not normal and they dont have equal varience so we have to go for Non-Parametric Test\n",
        "\n",
        "## We will go for MannWhitneyu test"
      ],
      "metadata": {
        "id": "3TWCFMi3Jb3K"
      }
    },
    {
      "cell_type": "markdown",
      "source": [
        "## NUll : The means are equal, so not statistically significant\n",
        "\n",
        "## Altr : The means are not equal, they are far away, statistically significant."
      ],
      "metadata": {
        "id": "Zdk9Ie31KkEg"
      }
    },
    {
      "cell_type": "code",
      "source": [
        "final_df_num = final_df[['PotentialFraud','InscClaimAmtReimbursed', 'DeductibleAmtPaid','NoOfMonths_PartACov',\n",
        "                         'NoOfMonths_PartBCov', 'IPAnnualReimbursementAmt',\n",
        "                         'IPAnnualDeductibleAmt', 'OPAnnualReimbursementAmt',\n",
        "                         'OPAnnualDeductibleAmt', 'Age', 'Days_stayed_inhospital',\n",
        "                        'Days_to_settle_claim','Total_PhysiciansChecked','TotalClmDiagnosisCount',\n",
        "                         'TotalClmProcedureCount','TotalDiseaseCount']]"
      ],
      "metadata": {
        "id": "W0vngUlqLdT9"
      },
      "execution_count": null,
      "outputs": []
    },
    {
      "cell_type": "code",
      "source": [
        "final_df_num['PotentialFraud'].value_counts()"
      ],
      "metadata": {
        "colab": {
          "base_uri": "https://localhost:8080/"
        },
        "id": "0hyuOBlaLdcf",
        "outputId": "d7eb6b1e-6f15-491e-c60c-236f9f77a951"
      },
      "execution_count": null,
      "outputs": [
        {
          "output_type": "execute_result",
          "data": {
            "text/plain": [
              "0    345415\n",
              "1    212796\n",
              "Name: PotentialFraud, dtype: int64"
            ]
          },
          "metadata": {},
          "execution_count": 17
        }
      ]
    },
    {
      "cell_type": "code",
      "source": [
        "pval ={}\n",
        "\n",
        "for i in final_df_num.columns:\n",
        "  if i == 'PotentialFraud':\n",
        "    continue\n",
        "  else:\n",
        "    p_value = stats.mannwhitneyu(final_df_num[final_df_num['PotentialFraud']== 0][i],  final_df_num[final_df_num['PotentialFraud']== 1][i])[1]\n",
        "    pval.update({i:p_value})\n",
        "\n",
        "\n",
        "{key:value for (key,value) in pval.items()}"
      ],
      "metadata": {
        "colab": {
          "base_uri": "https://localhost:8080/"
        },
        "id": "6cJa9APFIiCs",
        "outputId": "6c8b5f2f-9c66-4a44-ed0e-27a24ff2cbc9"
      },
      "execution_count": null,
      "outputs": [
        {
          "output_type": "execute_result",
          "data": {
            "text/plain": [
              "{'Age': 1.1683727437179946e-10,\n",
              " 'Days_stayed_inhospital': 0.0,\n",
              " 'Days_to_settle_claim': 0.0,\n",
              " 'DeductibleAmtPaid': 0.0,\n",
              " 'IPAnnualDeductibleAmt': 1.1647762070853345e-257,\n",
              " 'IPAnnualReimbursementAmt': 3.3208283387829644e-245,\n",
              " 'InscClaimAmtReimbursed': 7.575700740775726e-290,\n",
              " 'NoOfMonths_PartACov': 8.567584705443157e-06,\n",
              " 'NoOfMonths_PartBCov': 0.19089833755215163,\n",
              " 'OPAnnualDeductibleAmt': 3.7664505031202693e-05,\n",
              " 'OPAnnualReimbursementAmt': 3.5579705823098955e-05,\n",
              " 'TotalClmDiagnosisCount': 1.9669585548006024e-13,\n",
              " 'TotalClmProcedureCount': 9.04748623460157e-45,\n",
              " 'TotalDiseaseCount': 1.3808911391214714e-27,\n",
              " 'Total_PhysiciansChecked': 1.8221120837812875e-21}"
            ]
          },
          "metadata": {},
          "execution_count": 18
        }
      ]
    },
    {
      "cell_type": "code",
      "source": [
        "## In above whereever we find p-value >0.05, there we fail to reject the H0, so those features are insignificant. \n",
        "\n",
        "## So the Numerical significant features are:  InscClaimAmtReimbursed, DeductibleAmtPaid,NoOfMonths_PartACov,IPAnnualReimbursementAmt,\n",
        "##                                               IPAnnualDeductibleAmt, OPAnnualReimbursementAmt,OPAnnualDeductibleAmt, Age,  \n",
        "##                                               Days_stayed_inhospital,Days_to_settle_claim,Total_PhysiciansChecked\n",
        "##                                               ,TotalClmDiagnosisCount, 'TotalClmProcedureCount','TotalDiseaseCount'"
      ],
      "metadata": {
        "id": "23vcboY3KvIQ"
      },
      "execution_count": null,
      "outputs": []
    },
    {
      "cell_type": "markdown",
      "source": [
        "## categorical vs Category(Target) Stat. Test"
      ],
      "metadata": {
        "id": "ljNsgjZFSqKi"
      }
    },
    {
      "cell_type": "code",
      "source": [
        "final_df_cat.head()"
      ],
      "metadata": {
        "colab": {
          "base_uri": "https://localhost:8080/",
          "height": 206
        },
        "id": "A-9m2GYEMWnB",
        "outputId": "97022034-4a16-4400-eae7-f620bc63ede4"
      },
      "execution_count": null,
      "outputs": [
        {
          "output_type": "execute_result",
          "data": {
            "text/plain": [
              "   PotentialFraud  Gender  Race  State  County  Patient_visitType  DeadorNot  \\\n",
              "0               0       1     1      1     410                0.0        0.0   \n",
              "1               0       1     1      1     510                1.0        0.0   \n",
              "2               0       1     1      1     160                1.0        0.0   \n",
              "3               0       1     1      1     510                0.0        0.0   \n",
              "4               0       2     1      1     510                1.0        0.0   \n",
              "\n",
              "   Repeted_Physician  \n",
              "0                0.0  \n",
              "1                0.0  \n",
              "2                0.0  \n",
              "3                0.0  \n",
              "4                0.0  "
            ],
            "text/html": [
              "\n",
              "  <div id=\"df-7ac65307-ca4a-4707-992f-1fafc080b3bf\">\n",
              "    <div class=\"colab-df-container\">\n",
              "      <div>\n",
              "<style scoped>\n",
              "    .dataframe tbody tr th:only-of-type {\n",
              "        vertical-align: middle;\n",
              "    }\n",
              "\n",
              "    .dataframe tbody tr th {\n",
              "        vertical-align: top;\n",
              "    }\n",
              "\n",
              "    .dataframe thead th {\n",
              "        text-align: right;\n",
              "    }\n",
              "</style>\n",
              "<table border=\"1\" class=\"dataframe\">\n",
              "  <thead>\n",
              "    <tr style=\"text-align: right;\">\n",
              "      <th></th>\n",
              "      <th>PotentialFraud</th>\n",
              "      <th>Gender</th>\n",
              "      <th>Race</th>\n",
              "      <th>State</th>\n",
              "      <th>County</th>\n",
              "      <th>Patient_visitType</th>\n",
              "      <th>DeadorNot</th>\n",
              "      <th>Repeted_Physician</th>\n",
              "    </tr>\n",
              "  </thead>\n",
              "  <tbody>\n",
              "    <tr>\n",
              "      <th>0</th>\n",
              "      <td>0</td>\n",
              "      <td>1</td>\n",
              "      <td>1</td>\n",
              "      <td>1</td>\n",
              "      <td>410</td>\n",
              "      <td>0.0</td>\n",
              "      <td>0.0</td>\n",
              "      <td>0.0</td>\n",
              "    </tr>\n",
              "    <tr>\n",
              "      <th>1</th>\n",
              "      <td>0</td>\n",
              "      <td>1</td>\n",
              "      <td>1</td>\n",
              "      <td>1</td>\n",
              "      <td>510</td>\n",
              "      <td>1.0</td>\n",
              "      <td>0.0</td>\n",
              "      <td>0.0</td>\n",
              "    </tr>\n",
              "    <tr>\n",
              "      <th>2</th>\n",
              "      <td>0</td>\n",
              "      <td>1</td>\n",
              "      <td>1</td>\n",
              "      <td>1</td>\n",
              "      <td>160</td>\n",
              "      <td>1.0</td>\n",
              "      <td>0.0</td>\n",
              "      <td>0.0</td>\n",
              "    </tr>\n",
              "    <tr>\n",
              "      <th>3</th>\n",
              "      <td>0</td>\n",
              "      <td>1</td>\n",
              "      <td>1</td>\n",
              "      <td>1</td>\n",
              "      <td>510</td>\n",
              "      <td>0.0</td>\n",
              "      <td>0.0</td>\n",
              "      <td>0.0</td>\n",
              "    </tr>\n",
              "    <tr>\n",
              "      <th>4</th>\n",
              "      <td>0</td>\n",
              "      <td>2</td>\n",
              "      <td>1</td>\n",
              "      <td>1</td>\n",
              "      <td>510</td>\n",
              "      <td>1.0</td>\n",
              "      <td>0.0</td>\n",
              "      <td>0.0</td>\n",
              "    </tr>\n",
              "  </tbody>\n",
              "</table>\n",
              "</div>\n",
              "      <button class=\"colab-df-convert\" onclick=\"convertToInteractive('df-7ac65307-ca4a-4707-992f-1fafc080b3bf')\"\n",
              "              title=\"Convert this dataframe to an interactive table.\"\n",
              "              style=\"display:none;\">\n",
              "        \n",
              "  <svg xmlns=\"http://www.w3.org/2000/svg\" height=\"24px\"viewBox=\"0 0 24 24\"\n",
              "       width=\"24px\">\n",
              "    <path d=\"M0 0h24v24H0V0z\" fill=\"none\"/>\n",
              "    <path d=\"M18.56 5.44l.94 2.06.94-2.06 2.06-.94-2.06-.94-.94-2.06-.94 2.06-2.06.94zm-11 1L8.5 8.5l.94-2.06 2.06-.94-2.06-.94L8.5 2.5l-.94 2.06-2.06.94zm10 10l.94 2.06.94-2.06 2.06-.94-2.06-.94-.94-2.06-.94 2.06-2.06.94z\"/><path d=\"M17.41 7.96l-1.37-1.37c-.4-.4-.92-.59-1.43-.59-.52 0-1.04.2-1.43.59L10.3 9.45l-7.72 7.72c-.78.78-.78 2.05 0 2.83L4 21.41c.39.39.9.59 1.41.59.51 0 1.02-.2 1.41-.59l7.78-7.78 2.81-2.81c.8-.78.8-2.07 0-2.86zM5.41 20L4 18.59l7.72-7.72 1.47 1.35L5.41 20z\"/>\n",
              "  </svg>\n",
              "      </button>\n",
              "      \n",
              "  <style>\n",
              "    .colab-df-container {\n",
              "      display:flex;\n",
              "      flex-wrap:wrap;\n",
              "      gap: 12px;\n",
              "    }\n",
              "\n",
              "    .colab-df-convert {\n",
              "      background-color: #E8F0FE;\n",
              "      border: none;\n",
              "      border-radius: 50%;\n",
              "      cursor: pointer;\n",
              "      display: none;\n",
              "      fill: #1967D2;\n",
              "      height: 32px;\n",
              "      padding: 0 0 0 0;\n",
              "      width: 32px;\n",
              "    }\n",
              "\n",
              "    .colab-df-convert:hover {\n",
              "      background-color: #E2EBFA;\n",
              "      box-shadow: 0px 1px 2px rgba(60, 64, 67, 0.3), 0px 1px 3px 1px rgba(60, 64, 67, 0.15);\n",
              "      fill: #174EA6;\n",
              "    }\n",
              "\n",
              "    [theme=dark] .colab-df-convert {\n",
              "      background-color: #3B4455;\n",
              "      fill: #D2E3FC;\n",
              "    }\n",
              "\n",
              "    [theme=dark] .colab-df-convert:hover {\n",
              "      background-color: #434B5C;\n",
              "      box-shadow: 0px 1px 3px 1px rgba(0, 0, 0, 0.15);\n",
              "      filter: drop-shadow(0px 1px 2px rgba(0, 0, 0, 0.3));\n",
              "      fill: #FFFFFF;\n",
              "    }\n",
              "  </style>\n",
              "\n",
              "      <script>\n",
              "        const buttonEl =\n",
              "          document.querySelector('#df-7ac65307-ca4a-4707-992f-1fafc080b3bf button.colab-df-convert');\n",
              "        buttonEl.style.display =\n",
              "          google.colab.kernel.accessAllowed ? 'block' : 'none';\n",
              "\n",
              "        async function convertToInteractive(key) {\n",
              "          const element = document.querySelector('#df-7ac65307-ca4a-4707-992f-1fafc080b3bf');\n",
              "          const dataTable =\n",
              "            await google.colab.kernel.invokeFunction('convertToInteractive',\n",
              "                                                     [key], {});\n",
              "          if (!dataTable) return;\n",
              "\n",
              "          const docLinkHtml = 'Like what you see? Visit the ' +\n",
              "            '<a target=\"_blank\" href=https://colab.research.google.com/notebooks/data_table.ipynb>data table notebook</a>'\n",
              "            + ' to learn more about interactive tables.';\n",
              "          element.innerHTML = '';\n",
              "          dataTable['output_type'] = 'display_data';\n",
              "          await google.colab.output.renderOutput(dataTable, element);\n",
              "          const docLink = document.createElement('div');\n",
              "          docLink.innerHTML = docLinkHtml;\n",
              "          element.appendChild(docLink);\n",
              "        }\n",
              "      </script>\n",
              "    </div>\n",
              "  </div>\n",
              "  "
            ]
          },
          "metadata": {},
          "execution_count": 20
        }
      ]
    },
    {
      "cell_type": "code",
      "source": [
        "final_df_cat['Patient_visitType'].value_counts()"
      ],
      "metadata": {
        "colab": {
          "base_uri": "https://localhost:8080/"
        },
        "id": "a2Aw3IMSS-WE",
        "outputId": "8f3ad291-f6cd-4279-81c7-5dbb1aa698cb"
      },
      "execution_count": null,
      "outputs": [
        {
          "output_type": "execute_result",
          "data": {
            "text/plain": [
              "0.0    517737\n",
              "1.0     40474\n",
              "Name: Patient_visitType, dtype: int64"
            ]
          },
          "metadata": {},
          "execution_count": 21
        }
      ]
    },
    {
      "cell_type": "code",
      "source": [
        "stats.chi2_contingency(pd.crosstab(final_df_cat['PotentialFraud'],final_df_cat['County']))[1]"
      ],
      "metadata": {
        "colab": {
          "base_uri": "https://localhost:8080/"
        },
        "id": "JGIO_tdYTIwY",
        "outputId": "fec1cc0c-dc6a-4450-de57-9990e5b5466d"
      },
      "execution_count": null,
      "outputs": [
        {
          "output_type": "execute_result",
          "data": {
            "text/plain": [
              "0.0"
            ]
          },
          "metadata": {},
          "execution_count": 22
        }
      ]
    },
    {
      "cell_type": "code",
      "source": [
        "## as p-value<0.5, County is significant "
      ],
      "metadata": {
        "id": "DGa73J9DX0cS"
      },
      "execution_count": null,
      "outputs": []
    },
    {
      "cell_type": "code",
      "source": [
        "stats.chi2_contingency(pd.crosstab(final_df_cat['PotentialFraud'],final_df_cat['State']))[1]"
      ],
      "metadata": {
        "colab": {
          "base_uri": "https://localhost:8080/"
        },
        "id": "VIstQQRclVeD",
        "outputId": "434d2e76-1358-4473-9299-c8d53ff2f1b1"
      },
      "execution_count": null,
      "outputs": [
        {
          "output_type": "execute_result",
          "data": {
            "text/plain": [
              "0.0"
            ]
          },
          "metadata": {},
          "execution_count": 24
        }
      ]
    },
    {
      "cell_type": "code",
      "source": [
        "## as p-value<0.5, State is significant "
      ],
      "metadata": {
        "id": "Vw7j_b5rlVv1"
      },
      "execution_count": null,
      "outputs": []
    },
    {
      "cell_type": "code",
      "source": [
        "pd.crosstab(final_df_cat['PotentialFraud'],final_df_cat['Gender'])"
      ],
      "metadata": {
        "colab": {
          "base_uri": "https://localhost:8080/",
          "height": 143
        },
        "id": "injf_vYrYSvh",
        "outputId": "a6476c37-dc95-443e-81cc-62a46addcc9f"
      },
      "execution_count": null,
      "outputs": [
        {
          "output_type": "execute_result",
          "data": {
            "text/plain": [
              "Gender               1       2\n",
              "PotentialFraud                \n",
              "0               145414  200001\n",
              "1                89683  123113"
            ],
            "text/html": [
              "\n",
              "  <div id=\"df-c97a3e90-c340-4e68-a614-381854a5b5cc\">\n",
              "    <div class=\"colab-df-container\">\n",
              "      <div>\n",
              "<style scoped>\n",
              "    .dataframe tbody tr th:only-of-type {\n",
              "        vertical-align: middle;\n",
              "    }\n",
              "\n",
              "    .dataframe tbody tr th {\n",
              "        vertical-align: top;\n",
              "    }\n",
              "\n",
              "    .dataframe thead th {\n",
              "        text-align: right;\n",
              "    }\n",
              "</style>\n",
              "<table border=\"1\" class=\"dataframe\">\n",
              "  <thead>\n",
              "    <tr style=\"text-align: right;\">\n",
              "      <th>Gender</th>\n",
              "      <th>1</th>\n",
              "      <th>2</th>\n",
              "    </tr>\n",
              "    <tr>\n",
              "      <th>PotentialFraud</th>\n",
              "      <th></th>\n",
              "      <th></th>\n",
              "    </tr>\n",
              "  </thead>\n",
              "  <tbody>\n",
              "    <tr>\n",
              "      <th>0</th>\n",
              "      <td>145414</td>\n",
              "      <td>200001</td>\n",
              "    </tr>\n",
              "    <tr>\n",
              "      <th>1</th>\n",
              "      <td>89683</td>\n",
              "      <td>123113</td>\n",
              "    </tr>\n",
              "  </tbody>\n",
              "</table>\n",
              "</div>\n",
              "      <button class=\"colab-df-convert\" onclick=\"convertToInteractive('df-c97a3e90-c340-4e68-a614-381854a5b5cc')\"\n",
              "              title=\"Convert this dataframe to an interactive table.\"\n",
              "              style=\"display:none;\">\n",
              "        \n",
              "  <svg xmlns=\"http://www.w3.org/2000/svg\" height=\"24px\"viewBox=\"0 0 24 24\"\n",
              "       width=\"24px\">\n",
              "    <path d=\"M0 0h24v24H0V0z\" fill=\"none\"/>\n",
              "    <path d=\"M18.56 5.44l.94 2.06.94-2.06 2.06-.94-2.06-.94-.94-2.06-.94 2.06-2.06.94zm-11 1L8.5 8.5l.94-2.06 2.06-.94-2.06-.94L8.5 2.5l-.94 2.06-2.06.94zm10 10l.94 2.06.94-2.06 2.06-.94-2.06-.94-.94-2.06-.94 2.06-2.06.94z\"/><path d=\"M17.41 7.96l-1.37-1.37c-.4-.4-.92-.59-1.43-.59-.52 0-1.04.2-1.43.59L10.3 9.45l-7.72 7.72c-.78.78-.78 2.05 0 2.83L4 21.41c.39.39.9.59 1.41.59.51 0 1.02-.2 1.41-.59l7.78-7.78 2.81-2.81c.8-.78.8-2.07 0-2.86zM5.41 20L4 18.59l7.72-7.72 1.47 1.35L5.41 20z\"/>\n",
              "  </svg>\n",
              "      </button>\n",
              "      \n",
              "  <style>\n",
              "    .colab-df-container {\n",
              "      display:flex;\n",
              "      flex-wrap:wrap;\n",
              "      gap: 12px;\n",
              "    }\n",
              "\n",
              "    .colab-df-convert {\n",
              "      background-color: #E8F0FE;\n",
              "      border: none;\n",
              "      border-radius: 50%;\n",
              "      cursor: pointer;\n",
              "      display: none;\n",
              "      fill: #1967D2;\n",
              "      height: 32px;\n",
              "      padding: 0 0 0 0;\n",
              "      width: 32px;\n",
              "    }\n",
              "\n",
              "    .colab-df-convert:hover {\n",
              "      background-color: #E2EBFA;\n",
              "      box-shadow: 0px 1px 2px rgba(60, 64, 67, 0.3), 0px 1px 3px 1px rgba(60, 64, 67, 0.15);\n",
              "      fill: #174EA6;\n",
              "    }\n",
              "\n",
              "    [theme=dark] .colab-df-convert {\n",
              "      background-color: #3B4455;\n",
              "      fill: #D2E3FC;\n",
              "    }\n",
              "\n",
              "    [theme=dark] .colab-df-convert:hover {\n",
              "      background-color: #434B5C;\n",
              "      box-shadow: 0px 1px 3px 1px rgba(0, 0, 0, 0.15);\n",
              "      filter: drop-shadow(0px 1px 2px rgba(0, 0, 0, 0.3));\n",
              "      fill: #FFFFFF;\n",
              "    }\n",
              "  </style>\n",
              "\n",
              "      <script>\n",
              "        const buttonEl =\n",
              "          document.querySelector('#df-c97a3e90-c340-4e68-a614-381854a5b5cc button.colab-df-convert');\n",
              "        buttonEl.style.display =\n",
              "          google.colab.kernel.accessAllowed ? 'block' : 'none';\n",
              "\n",
              "        async function convertToInteractive(key) {\n",
              "          const element = document.querySelector('#df-c97a3e90-c340-4e68-a614-381854a5b5cc');\n",
              "          const dataTable =\n",
              "            await google.colab.kernel.invokeFunction('convertToInteractive',\n",
              "                                                     [key], {});\n",
              "          if (!dataTable) return;\n",
              "\n",
              "          const docLinkHtml = 'Like what you see? Visit the ' +\n",
              "            '<a target=\"_blank\" href=https://colab.research.google.com/notebooks/data_table.ipynb>data table notebook</a>'\n",
              "            + ' to learn more about interactive tables.';\n",
              "          element.innerHTML = '';\n",
              "          dataTable['output_type'] = 'display_data';\n",
              "          await google.colab.output.renderOutput(dataTable, element);\n",
              "          const docLink = document.createElement('div');\n",
              "          docLink.innerHTML = docLinkHtml;\n",
              "          element.appendChild(docLink);\n",
              "        }\n",
              "      </script>\n",
              "    </div>\n",
              "  </div>\n",
              "  "
            ]
          },
          "metadata": {},
          "execution_count": 26
        }
      ]
    },
    {
      "cell_type": "code",
      "source": [
        "import statsmodels as sm"
      ],
      "metadata": {
        "id": "5o83UiquaRFM"
      },
      "execution_count": null,
      "outputs": []
    },
    {
      "cell_type": "code",
      "source": [
        "df_nl = final_df_cat[final_df_cat['PotentialFraud'] == 0]\n",
        "df_sg = final_df_cat[final_df_cat['PotentialFraud'] == 1]\n",
        "\n",
        "n_1 = len(df_nl)\n",
        "n_2 = len(df_sg)\n",
        "\n",
        "\n",
        "l_1 = len(df_nl[df_nl['Gender'] == 1])\n",
        "l_2 = len(df_sg[df_sg['Gender'] == 1])"
      ],
      "metadata": {
        "id": "y5Qj_fvydX1P"
      },
      "execution_count": null,
      "outputs": []
    },
    {
      "cell_type": "code",
      "source": [
        "import statsmodels.api as sm\n",
        "sm.stats.proportions_ztest(count = np.array([l_1, l_2]),nobs = np.array([n_1, n_2]),alternative='two-sided')[1]"
      ],
      "metadata": {
        "colab": {
          "base_uri": "https://localhost:8080/"
        },
        "id": "m3BTAmRyeCr7",
        "outputId": "d61f5ea6-0c0d-49ab-e65a-8678814af356"
      },
      "execution_count": null,
      "outputs": [
        {
          "output_type": "execute_result",
          "data": {
            "text/plain": [
              "0.7313608396662625"
            ]
          },
          "metadata": {},
          "execution_count": 29
        }
      ]
    },
    {
      "cell_type": "code",
      "source": [
        "## So Gender is not significant"
      ],
      "metadata": {
        "id": "n--8XWbXjSXH"
      },
      "execution_count": null,
      "outputs": []
    },
    {
      "cell_type": "code",
      "source": [
        "df_nl = final_df_cat[final_df_cat['PotentialFraud'] == 0]\n",
        "df_sg = final_df_cat[final_df_cat['PotentialFraud'] == 1]\n",
        "\n",
        "n_1 = len(df_nl)\n",
        "n_2 = len(df_sg)\n",
        "\n",
        "\n",
        "l_1 = len(df_nl[df_nl['Race'] == 1])\n",
        "l_2 = len(df_sg[df_sg['Race'] == 1])\n",
        "\n",
        "sm.stats.proportions_ztest(count = np.array([l_1, l_2]),nobs = np.array([n_1, n_2]),alternative='two-sided')[1]"
      ],
      "metadata": {
        "colab": {
          "base_uri": "https://localhost:8080/"
        },
        "id": "6VDzchqXkOGm",
        "outputId": "f827c223-3324-4874-91ab-6c7f55424663"
      },
      "execution_count": null,
      "outputs": [
        {
          "output_type": "execute_result",
          "data": {
            "text/plain": [
              "2.1704265129162852e-20"
            ]
          },
          "metadata": {},
          "execution_count": 31
        }
      ]
    },
    {
      "cell_type": "code",
      "source": [
        "## So Race is significant"
      ],
      "metadata": {
        "id": "QuYQh6pGkaz3"
      },
      "execution_count": null,
      "outputs": []
    },
    {
      "cell_type": "code",
      "source": [
        "df_nl = final_df_cat[final_df_cat['PotentialFraud'] == 0]\n",
        "df_sg = final_df_cat[final_df_cat['PotentialFraud'] == 1]\n",
        "\n",
        "n_1 = len(df_nl)\n",
        "n_2 = len(df_sg)\n",
        "\n",
        "\n",
        "l_1 = len(df_nl[df_nl['Patient_visitType'] == 1])\n",
        "l_2 = len(df_sg[df_sg['Patient_visitType'] == 1])\n",
        "\n",
        "sm.stats.proportions_ztest(count = np.array([l_1, l_2]),nobs = np.array([n_1, n_2]),alternative='two-sided')[1]"
      ],
      "metadata": {
        "colab": {
          "base_uri": "https://localhost:8080/"
        },
        "id": "TgM-FwUNki09",
        "outputId": "6fa4bc70-b8d7-4379-e4d6-784f04c60754"
      },
      "execution_count": null,
      "outputs": [
        {
          "output_type": "execute_result",
          "data": {
            "text/plain": [
              "0.0"
            ]
          },
          "metadata": {},
          "execution_count": 33
        }
      ]
    },
    {
      "cell_type": "code",
      "source": [
        "## so Patient_visitType is significant"
      ],
      "metadata": {
        "id": "DZLgVtTpki3f"
      },
      "execution_count": null,
      "outputs": []
    },
    {
      "cell_type": "code",
      "source": [
        "df_nl = final_df_cat[final_df_cat['PotentialFraud'] == 0]\n",
        "df_sg = final_df_cat[final_df_cat['PotentialFraud'] == 1]\n",
        "\n",
        "n_1 = len(df_nl)\n",
        "n_2 = len(df_sg)\n",
        "\n",
        "\n",
        "l_1 = len(df_nl[df_nl['DeadorNot'] == 1])\n",
        "l_2 = len(df_sg[df_sg['DeadorNot'] == 1])\n",
        "\n",
        "sm.stats.proportions_ztest(count = np.array([l_1, l_2]),nobs = np.array([n_1, n_2]),alternative='two-sided')[1]"
      ],
      "metadata": {
        "colab": {
          "base_uri": "https://localhost:8080/"
        },
        "id": "XUkzI5uiki6W",
        "outputId": "0e2c9148-7f72-4795-de58-ae7523266d0b"
      },
      "execution_count": null,
      "outputs": [
        {
          "output_type": "execute_result",
          "data": {
            "text/plain": [
              "0.32230337793643193"
            ]
          },
          "metadata": {},
          "execution_count": 35
        }
      ]
    },
    {
      "cell_type": "code",
      "source": [
        "## So DeadorNot is not significant"
      ],
      "metadata": {
        "id": "9IaVIgrdki90"
      },
      "execution_count": null,
      "outputs": []
    },
    {
      "cell_type": "code",
      "source": [
        "df_nl = final_df_cat[final_df_cat['PotentialFraud'] == 0]\n",
        "df_sg = final_df_cat[final_df_cat['PotentialFraud'] == 1]\n",
        "\n",
        "n_1 = len(df_nl)\n",
        "n_2 = len(df_sg)\n",
        "\n",
        "\n",
        "l_1 = len(df_nl[df_nl['Repeted_Physician'] == 1])\n",
        "l_2 = len(df_sg[df_sg['Repeted_Physician'] == 1])\n",
        "\n",
        "sm.stats.proportions_ztest(count = np.array([l_1, l_2]),nobs = np.array([n_1, n_2]),alternative='two-sided')[1]"
      ],
      "metadata": {
        "colab": {
          "base_uri": "https://localhost:8080/"
        },
        "id": "BsGLwrxblGb3",
        "outputId": "f2955051-92ad-4984-c7ef-65510f0a93cf"
      },
      "execution_count": null,
      "outputs": [
        {
          "output_type": "execute_result",
          "data": {
            "text/plain": [
              "0.0"
            ]
          },
          "metadata": {},
          "execution_count": 37
        }
      ]
    },
    {
      "cell_type": "code",
      "source": [
        "## so Repeted_Physician is significant"
      ],
      "metadata": {
        "id": "Apy9wUZdlNCm"
      },
      "execution_count": null,
      "outputs": []
    },
    {
      "cell_type": "code",
      "source": [
        "## So the significant categorical columns are : County,State,Race,Patient_visitType,Repeted_Physician"
      ],
      "metadata": {
        "id": "pyQlgHGolRxc"
      },
      "execution_count": null,
      "outputs": []
    },
    {
      "cell_type": "code",
      "source": [
        "Sig_feature = final_df[['County','State','Race','Patient_visitType','Repeted_Physician','InscClaimAmtReimbursed', 'DeductibleAmtPaid','NoOfMonths_PartACov',\n",
        "                'IPAnnualReimbursementAmt','IPAnnualDeductibleAmt', 'OPAnnualReimbursementAmt','OPAnnualDeductibleAmt', 'Age', 'Days_stayed_inhospital', \n",
        "                'Days_to_settle_claim','Total_PhysiciansChecked','TotalClmDiagnosisCount', 'TotalClmProcedureCount','TotalDiseaseCount']]"
      ],
      "metadata": {
        "id": "GguTsMWNmTLM"
      },
      "execution_count": null,
      "outputs": []
    },
    {
      "cell_type": "code",
      "source": [
        "Sig_feature.head()"
      ],
      "metadata": {
        "colab": {
          "base_uri": "https://localhost:8080/",
          "height": 270
        },
        "id": "Q4M4Utv1nEbj",
        "outputId": "7e0a048b-2e8d-4bd4-f2d4-0c0b06da7053"
      },
      "execution_count": null,
      "outputs": [
        {
          "output_type": "execute_result",
          "data": {
            "text/plain": [
              "   County  State  Race  Patient_visitType  Repeted_Physician  \\\n",
              "0     410      1     1                0.0                0.0   \n",
              "1     510      1     1                1.0                0.0   \n",
              "2     160      1     1                1.0                0.0   \n",
              "3     510      1     1                0.0                0.0   \n",
              "4     510      1     1                1.0                0.0   \n",
              "\n",
              "   InscClaimAmtReimbursed  DeductibleAmtPaid  NoOfMonths_PartACov  \\\n",
              "0                     500                0.0                   12   \n",
              "1                   36000             1068.0                   12   \n",
              "2                   12000             1068.0                   12   \n",
              "3                      70                0.0                   12   \n",
              "4                    3000             1068.0                   12   \n",
              "\n",
              "   IPAnnualReimbursementAmt  IPAnnualDeductibleAmt  OPAnnualReimbursementAmt  \\\n",
              "0                      2020                   1068                      6700   \n",
              "1                     36000                   1068                      3520   \n",
              "2                     95000                   2136                      2270   \n",
              "3                      5000                   1068                       370   \n",
              "4                      3000                   1068                         0   \n",
              "\n",
              "   OPAnnualDeductibleAmt   Age  Days_stayed_inhospital  Days_to_settle_claim  \\\n",
              "0                   2700  74.0                     0.0                     1   \n",
              "1                    140  69.0                     4.0                     4   \n",
              "2                    900  72.0                     2.0                     2   \n",
              "3                     70  91.0                     0.0                     0   \n",
              "4                      0  75.0                     5.0                     5   \n",
              "\n",
              "   Total_PhysiciansChecked  TotalClmDiagnosisCount  TotalClmProcedureCount  \\\n",
              "0                        2                       1                       0   \n",
              "1                        1                       3                       0   \n",
              "2                        1                       1                       0   \n",
              "3                        1                       4                       0   \n",
              "4                        1                       2                       0   \n",
              "\n",
              "   TotalDiseaseCount  \n",
              "0                  8  \n",
              "1                  6  \n",
              "2                  1  \n",
              "3                  4  \n",
              "4                  6  "
            ],
            "text/html": [
              "\n",
              "  <div id=\"df-254bfaa4-8dae-486a-8568-c272c2e77787\">\n",
              "    <div class=\"colab-df-container\">\n",
              "      <div>\n",
              "<style scoped>\n",
              "    .dataframe tbody tr th:only-of-type {\n",
              "        vertical-align: middle;\n",
              "    }\n",
              "\n",
              "    .dataframe tbody tr th {\n",
              "        vertical-align: top;\n",
              "    }\n",
              "\n",
              "    .dataframe thead th {\n",
              "        text-align: right;\n",
              "    }\n",
              "</style>\n",
              "<table border=\"1\" class=\"dataframe\">\n",
              "  <thead>\n",
              "    <tr style=\"text-align: right;\">\n",
              "      <th></th>\n",
              "      <th>County</th>\n",
              "      <th>State</th>\n",
              "      <th>Race</th>\n",
              "      <th>Patient_visitType</th>\n",
              "      <th>Repeted_Physician</th>\n",
              "      <th>InscClaimAmtReimbursed</th>\n",
              "      <th>DeductibleAmtPaid</th>\n",
              "      <th>NoOfMonths_PartACov</th>\n",
              "      <th>IPAnnualReimbursementAmt</th>\n",
              "      <th>IPAnnualDeductibleAmt</th>\n",
              "      <th>OPAnnualReimbursementAmt</th>\n",
              "      <th>OPAnnualDeductibleAmt</th>\n",
              "      <th>Age</th>\n",
              "      <th>Days_stayed_inhospital</th>\n",
              "      <th>Days_to_settle_claim</th>\n",
              "      <th>Total_PhysiciansChecked</th>\n",
              "      <th>TotalClmDiagnosisCount</th>\n",
              "      <th>TotalClmProcedureCount</th>\n",
              "      <th>TotalDiseaseCount</th>\n",
              "    </tr>\n",
              "  </thead>\n",
              "  <tbody>\n",
              "    <tr>\n",
              "      <th>0</th>\n",
              "      <td>410</td>\n",
              "      <td>1</td>\n",
              "      <td>1</td>\n",
              "      <td>0.0</td>\n",
              "      <td>0.0</td>\n",
              "      <td>500</td>\n",
              "      <td>0.0</td>\n",
              "      <td>12</td>\n",
              "      <td>2020</td>\n",
              "      <td>1068</td>\n",
              "      <td>6700</td>\n",
              "      <td>2700</td>\n",
              "      <td>74.0</td>\n",
              "      <td>0.0</td>\n",
              "      <td>1</td>\n",
              "      <td>2</td>\n",
              "      <td>1</td>\n",
              "      <td>0</td>\n",
              "      <td>8</td>\n",
              "    </tr>\n",
              "    <tr>\n",
              "      <th>1</th>\n",
              "      <td>510</td>\n",
              "      <td>1</td>\n",
              "      <td>1</td>\n",
              "      <td>1.0</td>\n",
              "      <td>0.0</td>\n",
              "      <td>36000</td>\n",
              "      <td>1068.0</td>\n",
              "      <td>12</td>\n",
              "      <td>36000</td>\n",
              "      <td>1068</td>\n",
              "      <td>3520</td>\n",
              "      <td>140</td>\n",
              "      <td>69.0</td>\n",
              "      <td>4.0</td>\n",
              "      <td>4</td>\n",
              "      <td>1</td>\n",
              "      <td>3</td>\n",
              "      <td>0</td>\n",
              "      <td>6</td>\n",
              "    </tr>\n",
              "    <tr>\n",
              "      <th>2</th>\n",
              "      <td>160</td>\n",
              "      <td>1</td>\n",
              "      <td>1</td>\n",
              "      <td>1.0</td>\n",
              "      <td>0.0</td>\n",
              "      <td>12000</td>\n",
              "      <td>1068.0</td>\n",
              "      <td>12</td>\n",
              "      <td>95000</td>\n",
              "      <td>2136</td>\n",
              "      <td>2270</td>\n",
              "      <td>900</td>\n",
              "      <td>72.0</td>\n",
              "      <td>2.0</td>\n",
              "      <td>2</td>\n",
              "      <td>1</td>\n",
              "      <td>1</td>\n",
              "      <td>0</td>\n",
              "      <td>1</td>\n",
              "    </tr>\n",
              "    <tr>\n",
              "      <th>3</th>\n",
              "      <td>510</td>\n",
              "      <td>1</td>\n",
              "      <td>1</td>\n",
              "      <td>0.0</td>\n",
              "      <td>0.0</td>\n",
              "      <td>70</td>\n",
              "      <td>0.0</td>\n",
              "      <td>12</td>\n",
              "      <td>5000</td>\n",
              "      <td>1068</td>\n",
              "      <td>370</td>\n",
              "      <td>70</td>\n",
              "      <td>91.0</td>\n",
              "      <td>0.0</td>\n",
              "      <td>0</td>\n",
              "      <td>1</td>\n",
              "      <td>4</td>\n",
              "      <td>0</td>\n",
              "      <td>4</td>\n",
              "    </tr>\n",
              "    <tr>\n",
              "      <th>4</th>\n",
              "      <td>510</td>\n",
              "      <td>1</td>\n",
              "      <td>1</td>\n",
              "      <td>1.0</td>\n",
              "      <td>0.0</td>\n",
              "      <td>3000</td>\n",
              "      <td>1068.0</td>\n",
              "      <td>12</td>\n",
              "      <td>3000</td>\n",
              "      <td>1068</td>\n",
              "      <td>0</td>\n",
              "      <td>0</td>\n",
              "      <td>75.0</td>\n",
              "      <td>5.0</td>\n",
              "      <td>5</td>\n",
              "      <td>1</td>\n",
              "      <td>2</td>\n",
              "      <td>0</td>\n",
              "      <td>6</td>\n",
              "    </tr>\n",
              "  </tbody>\n",
              "</table>\n",
              "</div>\n",
              "      <button class=\"colab-df-convert\" onclick=\"convertToInteractive('df-254bfaa4-8dae-486a-8568-c272c2e77787')\"\n",
              "              title=\"Convert this dataframe to an interactive table.\"\n",
              "              style=\"display:none;\">\n",
              "        \n",
              "  <svg xmlns=\"http://www.w3.org/2000/svg\" height=\"24px\"viewBox=\"0 0 24 24\"\n",
              "       width=\"24px\">\n",
              "    <path d=\"M0 0h24v24H0V0z\" fill=\"none\"/>\n",
              "    <path d=\"M18.56 5.44l.94 2.06.94-2.06 2.06-.94-2.06-.94-.94-2.06-.94 2.06-2.06.94zm-11 1L8.5 8.5l.94-2.06 2.06-.94-2.06-.94L8.5 2.5l-.94 2.06-2.06.94zm10 10l.94 2.06.94-2.06 2.06-.94-2.06-.94-.94-2.06-.94 2.06-2.06.94z\"/><path d=\"M17.41 7.96l-1.37-1.37c-.4-.4-.92-.59-1.43-.59-.52 0-1.04.2-1.43.59L10.3 9.45l-7.72 7.72c-.78.78-.78 2.05 0 2.83L4 21.41c.39.39.9.59 1.41.59.51 0 1.02-.2 1.41-.59l7.78-7.78 2.81-2.81c.8-.78.8-2.07 0-2.86zM5.41 20L4 18.59l7.72-7.72 1.47 1.35L5.41 20z\"/>\n",
              "  </svg>\n",
              "      </button>\n",
              "      \n",
              "  <style>\n",
              "    .colab-df-container {\n",
              "      display:flex;\n",
              "      flex-wrap:wrap;\n",
              "      gap: 12px;\n",
              "    }\n",
              "\n",
              "    .colab-df-convert {\n",
              "      background-color: #E8F0FE;\n",
              "      border: none;\n",
              "      border-radius: 50%;\n",
              "      cursor: pointer;\n",
              "      display: none;\n",
              "      fill: #1967D2;\n",
              "      height: 32px;\n",
              "      padding: 0 0 0 0;\n",
              "      width: 32px;\n",
              "    }\n",
              "\n",
              "    .colab-df-convert:hover {\n",
              "      background-color: #E2EBFA;\n",
              "      box-shadow: 0px 1px 2px rgba(60, 64, 67, 0.3), 0px 1px 3px 1px rgba(60, 64, 67, 0.15);\n",
              "      fill: #174EA6;\n",
              "    }\n",
              "\n",
              "    [theme=dark] .colab-df-convert {\n",
              "      background-color: #3B4455;\n",
              "      fill: #D2E3FC;\n",
              "    }\n",
              "\n",
              "    [theme=dark] .colab-df-convert:hover {\n",
              "      background-color: #434B5C;\n",
              "      box-shadow: 0px 1px 3px 1px rgba(0, 0, 0, 0.15);\n",
              "      filter: drop-shadow(0px 1px 2px rgba(0, 0, 0, 0.3));\n",
              "      fill: #FFFFFF;\n",
              "    }\n",
              "  </style>\n",
              "\n",
              "      <script>\n",
              "        const buttonEl =\n",
              "          document.querySelector('#df-254bfaa4-8dae-486a-8568-c272c2e77787 button.colab-df-convert');\n",
              "        buttonEl.style.display =\n",
              "          google.colab.kernel.accessAllowed ? 'block' : 'none';\n",
              "\n",
              "        async function convertToInteractive(key) {\n",
              "          const element = document.querySelector('#df-254bfaa4-8dae-486a-8568-c272c2e77787');\n",
              "          const dataTable =\n",
              "            await google.colab.kernel.invokeFunction('convertToInteractive',\n",
              "                                                     [key], {});\n",
              "          if (!dataTable) return;\n",
              "\n",
              "          const docLinkHtml = 'Like what you see? Visit the ' +\n",
              "            '<a target=\"_blank\" href=https://colab.research.google.com/notebooks/data_table.ipynb>data table notebook</a>'\n",
              "            + ' to learn more about interactive tables.';\n",
              "          element.innerHTML = '';\n",
              "          dataTable['output_type'] = 'display_data';\n",
              "          await google.colab.output.renderOutput(dataTable, element);\n",
              "          const docLink = document.createElement('div');\n",
              "          docLink.innerHTML = docLinkHtml;\n",
              "          element.appendChild(docLink);\n",
              "        }\n",
              "      </script>\n",
              "    </div>\n",
              "  </div>\n",
              "  "
            ]
          },
          "metadata": {},
          "execution_count": 41
        }
      ]
    },
    {
      "cell_type": "code",
      "source": [
        "Sig_feature.shape"
      ],
      "metadata": {
        "colab": {
          "base_uri": "https://localhost:8080/"
        },
        "id": "SEZFBChOn60l",
        "outputId": "13f0d4db-4314-4dcd-a2fb-dd724aed935a"
      },
      "execution_count": null,
      "outputs": [
        {
          "output_type": "execute_result",
          "data": {
            "text/plain": [
              "(558211, 19)"
            ]
          },
          "metadata": {},
          "execution_count": 42
        }
      ]
    },
    {
      "cell_type": "markdown",
      "source": [
        "## Run Model on this Signi. Features"
      ],
      "metadata": {
        "id": "N5RMxAsMnVIJ"
      }
    },
    {
      "cell_type": "code",
      "source": [
        "warnings.filterwarnings('ignore')\n",
        "\n",
        "plt.rcParams['figure.figsize'] = [15,8]\n",
        "\n",
        "from sklearn.naive_bayes import GaussianNB\n",
        "from sklearn.tree import DecisionTreeClassifier\n",
        "from sklearn.ensemble import RandomForestClassifier\n",
        "from sklearn.ensemble import AdaBoostClassifier\n",
        "\n",
        "from sklearn.metrics import roc_auc_score,cohen_kappa_score, confusion_matrix,classification_report, accuracy_score,f1_score\n",
        "from sklearn.model_selection import train_test_split"
      ],
      "metadata": {
        "id": "OhVud0CxnOGN"
      },
      "execution_count": null,
      "outputs": []
    },
    {
      "cell_type": "code",
      "source": [
        "X1 = final_df[Sig_feature.columns]\n",
        "y1 = final_df['PotentialFraud']\n",
        "\n",
        "xtrain,xtest,ytrain,ytest = train_test_split(X1,y1, train_size=0.8,random_state=10 )"
      ],
      "metadata": {
        "id": "L0WAIiANnpfa"
      },
      "execution_count": null,
      "outputs": []
    },
    {
      "cell_type": "code",
      "source": [
        "xtrain.shape"
      ],
      "metadata": {
        "colab": {
          "base_uri": "https://localhost:8080/"
        },
        "id": "gGt_KcQuoEGT",
        "outputId": "d1a65ba3-10e2-4957-bcff-fcd442b5ccc1"
      },
      "execution_count": null,
      "outputs": [
        {
          "output_type": "execute_result",
          "data": {
            "text/plain": [
              "(446568, 19)"
            ]
          },
          "metadata": {},
          "execution_count": 8
        }
      ]
    },
    {
      "cell_type": "code",
      "source": [
        "rf = RandomForestClassifier(random_state=10)\n",
        "rf.fit(xtrain,ytrain)\n",
        "\n",
        "y_pred_rf = rf.predict(xtest)\n",
        "y_train_rf = rf.predict(xtrain)\n",
        "ypred_proba_rf = rf.predict_proba(xtest)[:,1]\n",
        "\n",
        "print ('Train Accuracy: ',accuracy_score(ytrain,y_train_rf))\n",
        "print ('Test Accuracy: ',accuracy_score(ytest,y_pred_rf), '\\n')\n",
        "\n",
        "print('ROC-AUC Score: ',roc_auc_score(ytest,ypred_proba_rf))\n",
        "print('Cohen Cappa Score: ',cohen_kappa_score(ytest,y_pred_rf),'\\n')\n",
        "\n",
        "print(confusion_matrix(ytest,y_pred_rf),'\\n')\n",
        "\n",
        "print(classification_report(ytest,y_pred_rf))"
      ],
      "metadata": {
        "colab": {
          "base_uri": "https://localhost:8080/"
        },
        "id": "p8s1IH46oQka",
        "outputId": "8e8fe65d-166c-47c8-b2d8-5b037aa73e33"
      },
      "execution_count": null,
      "outputs": [
        {
          "output_type": "stream",
          "name": "stdout",
          "text": [
            "Train Accuracy:  0.9980652442629118\n",
            "Test Accuracy:  0.7395537561692179 \n",
            "\n",
            "ROC-AUC Score:  0.7895788910481464\n",
            "Cohen Cappa Score:  0.42714451814712273 \n",
            "\n",
            "[[58529 10695]\n",
            " [18382 24037]] \n",
            "\n",
            "              precision    recall  f1-score   support\n",
            "\n",
            "           0       0.76      0.85      0.80     69224\n",
            "           1       0.69      0.57      0.62     42419\n",
            "\n",
            "    accuracy                           0.74    111643\n",
            "   macro avg       0.73      0.71      0.71    111643\n",
            "weighted avg       0.73      0.74      0.73    111643\n",
            "\n"
          ]
        }
      ]
    },
    {
      "cell_type": "code",
      "source": [
        "dt = DecisionTreeClassifier(random_state=10)\n",
        "dt.fit(xtrain,ytrain)\n",
        "\n",
        "y_pred_dt = dt.predict(xtest)\n",
        "y_train_dt = dt.predict(xtrain)\n",
        "ypred_proba_dt = dt.predict_proba(xtest)[:,1]\n",
        "\n",
        "print ('Train Accuracy: ',accuracy_score(ytrain,y_train_dt))\n",
        "print ('Test Accuracy: ',accuracy_score(ytest,y_pred_dt), '\\n')\n",
        "\n",
        "print('ROC-AUC Score: ',roc_auc_score(ytest,ypred_proba_dt))\n",
        "print('Cohen Cappa Score: ',cohen_kappa_score(ytest,y_pred_dt),'\\n')\n",
        "\n",
        "print(confusion_matrix(ytest,y_pred_dt),'\\n')\n",
        "\n",
        "print(classification_report(ytest,y_pred_dt))"
      ],
      "metadata": {
        "colab": {
          "base_uri": "https://localhost:8080/"
        },
        "id": "9_vnVHlcobGF",
        "outputId": "b26adbf1-164b-4aa2-ea1e-daa76c4c7db4"
      },
      "execution_count": null,
      "outputs": [
        {
          "output_type": "stream",
          "name": "stdout",
          "text": [
            "Train Accuracy:  0.9980786800666416\n",
            "Test Accuracy:  0.7019159284505074 \n",
            "\n",
            "ROC-AUC Score:  0.6861375832704092\n",
            "Cohen Cappa Score:  0.36973043177954457 \n",
            "\n",
            "[[52173 17051]\n",
            " [16228 26191]] \n",
            "\n",
            "              precision    recall  f1-score   support\n",
            "\n",
            "           0       0.76      0.75      0.76     69224\n",
            "           1       0.61      0.62      0.61     42419\n",
            "\n",
            "    accuracy                           0.70    111643\n",
            "   macro avg       0.68      0.69      0.68    111643\n",
            "weighted avg       0.70      0.70      0.70    111643\n",
            "\n"
          ]
        }
      ]
    },
    {
      "cell_type": "code",
      "source": [
        "from xgboost import XGBClassifier\n",
        "xgb = XGBClassifier(random_state=10)\n",
        "xgb.fit(xtrain,ytrain)\n",
        "\n",
        "y_pred_xgb = xgb.predict(xtest)\n",
        "y_train_xgb = xgb.predict(xtrain)\n",
        "ypred_proba_xgb = xgb.predict_proba(xtest)[:,1]\n",
        "\n",
        "print ('Train Accuracy: ',accuracy_score(ytrain,y_train_xgb))\n",
        "print ('Test Accuracy: ',accuracy_score(ytest,y_pred_xgb), '\\n')\n",
        "\n",
        "print('ROC-AUC Score: ',roc_auc_score(ytest,ypred_proba_xgb))\n",
        "print('Cohen Cappa Score: ',cohen_kappa_score(ytest,y_pred_xgb),'\\n')\n",
        "\n",
        "print(confusion_matrix(ytest,y_pred_xgb),'\\n')\n",
        "\n",
        "print(classification_report(ytest,y_pred_xgb))"
      ],
      "metadata": {
        "colab": {
          "base_uri": "https://localhost:8080/"
        },
        "id": "oU4frbzwobSC",
        "outputId": "f8a24c2b-8fc7-496d-b09d-3a356b00fea5"
      },
      "execution_count": null,
      "outputs": [
        {
          "output_type": "stream",
          "name": "stdout",
          "text": [
            "Train Accuracy:  0.6877048960068791\n",
            "Test Accuracy:  0.6885429449226552 \n",
            "\n",
            "ROC-AUC Score:  0.7221108164907176\n",
            "Cohen Cappa Score:  0.276893035128826 \n",
            "\n",
            "[[61244  7980]\n",
            " [26792 15627]] \n",
            "\n",
            "              precision    recall  f1-score   support\n",
            "\n",
            "           0       0.70      0.88      0.78     69224\n",
            "           1       0.66      0.37      0.47     42419\n",
            "\n",
            "    accuracy                           0.69    111643\n",
            "   macro avg       0.68      0.63      0.63    111643\n",
            "weighted avg       0.68      0.69      0.66    111643\n",
            "\n"
          ]
        }
      ]
    },
    {
      "cell_type": "code",
      "source": [
        "! pip install catboost"
      ],
      "metadata": {
        "colab": {
          "base_uri": "https://localhost:8080/"
        },
        "id": "hnuoWqlPqq4X",
        "outputId": "90d2c69c-ba0c-4d89-cfe1-7d3648c5a39d"
      },
      "execution_count": null,
      "outputs": [
        {
          "output_type": "stream",
          "name": "stdout",
          "text": [
            "Requirement already satisfied: catboost in /usr/local/lib/python3.7/dist-packages (1.0.4)\n",
            "Requirement already satisfied: matplotlib in /usr/local/lib/python3.7/dist-packages (from catboost) (3.2.2)\n",
            "Requirement already satisfied: pandas>=0.24.0 in /usr/local/lib/python3.7/dist-packages (from catboost) (1.3.5)\n",
            "Requirement already satisfied: plotly in /usr/local/lib/python3.7/dist-packages (from catboost) (5.5.0)\n",
            "Requirement already satisfied: graphviz in /usr/local/lib/python3.7/dist-packages (from catboost) (0.10.1)\n",
            "Requirement already satisfied: scipy in /usr/local/lib/python3.7/dist-packages (from catboost) (1.4.1)\n",
            "Requirement already satisfied: six in /usr/local/lib/python3.7/dist-packages (from catboost) (1.15.0)\n",
            "Requirement already satisfied: numpy>=1.16.0 in /usr/local/lib/python3.7/dist-packages (from catboost) (1.21.5)\n",
            "Requirement already satisfied: pytz>=2017.3 in /usr/local/lib/python3.7/dist-packages (from pandas>=0.24.0->catboost) (2018.9)\n",
            "Requirement already satisfied: python-dateutil>=2.7.3 in /usr/local/lib/python3.7/dist-packages (from pandas>=0.24.0->catboost) (2.8.2)\n",
            "Requirement already satisfied: pyparsing!=2.0.4,!=2.1.2,!=2.1.6,>=2.0.1 in /usr/local/lib/python3.7/dist-packages (from matplotlib->catboost) (3.0.7)\n",
            "Requirement already satisfied: kiwisolver>=1.0.1 in /usr/local/lib/python3.7/dist-packages (from matplotlib->catboost) (1.4.0)\n",
            "Requirement already satisfied: cycler>=0.10 in /usr/local/lib/python3.7/dist-packages (from matplotlib->catboost) (0.11.0)\n",
            "Requirement already satisfied: typing-extensions in /usr/local/lib/python3.7/dist-packages (from kiwisolver>=1.0.1->matplotlib->catboost) (3.10.0.2)\n",
            "Requirement already satisfied: tenacity>=6.2.0 in /usr/local/lib/python3.7/dist-packages (from plotly->catboost) (8.0.1)\n"
          ]
        }
      ]
    },
    {
      "cell_type": "code",
      "source": [
        "from catboost import CatBoostClassifier\n",
        "cat = CatBoostClassifier(random_state=10)\n",
        "cat.fit(xtrain,ytrain)\n",
        "\n",
        "y_pred_cat = cat.predict(xtest)\n",
        "y_train_cat = cat.predict(xtrain)\n",
        "ypred_proba_cat = cat.predict_proba(xtest)[:,1]\n",
        "\n",
        "print ('Train Accuracy: ',accuracy_score(ytrain,y_train_cat))\n",
        "print ('Test Accuracy: ',accuracy_score(ytest,y_pred_cat), '\\n')\n",
        "\n",
        "print('ROC-AUC Score: ',roc_auc_score(ytest,ypred_proba_cat))\n",
        "print('Cohen Cappa Score: ',cohen_kappa_score(ytest,y_pred_cat),'\\n')\n",
        "\n",
        "print(confusion_matrix(ytest,y_pred_cat),'\\n')\n",
        "\n",
        "print(classification_report(ytest,y_pred_cat))"
      ],
      "metadata": {
        "colab": {
          "base_uri": "https://localhost:8080/"
        },
        "id": "RWe0F8pkojgq",
        "outputId": "dc8c7d3c-dbc4-4e0a-dfb1-bb3f1163627b"
      },
      "execution_count": null,
      "outputs": [
        {
          "output_type": "stream",
          "name": "stdout",
          "text": [
            "Learning rate set to 0.139456\n",
            "0:\tlearn: 0.6787938\ttotal: 181ms\tremaining: 3m 1s\n",
            "1:\tlearn: 0.6674139\ttotal: 291ms\tremaining: 2m 25s\n",
            "2:\tlearn: 0.6575992\ttotal: 519ms\tremaining: 2m 52s\n",
            "3:\tlearn: 0.6508343\ttotal: 757ms\tremaining: 3m 8s\n",
            "4:\tlearn: 0.6448866\ttotal: 1.03s\tremaining: 3m 24s\n",
            "5:\tlearn: 0.6402463\ttotal: 1.21s\tremaining: 3m 20s\n",
            "6:\tlearn: 0.6368464\ttotal: 1.31s\tremaining: 3m 5s\n",
            "7:\tlearn: 0.6332641\ttotal: 1.42s\tremaining: 2m 55s\n",
            "8:\tlearn: 0.6306566\ttotal: 1.55s\tremaining: 2m 50s\n",
            "9:\tlearn: 0.6284558\ttotal: 1.65s\tremaining: 2m 43s\n",
            "10:\tlearn: 0.6266398\ttotal: 1.74s\tremaining: 2m 36s\n",
            "11:\tlearn: 0.6251669\ttotal: 1.84s\tremaining: 2m 31s\n",
            "12:\tlearn: 0.6241297\ttotal: 1.94s\tremaining: 2m 27s\n",
            "13:\tlearn: 0.6216660\ttotal: 2.05s\tremaining: 2m 24s\n",
            "14:\tlearn: 0.6196997\ttotal: 2.15s\tremaining: 2m 21s\n",
            "15:\tlearn: 0.6182067\ttotal: 2.26s\tremaining: 2m 18s\n",
            "16:\tlearn: 0.6163054\ttotal: 2.38s\tremaining: 2m 17s\n",
            "17:\tlearn: 0.6144416\ttotal: 2.5s\tremaining: 2m 16s\n",
            "18:\tlearn: 0.6131796\ttotal: 2.61s\tremaining: 2m 14s\n",
            "19:\tlearn: 0.6121018\ttotal: 2.71s\tremaining: 2m 12s\n",
            "20:\tlearn: 0.6112999\ttotal: 2.8s\tremaining: 2m 10s\n",
            "21:\tlearn: 0.6107138\ttotal: 3s\tremaining: 2m 13s\n",
            "22:\tlearn: 0.6097985\ttotal: 3.14s\tremaining: 2m 13s\n",
            "23:\tlearn: 0.6086314\ttotal: 3.26s\tremaining: 2m 12s\n",
            "24:\tlearn: 0.6075449\ttotal: 3.36s\tremaining: 2m 11s\n",
            "25:\tlearn: 0.6070437\ttotal: 3.47s\tremaining: 2m 9s\n",
            "26:\tlearn: 0.6063179\ttotal: 3.58s\tremaining: 2m 9s\n",
            "27:\tlearn: 0.6050325\ttotal: 3.7s\tremaining: 2m 8s\n",
            "28:\tlearn: 0.6041835\ttotal: 3.8s\tremaining: 2m 7s\n",
            "29:\tlearn: 0.6035310\ttotal: 3.9s\tremaining: 2m 5s\n",
            "30:\tlearn: 0.6030476\ttotal: 3.99s\tremaining: 2m 4s\n",
            "31:\tlearn: 0.6017603\ttotal: 4.1s\tremaining: 2m 4s\n",
            "32:\tlearn: 0.6003944\ttotal: 4.21s\tremaining: 2m 3s\n",
            "33:\tlearn: 0.5992635\ttotal: 4.3s\tremaining: 2m 2s\n",
            "34:\tlearn: 0.5983962\ttotal: 4.41s\tremaining: 2m 1s\n",
            "35:\tlearn: 0.5977726\ttotal: 4.51s\tremaining: 2m\n",
            "36:\tlearn: 0.5968955\ttotal: 4.64s\tremaining: 2m\n",
            "37:\tlearn: 0.5960015\ttotal: 4.75s\tremaining: 2m\n",
            "38:\tlearn: 0.5952778\ttotal: 4.86s\tremaining: 1m 59s\n",
            "39:\tlearn: 0.5947062\ttotal: 5.03s\tremaining: 2m\n",
            "40:\tlearn: 0.5945258\ttotal: 5.28s\tremaining: 2m 3s\n",
            "41:\tlearn: 0.5936999\ttotal: 5.48s\tremaining: 2m 5s\n",
            "42:\tlearn: 0.5928479\ttotal: 5.7s\tremaining: 2m 6s\n",
            "43:\tlearn: 0.5920893\ttotal: 5.92s\tremaining: 2m 8s\n",
            "44:\tlearn: 0.5915202\ttotal: 6.14s\tremaining: 2m 10s\n",
            "45:\tlearn: 0.5906705\ttotal: 6.4s\tremaining: 2m 12s\n",
            "46:\tlearn: 0.5898211\ttotal: 6.66s\tremaining: 2m 14s\n",
            "47:\tlearn: 0.5895469\ttotal: 6.87s\tremaining: 2m 16s\n",
            "48:\tlearn: 0.5887765\ttotal: 7.12s\tremaining: 2m 18s\n",
            "49:\tlearn: 0.5881468\ttotal: 7.36s\tremaining: 2m 19s\n",
            "50:\tlearn: 0.5875978\ttotal: 7.58s\tremaining: 2m 21s\n",
            "51:\tlearn: 0.5870610\ttotal: 7.83s\tremaining: 2m 22s\n",
            "52:\tlearn: 0.5865635\ttotal: 8.05s\tremaining: 2m 23s\n",
            "53:\tlearn: 0.5863834\ttotal: 8.31s\tremaining: 2m 25s\n",
            "54:\tlearn: 0.5858012\ttotal: 8.54s\tremaining: 2m 26s\n",
            "55:\tlearn: 0.5853955\ttotal: 8.75s\tremaining: 2m 27s\n",
            "56:\tlearn: 0.5850597\ttotal: 8.89s\tremaining: 2m 27s\n",
            "57:\tlearn: 0.5845128\ttotal: 9.14s\tremaining: 2m 28s\n",
            "58:\tlearn: 0.5842710\ttotal: 9.37s\tremaining: 2m 29s\n",
            "59:\tlearn: 0.5841143\ttotal: 9.59s\tremaining: 2m 30s\n",
            "60:\tlearn: 0.5836085\ttotal: 9.91s\tremaining: 2m 32s\n",
            "61:\tlearn: 0.5832718\ttotal: 10.2s\tremaining: 2m 33s\n",
            "62:\tlearn: 0.5827708\ttotal: 10.4s\tremaining: 2m 34s\n",
            "63:\tlearn: 0.5819402\ttotal: 10.7s\tremaining: 2m 36s\n",
            "64:\tlearn: 0.5811223\ttotal: 10.9s\tremaining: 2m 37s\n",
            "65:\tlearn: 0.5804046\ttotal: 11.1s\tremaining: 2m 37s\n",
            "66:\tlearn: 0.5797743\ttotal: 11.5s\tremaining: 2m 39s\n",
            "67:\tlearn: 0.5791134\ttotal: 11.7s\tremaining: 2m 40s\n",
            "68:\tlearn: 0.5786706\ttotal: 12s\tremaining: 2m 42s\n",
            "69:\tlearn: 0.5785829\ttotal: 12.2s\tremaining: 2m 41s\n",
            "70:\tlearn: 0.5783559\ttotal: 12.4s\tremaining: 2m 41s\n",
            "71:\tlearn: 0.5780697\ttotal: 12.5s\tremaining: 2m 41s\n",
            "72:\tlearn: 0.5775172\ttotal: 12.8s\tremaining: 2m 42s\n",
            "73:\tlearn: 0.5773801\ttotal: 13s\tremaining: 2m 42s\n",
            "74:\tlearn: 0.5773029\ttotal: 13.2s\tremaining: 2m 42s\n",
            "75:\tlearn: 0.5768940\ttotal: 13.4s\tremaining: 2m 42s\n",
            "76:\tlearn: 0.5765187\ttotal: 13.6s\tremaining: 2m 43s\n",
            "77:\tlearn: 0.5764534\ttotal: 13.9s\tremaining: 2m 43s\n",
            "78:\tlearn: 0.5760190\ttotal: 14.1s\tremaining: 2m 44s\n",
            "79:\tlearn: 0.5758016\ttotal: 14.3s\tremaining: 2m 44s\n",
            "80:\tlearn: 0.5754241\ttotal: 14.5s\tremaining: 2m 45s\n",
            "81:\tlearn: 0.5753728\ttotal: 14.8s\tremaining: 2m 45s\n",
            "82:\tlearn: 0.5748909\ttotal: 15.1s\tremaining: 2m 46s\n",
            "83:\tlearn: 0.5743179\ttotal: 15.3s\tremaining: 2m 46s\n",
            "84:\tlearn: 0.5741383\ttotal: 15.5s\tremaining: 2m 47s\n",
            "85:\tlearn: 0.5738723\ttotal: 15.8s\tremaining: 2m 47s\n",
            "86:\tlearn: 0.5734380\ttotal: 16s\tremaining: 2m 47s\n",
            "87:\tlearn: 0.5732971\ttotal: 16.2s\tremaining: 2m 47s\n",
            "88:\tlearn: 0.5729649\ttotal: 16.4s\tremaining: 2m 48s\n",
            "89:\tlearn: 0.5728044\ttotal: 16.7s\tremaining: 2m 48s\n",
            "90:\tlearn: 0.5726334\ttotal: 16.9s\tremaining: 2m 49s\n",
            "91:\tlearn: 0.5721747\ttotal: 17.2s\tremaining: 2m 49s\n",
            "92:\tlearn: 0.5715316\ttotal: 17.5s\tremaining: 2m 50s\n",
            "93:\tlearn: 0.5711588\ttotal: 17.7s\tremaining: 2m 50s\n",
            "94:\tlearn: 0.5709547\ttotal: 17.9s\tremaining: 2m 50s\n",
            "95:\tlearn: 0.5707157\ttotal: 18.1s\tremaining: 2m 50s\n",
            "96:\tlearn: 0.5702419\ttotal: 18.4s\tremaining: 2m 50s\n",
            "97:\tlearn: 0.5699549\ttotal: 18.6s\tremaining: 2m 50s\n",
            "98:\tlearn: 0.5694380\ttotal: 18.8s\tremaining: 2m 51s\n",
            "99:\tlearn: 0.5688912\ttotal: 19.1s\tremaining: 2m 51s\n",
            "100:\tlearn: 0.5686227\ttotal: 19.3s\tremaining: 2m 51s\n",
            "101:\tlearn: 0.5681460\ttotal: 19.6s\tremaining: 2m 52s\n",
            "102:\tlearn: 0.5677922\ttotal: 19.9s\tremaining: 2m 52s\n",
            "103:\tlearn: 0.5675237\ttotal: 20.1s\tremaining: 2m 53s\n",
            "104:\tlearn: 0.5668943\ttotal: 20.4s\tremaining: 2m 54s\n",
            "105:\tlearn: 0.5667578\ttotal: 20.6s\tremaining: 2m 54s\n",
            "106:\tlearn: 0.5661885\ttotal: 21s\tremaining: 2m 55s\n",
            "107:\tlearn: 0.5657761\ttotal: 21.3s\tremaining: 2m 56s\n",
            "108:\tlearn: 0.5656181\ttotal: 21.6s\tremaining: 2m 56s\n",
            "109:\tlearn: 0.5651304\ttotal: 22s\tremaining: 2m 57s\n",
            "110:\tlearn: 0.5648053\ttotal: 22.2s\tremaining: 2m 57s\n",
            "111:\tlearn: 0.5644261\ttotal: 22.5s\tremaining: 2m 58s\n",
            "112:\tlearn: 0.5639981\ttotal: 22.9s\tremaining: 2m 59s\n",
            "113:\tlearn: 0.5638549\ttotal: 23.2s\tremaining: 3m\n",
            "114:\tlearn: 0.5635956\ttotal: 23.5s\tremaining: 3m\n",
            "115:\tlearn: 0.5633002\ttotal: 23.8s\tremaining: 3m 1s\n",
            "116:\tlearn: 0.5630558\ttotal: 24.1s\tremaining: 3m 1s\n",
            "117:\tlearn: 0.5627863\ttotal: 24.3s\tremaining: 3m 1s\n",
            "118:\tlearn: 0.5625414\ttotal: 24.5s\tremaining: 3m 1s\n",
            "119:\tlearn: 0.5623998\ttotal: 24.8s\tremaining: 3m 1s\n",
            "120:\tlearn: 0.5618945\ttotal: 25.1s\tremaining: 3m 2s\n",
            "121:\tlearn: 0.5616956\ttotal: 25.4s\tremaining: 3m 2s\n",
            "122:\tlearn: 0.5615157\ttotal: 25.7s\tremaining: 3m 3s\n",
            "123:\tlearn: 0.5609467\ttotal: 25.9s\tremaining: 3m 3s\n",
            "124:\tlearn: 0.5607591\ttotal: 26.2s\tremaining: 3m 3s\n",
            "125:\tlearn: 0.5604324\ttotal: 26.3s\tremaining: 3m 2s\n",
            "126:\tlearn: 0.5599108\ttotal: 26.5s\tremaining: 3m 2s\n",
            "127:\tlearn: 0.5595730\ttotal: 26.8s\tremaining: 3m 2s\n",
            "128:\tlearn: 0.5589605\ttotal: 27.1s\tremaining: 3m 2s\n",
            "129:\tlearn: 0.5584975\ttotal: 27.3s\tremaining: 3m 2s\n",
            "130:\tlearn: 0.5580545\ttotal: 27.6s\tremaining: 3m 2s\n",
            "131:\tlearn: 0.5578074\ttotal: 27.8s\tremaining: 3m 2s\n",
            "132:\tlearn: 0.5574777\ttotal: 28s\tremaining: 3m 2s\n",
            "133:\tlearn: 0.5573647\ttotal: 28.3s\tremaining: 3m 2s\n",
            "134:\tlearn: 0.5571193\ttotal: 28.7s\tremaining: 3m 3s\n",
            "135:\tlearn: 0.5569312\ttotal: 29s\tremaining: 3m 4s\n",
            "136:\tlearn: 0.5566679\ttotal: 29.2s\tremaining: 3m 4s\n",
            "137:\tlearn: 0.5564831\ttotal: 29.5s\tremaining: 3m 4s\n",
            "138:\tlearn: 0.5561328\ttotal: 29.7s\tremaining: 3m 4s\n",
            "139:\tlearn: 0.5559752\ttotal: 30.1s\tremaining: 3m 4s\n",
            "140:\tlearn: 0.5558964\ttotal: 30.3s\tremaining: 3m 4s\n",
            "141:\tlearn: 0.5557944\ttotal: 30.5s\tremaining: 3m 4s\n",
            "142:\tlearn: 0.5556327\ttotal: 30.6s\tremaining: 3m 3s\n",
            "143:\tlearn: 0.5550539\ttotal: 30.9s\tremaining: 3m 3s\n",
            "144:\tlearn: 0.5548021\ttotal: 31.2s\tremaining: 3m 3s\n",
            "145:\tlearn: 0.5546241\ttotal: 31.4s\tremaining: 3m 3s\n",
            "146:\tlearn: 0.5542672\ttotal: 31.7s\tremaining: 3m 3s\n",
            "147:\tlearn: 0.5542040\ttotal: 32s\tremaining: 3m 3s\n",
            "148:\tlearn: 0.5538612\ttotal: 32.2s\tremaining: 3m 4s\n",
            "149:\tlearn: 0.5534166\ttotal: 32.5s\tremaining: 3m 4s\n",
            "150:\tlearn: 0.5530542\ttotal: 32.7s\tremaining: 3m 4s\n",
            "151:\tlearn: 0.5526734\ttotal: 33s\tremaining: 3m 4s\n",
            "152:\tlearn: 0.5523349\ttotal: 33.3s\tremaining: 3m 4s\n",
            "153:\tlearn: 0.5520923\ttotal: 33.5s\tremaining: 3m 4s\n",
            "154:\tlearn: 0.5518509\ttotal: 33.8s\tremaining: 3m 4s\n",
            "155:\tlearn: 0.5516932\ttotal: 34s\tremaining: 3m 4s\n",
            "156:\tlearn: 0.5513918\ttotal: 34.3s\tremaining: 3m 3s\n",
            "157:\tlearn: 0.5511601\ttotal: 34.5s\tremaining: 3m 3s\n",
            "158:\tlearn: 0.5507118\ttotal: 34.7s\tremaining: 3m 3s\n",
            "159:\tlearn: 0.5505231\ttotal: 34.9s\tremaining: 3m 2s\n",
            "160:\tlearn: 0.5502330\ttotal: 35.1s\tremaining: 3m 2s\n",
            "161:\tlearn: 0.5501160\ttotal: 35.3s\tremaining: 3m 2s\n",
            "162:\tlearn: 0.5496046\ttotal: 35.6s\tremaining: 3m 2s\n",
            "163:\tlearn: 0.5493294\ttotal: 35.9s\tremaining: 3m 2s\n",
            "164:\tlearn: 0.5492821\ttotal: 36.1s\tremaining: 3m 2s\n",
            "165:\tlearn: 0.5490479\ttotal: 36.3s\tremaining: 3m 2s\n",
            "166:\tlearn: 0.5488741\ttotal: 36.6s\tremaining: 3m 2s\n",
            "167:\tlearn: 0.5488086\ttotal: 36.8s\tremaining: 3m 2s\n",
            "168:\tlearn: 0.5487569\ttotal: 37s\tremaining: 3m 2s\n",
            "169:\tlearn: 0.5485185\ttotal: 37.3s\tremaining: 3m 2s\n",
            "170:\tlearn: 0.5482548\ttotal: 37.6s\tremaining: 3m 2s\n",
            "171:\tlearn: 0.5481695\ttotal: 37.9s\tremaining: 3m 2s\n",
            "172:\tlearn: 0.5479458\ttotal: 38.1s\tremaining: 3m 2s\n",
            "173:\tlearn: 0.5474849\ttotal: 38.3s\tremaining: 3m 1s\n",
            "174:\tlearn: 0.5472215\ttotal: 38.6s\tremaining: 3m 1s\n",
            "175:\tlearn: 0.5468997\ttotal: 38.8s\tremaining: 3m 1s\n",
            "176:\tlearn: 0.5466586\ttotal: 39s\tremaining: 3m 1s\n",
            "177:\tlearn: 0.5464584\ttotal: 39.2s\tremaining: 3m 1s\n",
            "178:\tlearn: 0.5463499\ttotal: 39.4s\tremaining: 3m\n",
            "179:\tlearn: 0.5462203\ttotal: 39.6s\tremaining: 3m\n",
            "180:\tlearn: 0.5460323\ttotal: 39.8s\tremaining: 3m\n",
            "181:\tlearn: 0.5459471\ttotal: 40.1s\tremaining: 3m\n",
            "182:\tlearn: 0.5457259\ttotal: 40.3s\tremaining: 2m 59s\n",
            "183:\tlearn: 0.5455024\ttotal: 40.5s\tremaining: 2m 59s\n",
            "184:\tlearn: 0.5452245\ttotal: 40.8s\tremaining: 2m 59s\n",
            "185:\tlearn: 0.5449715\ttotal: 41s\tremaining: 2m 59s\n",
            "186:\tlearn: 0.5447661\ttotal: 41.2s\tremaining: 2m 59s\n",
            "187:\tlearn: 0.5446818\ttotal: 41.5s\tremaining: 2m 59s\n",
            "188:\tlearn: 0.5444296\ttotal: 41.7s\tremaining: 2m 59s\n",
            "189:\tlearn: 0.5442989\ttotal: 41.9s\tremaining: 2m 58s\n",
            "190:\tlearn: 0.5440767\ttotal: 42.2s\tremaining: 2m 58s\n",
            "191:\tlearn: 0.5435868\ttotal: 42.4s\tremaining: 2m 58s\n",
            "192:\tlearn: 0.5434635\ttotal: 42.6s\tremaining: 2m 58s\n",
            "193:\tlearn: 0.5432953\ttotal: 42.8s\tremaining: 2m 57s\n",
            "194:\tlearn: 0.5429932\ttotal: 43s\tremaining: 2m 57s\n",
            "195:\tlearn: 0.5427337\ttotal: 43.3s\tremaining: 2m 57s\n",
            "196:\tlearn: 0.5426323\ttotal: 43.5s\tremaining: 2m 57s\n",
            "197:\tlearn: 0.5424060\ttotal: 43.7s\tremaining: 2m 56s\n",
            "198:\tlearn: 0.5422255\ttotal: 43.9s\tremaining: 2m 56s\n",
            "199:\tlearn: 0.5419889\ttotal: 44.2s\tremaining: 2m 56s\n",
            "200:\tlearn: 0.5417679\ttotal: 44.5s\tremaining: 2m 56s\n",
            "201:\tlearn: 0.5416209\ttotal: 44.6s\tremaining: 2m 56s\n",
            "202:\tlearn: 0.5414725\ttotal: 44.9s\tremaining: 2m 56s\n",
            "203:\tlearn: 0.5412672\ttotal: 45.1s\tremaining: 2m 55s\n",
            "204:\tlearn: 0.5409761\ttotal: 45.3s\tremaining: 2m 55s\n",
            "205:\tlearn: 0.5406537\ttotal: 45.6s\tremaining: 2m 55s\n",
            "206:\tlearn: 0.5403062\ttotal: 45.8s\tremaining: 2m 55s\n",
            "207:\tlearn: 0.5401616\ttotal: 46s\tremaining: 2m 55s\n",
            "208:\tlearn: 0.5400635\ttotal: 46.2s\tremaining: 2m 54s\n",
            "209:\tlearn: 0.5399701\ttotal: 46.4s\tremaining: 2m 54s\n",
            "210:\tlearn: 0.5396880\ttotal: 46.6s\tremaining: 2m 54s\n",
            "211:\tlearn: 0.5393640\ttotal: 46.9s\tremaining: 2m 54s\n",
            "212:\tlearn: 0.5389398\ttotal: 47.1s\tremaining: 2m 54s\n",
            "213:\tlearn: 0.5387520\ttotal: 47.4s\tremaining: 2m 54s\n",
            "214:\tlearn: 0.5386532\ttotal: 47.6s\tremaining: 2m 53s\n",
            "215:\tlearn: 0.5384612\ttotal: 47.9s\tremaining: 2m 53s\n",
            "216:\tlearn: 0.5381256\ttotal: 48.1s\tremaining: 2m 53s\n",
            "217:\tlearn: 0.5380536\ttotal: 48.2s\tremaining: 2m 53s\n",
            "218:\tlearn: 0.5378591\ttotal: 48.4s\tremaining: 2m 52s\n",
            "219:\tlearn: 0.5377437\ttotal: 48.7s\tremaining: 2m 52s\n",
            "220:\tlearn: 0.5376410\ttotal: 48.9s\tremaining: 2m 52s\n",
            "221:\tlearn: 0.5375532\ttotal: 49.1s\tremaining: 2m 52s\n",
            "222:\tlearn: 0.5374610\ttotal: 49.3s\tremaining: 2m 51s\n",
            "223:\tlearn: 0.5370977\ttotal: 49.5s\tremaining: 2m 51s\n",
            "224:\tlearn: 0.5370463\ttotal: 49.8s\tremaining: 2m 51s\n",
            "225:\tlearn: 0.5367208\ttotal: 50s\tremaining: 2m 51s\n",
            "226:\tlearn: 0.5366129\ttotal: 50.3s\tremaining: 2m 51s\n",
            "227:\tlearn: 0.5365770\ttotal: 50.6s\tremaining: 2m 51s\n",
            "228:\tlearn: 0.5364258\ttotal: 50.8s\tremaining: 2m 51s\n",
            "229:\tlearn: 0.5362478\ttotal: 51.1s\tremaining: 2m 50s\n",
            "230:\tlearn: 0.5359843\ttotal: 51.3s\tremaining: 2m 50s\n",
            "231:\tlearn: 0.5358395\ttotal: 51.5s\tremaining: 2m 50s\n",
            "232:\tlearn: 0.5357489\ttotal: 51.6s\tremaining: 2m 50s\n",
            "233:\tlearn: 0.5355915\ttotal: 51.8s\tremaining: 2m 49s\n",
            "234:\tlearn: 0.5355036\ttotal: 52s\tremaining: 2m 49s\n",
            "235:\tlearn: 0.5354217\ttotal: 52.2s\tremaining: 2m 49s\n",
            "236:\tlearn: 0.5353711\ttotal: 52.5s\tremaining: 2m 48s\n",
            "237:\tlearn: 0.5352245\ttotal: 52.6s\tremaining: 2m 48s\n",
            "238:\tlearn: 0.5350392\ttotal: 52.8s\tremaining: 2m 48s\n",
            "239:\tlearn: 0.5347588\ttotal: 53.1s\tremaining: 2m 48s\n",
            "240:\tlearn: 0.5344616\ttotal: 53.3s\tremaining: 2m 47s\n",
            "241:\tlearn: 0.5342283\ttotal: 53.5s\tremaining: 2m 47s\n",
            "242:\tlearn: 0.5341155\ttotal: 53.7s\tremaining: 2m 47s\n",
            "243:\tlearn: 0.5339241\ttotal: 53.9s\tremaining: 2m 46s\n",
            "244:\tlearn: 0.5336477\ttotal: 54s\tremaining: 2m 46s\n",
            "245:\tlearn: 0.5336095\ttotal: 54.3s\tremaining: 2m 46s\n",
            "246:\tlearn: 0.5335427\ttotal: 54.6s\tremaining: 2m 46s\n",
            "247:\tlearn: 0.5334631\ttotal: 54.8s\tremaining: 2m 46s\n",
            "248:\tlearn: 0.5334286\ttotal: 55s\tremaining: 2m 45s\n",
            "249:\tlearn: 0.5332397\ttotal: 55.2s\tremaining: 2m 45s\n",
            "250:\tlearn: 0.5331941\ttotal: 55.4s\tremaining: 2m 45s\n",
            "251:\tlearn: 0.5330306\ttotal: 55.7s\tremaining: 2m 45s\n",
            "252:\tlearn: 0.5327270\ttotal: 55.9s\tremaining: 2m 44s\n",
            "253:\tlearn: 0.5326156\ttotal: 56.1s\tremaining: 2m 44s\n",
            "254:\tlearn: 0.5323897\ttotal: 56.3s\tremaining: 2m 44s\n",
            "255:\tlearn: 0.5322827\ttotal: 56.5s\tremaining: 2m 44s\n",
            "256:\tlearn: 0.5321667\ttotal: 56.7s\tremaining: 2m 43s\n",
            "257:\tlearn: 0.5321173\ttotal: 56.8s\tremaining: 2m 43s\n",
            "258:\tlearn: 0.5319984\ttotal: 56.9s\tremaining: 2m 42s\n",
            "259:\tlearn: 0.5318103\ttotal: 57s\tremaining: 2m 42s\n",
            "260:\tlearn: 0.5316137\ttotal: 57.2s\tremaining: 2m 41s\n",
            "261:\tlearn: 0.5315114\ttotal: 57.3s\tremaining: 2m 41s\n",
            "262:\tlearn: 0.5313056\ttotal: 57.4s\tremaining: 2m 40s\n",
            "263:\tlearn: 0.5312743\ttotal: 57.5s\tremaining: 2m 40s\n",
            "264:\tlearn: 0.5311751\ttotal: 57.6s\tremaining: 2m 39s\n",
            "265:\tlearn: 0.5310460\ttotal: 57.7s\tremaining: 2m 39s\n",
            "266:\tlearn: 0.5308192\ttotal: 57.8s\tremaining: 2m 38s\n",
            "267:\tlearn: 0.5306371\ttotal: 57.9s\tremaining: 2m 38s\n",
            "268:\tlearn: 0.5306059\ttotal: 58s\tremaining: 2m 37s\n",
            "269:\tlearn: 0.5303075\ttotal: 58.2s\tremaining: 2m 37s\n",
            "270:\tlearn: 0.5300906\ttotal: 58.3s\tremaining: 2m 36s\n",
            "271:\tlearn: 0.5300613\ttotal: 58.4s\tremaining: 2m 36s\n",
            "272:\tlearn: 0.5300140\ttotal: 58.5s\tremaining: 2m 35s\n",
            "273:\tlearn: 0.5298058\ttotal: 58.6s\tremaining: 2m 35s\n",
            "274:\tlearn: 0.5297449\ttotal: 58.7s\tremaining: 2m 34s\n",
            "275:\tlearn: 0.5296662\ttotal: 58.8s\tremaining: 2m 34s\n",
            "276:\tlearn: 0.5295933\ttotal: 58.9s\tremaining: 2m 33s\n",
            "277:\tlearn: 0.5293445\ttotal: 59s\tremaining: 2m 33s\n",
            "278:\tlearn: 0.5293127\ttotal: 59.1s\tremaining: 2m 32s\n",
            "279:\tlearn: 0.5292743\ttotal: 59.2s\tremaining: 2m 32s\n",
            "280:\tlearn: 0.5291267\ttotal: 59.3s\tremaining: 2m 31s\n",
            "281:\tlearn: 0.5290952\ttotal: 59.4s\tremaining: 2m 31s\n",
            "282:\tlearn: 0.5290539\ttotal: 59.5s\tremaining: 2m 30s\n",
            "283:\tlearn: 0.5289096\ttotal: 59.6s\tremaining: 2m 30s\n",
            "284:\tlearn: 0.5288432\ttotal: 59.7s\tremaining: 2m 29s\n",
            "285:\tlearn: 0.5287665\ttotal: 59.8s\tremaining: 2m 29s\n",
            "286:\tlearn: 0.5286297\ttotal: 59.9s\tremaining: 2m 28s\n",
            "287:\tlearn: 0.5284892\ttotal: 1m\tremaining: 2m 28s\n",
            "288:\tlearn: 0.5283328\ttotal: 1m\tremaining: 2m 27s\n",
            "289:\tlearn: 0.5282889\ttotal: 1m\tremaining: 2m 27s\n",
            "290:\tlearn: 0.5282374\ttotal: 1m\tremaining: 2m 27s\n",
            "291:\tlearn: 0.5281972\ttotal: 1m\tremaining: 2m 26s\n",
            "292:\tlearn: 0.5280817\ttotal: 1m\tremaining: 2m 26s\n",
            "293:\tlearn: 0.5279843\ttotal: 1m\tremaining: 2m 25s\n",
            "294:\tlearn: 0.5278936\ttotal: 1m\tremaining: 2m 25s\n",
            "295:\tlearn: 0.5276759\ttotal: 1m\tremaining: 2m 24s\n",
            "296:\tlearn: 0.5276242\ttotal: 1m\tremaining: 2m 24s\n",
            "297:\tlearn: 0.5271385\ttotal: 1m 1s\tremaining: 2m 23s\n",
            "298:\tlearn: 0.5269612\ttotal: 1m 1s\tremaining: 2m 23s\n",
            "299:\tlearn: 0.5267857\ttotal: 1m 1s\tremaining: 2m 23s\n",
            "300:\tlearn: 0.5266590\ttotal: 1m 1s\tremaining: 2m 22s\n",
            "301:\tlearn: 0.5263710\ttotal: 1m 1s\tremaining: 2m 22s\n",
            "302:\tlearn: 0.5262920\ttotal: 1m 1s\tremaining: 2m 21s\n",
            "303:\tlearn: 0.5261017\ttotal: 1m 1s\tremaining: 2m 21s\n",
            "304:\tlearn: 0.5260640\ttotal: 1m 1s\tremaining: 2m 20s\n",
            "305:\tlearn: 0.5259511\ttotal: 1m 1s\tremaining: 2m 20s\n",
            "306:\tlearn: 0.5258613\ttotal: 1m 2s\tremaining: 2m 20s\n",
            "307:\tlearn: 0.5256884\ttotal: 1m 2s\tremaining: 2m 19s\n",
            "308:\tlearn: 0.5255947\ttotal: 1m 2s\tremaining: 2m 19s\n",
            "309:\tlearn: 0.5254709\ttotal: 1m 2s\tremaining: 2m 18s\n",
            "310:\tlearn: 0.5254307\ttotal: 1m 2s\tremaining: 2m 18s\n",
            "311:\tlearn: 0.5253236\ttotal: 1m 2s\tremaining: 2m 18s\n",
            "312:\tlearn: 0.5252174\ttotal: 1m 2s\tremaining: 2m 17s\n",
            "313:\tlearn: 0.5251789\ttotal: 1m 2s\tremaining: 2m 17s\n",
            "314:\tlearn: 0.5248364\ttotal: 1m 2s\tremaining: 2m 16s\n",
            "315:\tlearn: 0.5246869\ttotal: 1m 3s\tremaining: 2m 16s\n",
            "316:\tlearn: 0.5244568\ttotal: 1m 3s\tremaining: 2m 16s\n",
            "317:\tlearn: 0.5242645\ttotal: 1m 3s\tremaining: 2m 15s\n",
            "318:\tlearn: 0.5241528\ttotal: 1m 3s\tremaining: 2m 15s\n",
            "319:\tlearn: 0.5240863\ttotal: 1m 3s\tremaining: 2m 14s\n",
            "320:\tlearn: 0.5239602\ttotal: 1m 3s\tremaining: 2m 14s\n",
            "321:\tlearn: 0.5237977\ttotal: 1m 3s\tremaining: 2m 14s\n",
            "322:\tlearn: 0.5237684\ttotal: 1m 3s\tremaining: 2m 13s\n",
            "323:\tlearn: 0.5235250\ttotal: 1m 3s\tremaining: 2m 13s\n",
            "324:\tlearn: 0.5233916\ttotal: 1m 4s\tremaining: 2m 13s\n",
            "325:\tlearn: 0.5232457\ttotal: 1m 4s\tremaining: 2m 12s\n",
            "326:\tlearn: 0.5228405\ttotal: 1m 4s\tremaining: 2m 12s\n",
            "327:\tlearn: 0.5226528\ttotal: 1m 4s\tremaining: 2m 11s\n",
            "328:\tlearn: 0.5225313\ttotal: 1m 4s\tremaining: 2m 11s\n",
            "329:\tlearn: 0.5224812\ttotal: 1m 4s\tremaining: 2m 11s\n",
            "330:\tlearn: 0.5224293\ttotal: 1m 4s\tremaining: 2m 10s\n",
            "331:\tlearn: 0.5222636\ttotal: 1m 4s\tremaining: 2m 10s\n",
            "332:\tlearn: 0.5222297\ttotal: 1m 4s\tremaining: 2m 10s\n",
            "333:\tlearn: 0.5221304\ttotal: 1m 5s\tremaining: 2m 9s\n",
            "334:\tlearn: 0.5220905\ttotal: 1m 5s\tremaining: 2m 9s\n",
            "335:\tlearn: 0.5220353\ttotal: 1m 5s\tremaining: 2m 8s\n",
            "336:\tlearn: 0.5219363\ttotal: 1m 5s\tremaining: 2m 8s\n",
            "337:\tlearn: 0.5218554\ttotal: 1m 5s\tremaining: 2m 8s\n",
            "338:\tlearn: 0.5216877\ttotal: 1m 5s\tremaining: 2m 7s\n",
            "339:\tlearn: 0.5216397\ttotal: 1m 5s\tremaining: 2m 7s\n",
            "340:\tlearn: 0.5215714\ttotal: 1m 5s\tremaining: 2m 7s\n",
            "341:\tlearn: 0.5214962\ttotal: 1m 5s\tremaining: 2m 6s\n",
            "342:\tlearn: 0.5212397\ttotal: 1m 6s\tremaining: 2m 6s\n",
            "343:\tlearn: 0.5210584\ttotal: 1m 6s\tremaining: 2m 6s\n",
            "344:\tlearn: 0.5210023\ttotal: 1m 6s\tremaining: 2m 5s\n",
            "345:\tlearn: 0.5209495\ttotal: 1m 6s\tremaining: 2m 5s\n",
            "346:\tlearn: 0.5209148\ttotal: 1m 6s\tremaining: 2m 5s\n",
            "347:\tlearn: 0.5208725\ttotal: 1m 6s\tremaining: 2m 4s\n",
            "348:\tlearn: 0.5208440\ttotal: 1m 6s\tremaining: 2m 4s\n",
            "349:\tlearn: 0.5207670\ttotal: 1m 6s\tremaining: 2m 4s\n",
            "350:\tlearn: 0.5207292\ttotal: 1m 6s\tremaining: 2m 3s\n",
            "351:\tlearn: 0.5206741\ttotal: 1m 6s\tremaining: 2m 3s\n",
            "352:\tlearn: 0.5206293\ttotal: 1m 7s\tremaining: 2m 2s\n",
            "353:\tlearn: 0.5204807\ttotal: 1m 7s\tremaining: 2m 2s\n",
            "354:\tlearn: 0.5203148\ttotal: 1m 7s\tremaining: 2m 2s\n",
            "355:\tlearn: 0.5202705\ttotal: 1m 7s\tremaining: 2m 1s\n",
            "356:\tlearn: 0.5201991\ttotal: 1m 7s\tremaining: 2m 1s\n",
            "357:\tlearn: 0.5200977\ttotal: 1m 7s\tremaining: 2m 1s\n",
            "358:\tlearn: 0.5199820\ttotal: 1m 7s\tremaining: 2m\n",
            "359:\tlearn: 0.5199463\ttotal: 1m 7s\tremaining: 2m\n",
            "360:\tlearn: 0.5198213\ttotal: 1m 7s\tremaining: 2m\n",
            "361:\tlearn: 0.5196828\ttotal: 1m 8s\tremaining: 1m 59s\n",
            "362:\tlearn: 0.5196283\ttotal: 1m 8s\tremaining: 1m 59s\n",
            "363:\tlearn: 0.5194820\ttotal: 1m 8s\tremaining: 1m 59s\n",
            "364:\tlearn: 0.5194551\ttotal: 1m 8s\tremaining: 1m 58s\n",
            "365:\tlearn: 0.5194271\ttotal: 1m 8s\tremaining: 1m 58s\n",
            "366:\tlearn: 0.5193455\ttotal: 1m 8s\tremaining: 1m 58s\n",
            "367:\tlearn: 0.5192451\ttotal: 1m 8s\tremaining: 1m 57s\n",
            "368:\tlearn: 0.5189549\ttotal: 1m 8s\tremaining: 1m 57s\n",
            "369:\tlearn: 0.5189184\ttotal: 1m 8s\tremaining: 1m 57s\n",
            "370:\tlearn: 0.5188947\ttotal: 1m 8s\tremaining: 1m 56s\n",
            "371:\tlearn: 0.5187398\ttotal: 1m 9s\tremaining: 1m 56s\n",
            "372:\tlearn: 0.5187184\ttotal: 1m 9s\tremaining: 1m 56s\n",
            "373:\tlearn: 0.5186917\ttotal: 1m 9s\tremaining: 1m 55s\n",
            "374:\tlearn: 0.5186552\ttotal: 1m 9s\tremaining: 1m 55s\n",
            "375:\tlearn: 0.5185413\ttotal: 1m 9s\tremaining: 1m 55s\n",
            "376:\tlearn: 0.5184925\ttotal: 1m 9s\tremaining: 1m 55s\n",
            "377:\tlearn: 0.5184557\ttotal: 1m 9s\tremaining: 1m 54s\n",
            "378:\tlearn: 0.5184092\ttotal: 1m 9s\tremaining: 1m 54s\n",
            "379:\tlearn: 0.5182490\ttotal: 1m 9s\tremaining: 1m 54s\n",
            "380:\tlearn: 0.5182242\ttotal: 1m 10s\tremaining: 1m 53s\n",
            "381:\tlearn: 0.5180285\ttotal: 1m 10s\tremaining: 1m 53s\n",
            "382:\tlearn: 0.5179931\ttotal: 1m 10s\tremaining: 1m 53s\n",
            "383:\tlearn: 0.5178319\ttotal: 1m 10s\tremaining: 1m 52s\n",
            "384:\tlearn: 0.5177404\ttotal: 1m 10s\tremaining: 1m 52s\n",
            "385:\tlearn: 0.5175915\ttotal: 1m 10s\tremaining: 1m 52s\n",
            "386:\tlearn: 0.5175591\ttotal: 1m 10s\tremaining: 1m 51s\n",
            "387:\tlearn: 0.5173208\ttotal: 1m 10s\tremaining: 1m 51s\n",
            "388:\tlearn: 0.5171735\ttotal: 1m 10s\tremaining: 1m 51s\n",
            "389:\tlearn: 0.5170444\ttotal: 1m 11s\tremaining: 1m 51s\n",
            "390:\tlearn: 0.5169851\ttotal: 1m 11s\tremaining: 1m 50s\n",
            "391:\tlearn: 0.5169517\ttotal: 1m 11s\tremaining: 1m 50s\n",
            "392:\tlearn: 0.5168884\ttotal: 1m 11s\tremaining: 1m 50s\n",
            "393:\tlearn: 0.5167523\ttotal: 1m 11s\tremaining: 1m 49s\n",
            "394:\tlearn: 0.5167291\ttotal: 1m 11s\tremaining: 1m 49s\n",
            "395:\tlearn: 0.5165821\ttotal: 1m 11s\tremaining: 1m 49s\n",
            "396:\tlearn: 0.5164769\ttotal: 1m 11s\tremaining: 1m 49s\n",
            "397:\tlearn: 0.5163732\ttotal: 1m 11s\tremaining: 1m 48s\n",
            "398:\tlearn: 0.5162982\ttotal: 1m 11s\tremaining: 1m 48s\n",
            "399:\tlearn: 0.5162207\ttotal: 1m 12s\tremaining: 1m 48s\n",
            "400:\tlearn: 0.5161358\ttotal: 1m 12s\tremaining: 1m 47s\n",
            "401:\tlearn: 0.5159772\ttotal: 1m 12s\tremaining: 1m 47s\n",
            "402:\tlearn: 0.5159484\ttotal: 1m 12s\tremaining: 1m 47s\n",
            "403:\tlearn: 0.5158136\ttotal: 1m 12s\tremaining: 1m 46s\n",
            "404:\tlearn: 0.5157851\ttotal: 1m 12s\tremaining: 1m 46s\n",
            "405:\tlearn: 0.5156487\ttotal: 1m 12s\tremaining: 1m 46s\n",
            "406:\tlearn: 0.5155967\ttotal: 1m 12s\tremaining: 1m 46s\n",
            "407:\tlearn: 0.5155760\ttotal: 1m 12s\tremaining: 1m 45s\n",
            "408:\tlearn: 0.5155517\ttotal: 1m 13s\tremaining: 1m 45s\n",
            "409:\tlearn: 0.5153849\ttotal: 1m 13s\tremaining: 1m 45s\n",
            "410:\tlearn: 0.5152666\ttotal: 1m 13s\tremaining: 1m 45s\n",
            "411:\tlearn: 0.5152308\ttotal: 1m 13s\tremaining: 1m 44s\n",
            "412:\tlearn: 0.5151411\ttotal: 1m 13s\tremaining: 1m 44s\n",
            "413:\tlearn: 0.5150571\ttotal: 1m 13s\tremaining: 1m 44s\n",
            "414:\tlearn: 0.5150317\ttotal: 1m 13s\tremaining: 1m 43s\n",
            "415:\tlearn: 0.5149511\ttotal: 1m 13s\tremaining: 1m 43s\n",
            "416:\tlearn: 0.5149364\ttotal: 1m 13s\tremaining: 1m 43s\n",
            "417:\tlearn: 0.5148701\ttotal: 1m 14s\tremaining: 1m 43s\n",
            "418:\tlearn: 0.5147724\ttotal: 1m 14s\tremaining: 1m 42s\n",
            "419:\tlearn: 0.5145609\ttotal: 1m 14s\tremaining: 1m 42s\n",
            "420:\tlearn: 0.5144825\ttotal: 1m 14s\tremaining: 1m 42s\n",
            "421:\tlearn: 0.5144479\ttotal: 1m 14s\tremaining: 1m 41s\n",
            "422:\tlearn: 0.5144143\ttotal: 1m 14s\tremaining: 1m 41s\n",
            "423:\tlearn: 0.5143840\ttotal: 1m 14s\tremaining: 1m 41s\n",
            "424:\tlearn: 0.5142396\ttotal: 1m 14s\tremaining: 1m 41s\n",
            "425:\tlearn: 0.5141895\ttotal: 1m 14s\tremaining: 1m 40s\n",
            "426:\tlearn: 0.5139789\ttotal: 1m 14s\tremaining: 1m 40s\n",
            "427:\tlearn: 0.5138195\ttotal: 1m 15s\tremaining: 1m 40s\n",
            "428:\tlearn: 0.5137052\ttotal: 1m 15s\tremaining: 1m 40s\n",
            "429:\tlearn: 0.5136699\ttotal: 1m 15s\tremaining: 1m 39s\n",
            "430:\tlearn: 0.5135210\ttotal: 1m 15s\tremaining: 1m 39s\n",
            "431:\tlearn: 0.5134821\ttotal: 1m 15s\tremaining: 1m 39s\n",
            "432:\tlearn: 0.5133907\ttotal: 1m 15s\tremaining: 1m 39s\n",
            "433:\tlearn: 0.5133514\ttotal: 1m 15s\tremaining: 1m 38s\n",
            "434:\tlearn: 0.5132903\ttotal: 1m 15s\tremaining: 1m 38s\n",
            "435:\tlearn: 0.5132372\ttotal: 1m 15s\tremaining: 1m 38s\n",
            "436:\tlearn: 0.5132102\ttotal: 1m 16s\tremaining: 1m 37s\n",
            "437:\tlearn: 0.5130547\ttotal: 1m 16s\tremaining: 1m 37s\n",
            "438:\tlearn: 0.5129177\ttotal: 1m 16s\tremaining: 1m 37s\n",
            "439:\tlearn: 0.5128934\ttotal: 1m 16s\tremaining: 1m 37s\n",
            "440:\tlearn: 0.5128056\ttotal: 1m 16s\tremaining: 1m 36s\n",
            "441:\tlearn: 0.5127258\ttotal: 1m 16s\tremaining: 1m 36s\n",
            "442:\tlearn: 0.5126745\ttotal: 1m 16s\tremaining: 1m 36s\n",
            "443:\tlearn: 0.5125903\ttotal: 1m 16s\tremaining: 1m 36s\n",
            "444:\tlearn: 0.5125572\ttotal: 1m 16s\tremaining: 1m 35s\n",
            "445:\tlearn: 0.5125181\ttotal: 1m 16s\tremaining: 1m 35s\n",
            "446:\tlearn: 0.5124646\ttotal: 1m 17s\tremaining: 1m 35s\n",
            "447:\tlearn: 0.5124370\ttotal: 1m 17s\tremaining: 1m 35s\n",
            "448:\tlearn: 0.5124059\ttotal: 1m 17s\tremaining: 1m 34s\n",
            "449:\tlearn: 0.5123241\ttotal: 1m 17s\tremaining: 1m 34s\n",
            "450:\tlearn: 0.5122122\ttotal: 1m 17s\tremaining: 1m 34s\n",
            "451:\tlearn: 0.5120710\ttotal: 1m 17s\tremaining: 1m 34s\n",
            "452:\tlearn: 0.5119042\ttotal: 1m 17s\tremaining: 1m 33s\n",
            "453:\tlearn: 0.5118661\ttotal: 1m 17s\tremaining: 1m 33s\n",
            "454:\tlearn: 0.5118282\ttotal: 1m 17s\tremaining: 1m 33s\n",
            "455:\tlearn: 0.5116981\ttotal: 1m 18s\tremaining: 1m 33s\n",
            "456:\tlearn: 0.5116327\ttotal: 1m 18s\tremaining: 1m 32s\n",
            "457:\tlearn: 0.5115947\ttotal: 1m 18s\tremaining: 1m 32s\n",
            "458:\tlearn: 0.5115263\ttotal: 1m 18s\tremaining: 1m 32s\n",
            "459:\tlearn: 0.5114862\ttotal: 1m 18s\tremaining: 1m 32s\n",
            "460:\tlearn: 0.5114596\ttotal: 1m 18s\tremaining: 1m 31s\n",
            "461:\tlearn: 0.5113920\ttotal: 1m 18s\tremaining: 1m 31s\n",
            "462:\tlearn: 0.5113497\ttotal: 1m 18s\tremaining: 1m 31s\n",
            "463:\tlearn: 0.5112779\ttotal: 1m 18s\tremaining: 1m 31s\n",
            "464:\tlearn: 0.5112481\ttotal: 1m 18s\tremaining: 1m 30s\n",
            "465:\tlearn: 0.5111927\ttotal: 1m 19s\tremaining: 1m 30s\n",
            "466:\tlearn: 0.5111637\ttotal: 1m 19s\tremaining: 1m 30s\n",
            "467:\tlearn: 0.5111206\ttotal: 1m 19s\tremaining: 1m 30s\n",
            "468:\tlearn: 0.5110950\ttotal: 1m 19s\tremaining: 1m 29s\n",
            "469:\tlearn: 0.5110434\ttotal: 1m 19s\tremaining: 1m 29s\n",
            "470:\tlearn: 0.5110009\ttotal: 1m 19s\tremaining: 1m 29s\n",
            "471:\tlearn: 0.5107746\ttotal: 1m 19s\tremaining: 1m 29s\n",
            "472:\tlearn: 0.5106327\ttotal: 1m 19s\tremaining: 1m 28s\n",
            "473:\tlearn: 0.5104718\ttotal: 1m 19s\tremaining: 1m 28s\n",
            "474:\tlearn: 0.5104214\ttotal: 1m 20s\tremaining: 1m 28s\n",
            "475:\tlearn: 0.5103605\ttotal: 1m 20s\tremaining: 1m 28s\n",
            "476:\tlearn: 0.5102947\ttotal: 1m 20s\tremaining: 1m 28s\n",
            "477:\tlearn: 0.5099977\ttotal: 1m 20s\tremaining: 1m 27s\n",
            "478:\tlearn: 0.5099702\ttotal: 1m 20s\tremaining: 1m 27s\n",
            "479:\tlearn: 0.5099345\ttotal: 1m 20s\tremaining: 1m 27s\n",
            "480:\tlearn: 0.5097819\ttotal: 1m 20s\tremaining: 1m 27s\n",
            "481:\tlearn: 0.5097444\ttotal: 1m 20s\tremaining: 1m 26s\n",
            "482:\tlearn: 0.5097202\ttotal: 1m 20s\tremaining: 1m 26s\n",
            "483:\tlearn: 0.5096803\ttotal: 1m 21s\tremaining: 1m 26s\n",
            "484:\tlearn: 0.5096496\ttotal: 1m 21s\tremaining: 1m 26s\n",
            "485:\tlearn: 0.5096241\ttotal: 1m 21s\tremaining: 1m 25s\n",
            "486:\tlearn: 0.5095921\ttotal: 1m 21s\tremaining: 1m 25s\n",
            "487:\tlearn: 0.5095738\ttotal: 1m 21s\tremaining: 1m 25s\n",
            "488:\tlearn: 0.5095549\ttotal: 1m 21s\tremaining: 1m 25s\n",
            "489:\tlearn: 0.5095208\ttotal: 1m 21s\tremaining: 1m 25s\n",
            "490:\tlearn: 0.5094691\ttotal: 1m 21s\tremaining: 1m 24s\n",
            "491:\tlearn: 0.5094481\ttotal: 1m 21s\tremaining: 1m 24s\n",
            "492:\tlearn: 0.5094165\ttotal: 1m 21s\tremaining: 1m 24s\n",
            "493:\tlearn: 0.5091626\ttotal: 1m 22s\tremaining: 1m 24s\n",
            "494:\tlearn: 0.5091309\ttotal: 1m 22s\tremaining: 1m 23s\n",
            "495:\tlearn: 0.5090940\ttotal: 1m 22s\tremaining: 1m 23s\n",
            "496:\tlearn: 0.5090748\ttotal: 1m 22s\tremaining: 1m 23s\n",
            "497:\tlearn: 0.5090113\ttotal: 1m 22s\tremaining: 1m 23s\n",
            "498:\tlearn: 0.5089959\ttotal: 1m 22s\tremaining: 1m 22s\n",
            "499:\tlearn: 0.5089726\ttotal: 1m 22s\tremaining: 1m 22s\n",
            "500:\tlearn: 0.5089406\ttotal: 1m 22s\tremaining: 1m 22s\n",
            "501:\tlearn: 0.5089165\ttotal: 1m 22s\tremaining: 1m 22s\n",
            "502:\tlearn: 0.5088850\ttotal: 1m 23s\tremaining: 1m 22s\n",
            "503:\tlearn: 0.5088651\ttotal: 1m 23s\tremaining: 1m 21s\n",
            "504:\tlearn: 0.5087438\ttotal: 1m 23s\tremaining: 1m 21s\n",
            "505:\tlearn: 0.5086783\ttotal: 1m 23s\tremaining: 1m 21s\n",
            "506:\tlearn: 0.5085898\ttotal: 1m 23s\tremaining: 1m 21s\n",
            "507:\tlearn: 0.5085577\ttotal: 1m 23s\tremaining: 1m 20s\n",
            "508:\tlearn: 0.5084448\ttotal: 1m 23s\tremaining: 1m 20s\n",
            "509:\tlearn: 0.5084181\ttotal: 1m 23s\tremaining: 1m 20s\n",
            "510:\tlearn: 0.5083611\ttotal: 1m 23s\tremaining: 1m 20s\n",
            "511:\tlearn: 0.5083068\ttotal: 1m 24s\tremaining: 1m 20s\n",
            "512:\tlearn: 0.5082784\ttotal: 1m 24s\tremaining: 1m 19s\n",
            "513:\tlearn: 0.5082223\ttotal: 1m 24s\tremaining: 1m 19s\n",
            "514:\tlearn: 0.5081866\ttotal: 1m 24s\tremaining: 1m 19s\n",
            "515:\tlearn: 0.5081624\ttotal: 1m 24s\tremaining: 1m 19s\n",
            "516:\tlearn: 0.5080535\ttotal: 1m 24s\tremaining: 1m 18s\n",
            "517:\tlearn: 0.5080288\ttotal: 1m 24s\tremaining: 1m 18s\n",
            "518:\tlearn: 0.5079210\ttotal: 1m 24s\tremaining: 1m 18s\n",
            "519:\tlearn: 0.5079003\ttotal: 1m 24s\tremaining: 1m 18s\n",
            "520:\tlearn: 0.5078772\ttotal: 1m 24s\tremaining: 1m 18s\n",
            "521:\tlearn: 0.5078367\ttotal: 1m 25s\tremaining: 1m 17s\n",
            "522:\tlearn: 0.5078153\ttotal: 1m 25s\tremaining: 1m 17s\n",
            "523:\tlearn: 0.5077669\ttotal: 1m 25s\tremaining: 1m 17s\n",
            "524:\tlearn: 0.5076344\ttotal: 1m 25s\tremaining: 1m 17s\n",
            "525:\tlearn: 0.5075799\ttotal: 1m 25s\tremaining: 1m 17s\n",
            "526:\tlearn: 0.5075548\ttotal: 1m 25s\tremaining: 1m 16s\n",
            "527:\tlearn: 0.5075107\ttotal: 1m 25s\tremaining: 1m 16s\n",
            "528:\tlearn: 0.5074873\ttotal: 1m 25s\tremaining: 1m 16s\n",
            "529:\tlearn: 0.5074497\ttotal: 1m 25s\tremaining: 1m 16s\n",
            "530:\tlearn: 0.5074192\ttotal: 1m 26s\tremaining: 1m 15s\n",
            "531:\tlearn: 0.5073402\ttotal: 1m 26s\tremaining: 1m 15s\n",
            "532:\tlearn: 0.5073129\ttotal: 1m 26s\tremaining: 1m 15s\n",
            "533:\tlearn: 0.5072401\ttotal: 1m 26s\tremaining: 1m 15s\n",
            "534:\tlearn: 0.5072168\ttotal: 1m 26s\tremaining: 1m 15s\n",
            "535:\tlearn: 0.5071222\ttotal: 1m 26s\tremaining: 1m 14s\n",
            "536:\tlearn: 0.5070897\ttotal: 1m 26s\tremaining: 1m 14s\n",
            "537:\tlearn: 0.5070336\ttotal: 1m 26s\tremaining: 1m 14s\n",
            "538:\tlearn: 0.5069923\ttotal: 1m 26s\tremaining: 1m 14s\n",
            "539:\tlearn: 0.5067952\ttotal: 1m 26s\tremaining: 1m 14s\n",
            "540:\tlearn: 0.5067506\ttotal: 1m 27s\tremaining: 1m 13s\n",
            "541:\tlearn: 0.5066384\ttotal: 1m 27s\tremaining: 1m 13s\n",
            "542:\tlearn: 0.5064435\ttotal: 1m 27s\tremaining: 1m 13s\n",
            "543:\tlearn: 0.5062811\ttotal: 1m 27s\tremaining: 1m 13s\n",
            "544:\tlearn: 0.5061982\ttotal: 1m 27s\tremaining: 1m 13s\n",
            "545:\tlearn: 0.5059930\ttotal: 1m 27s\tremaining: 1m 12s\n",
            "546:\tlearn: 0.5059577\ttotal: 1m 27s\tremaining: 1m 12s\n",
            "547:\tlearn: 0.5058940\ttotal: 1m 27s\tremaining: 1m 12s\n",
            "548:\tlearn: 0.5058660\ttotal: 1m 27s\tremaining: 1m 12s\n",
            "549:\tlearn: 0.5057698\ttotal: 1m 28s\tremaining: 1m 12s\n",
            "550:\tlearn: 0.5056679\ttotal: 1m 28s\tremaining: 1m 11s\n",
            "551:\tlearn: 0.5056460\ttotal: 1m 28s\tremaining: 1m 11s\n",
            "552:\tlearn: 0.5056200\ttotal: 1m 28s\tremaining: 1m 11s\n",
            "553:\tlearn: 0.5055843\ttotal: 1m 28s\tremaining: 1m 11s\n",
            "554:\tlearn: 0.5055091\ttotal: 1m 28s\tremaining: 1m 11s\n",
            "555:\tlearn: 0.5054789\ttotal: 1m 28s\tremaining: 1m 10s\n",
            "556:\tlearn: 0.5054564\ttotal: 1m 28s\tremaining: 1m 10s\n",
            "557:\tlearn: 0.5054296\ttotal: 1m 28s\tremaining: 1m 10s\n",
            "558:\tlearn: 0.5053300\ttotal: 1m 29s\tremaining: 1m 10s\n",
            "559:\tlearn: 0.5052146\ttotal: 1m 29s\tremaining: 1m 10s\n",
            "560:\tlearn: 0.5051233\ttotal: 1m 29s\tremaining: 1m 9s\n",
            "561:\tlearn: 0.5051005\ttotal: 1m 29s\tremaining: 1m 9s\n",
            "562:\tlearn: 0.5050755\ttotal: 1m 29s\tremaining: 1m 9s\n",
            "563:\tlearn: 0.5049968\ttotal: 1m 29s\tremaining: 1m 9s\n",
            "564:\tlearn: 0.5049646\ttotal: 1m 29s\tremaining: 1m 9s\n",
            "565:\tlearn: 0.5049409\ttotal: 1m 29s\tremaining: 1m 8s\n",
            "566:\tlearn: 0.5049210\ttotal: 1m 29s\tremaining: 1m 8s\n",
            "567:\tlearn: 0.5048520\ttotal: 1m 29s\tremaining: 1m 8s\n",
            "568:\tlearn: 0.5048291\ttotal: 1m 30s\tremaining: 1m 8s\n",
            "569:\tlearn: 0.5047994\ttotal: 1m 30s\tremaining: 1m 8s\n",
            "570:\tlearn: 0.5047714\ttotal: 1m 30s\tremaining: 1m 7s\n",
            "571:\tlearn: 0.5047137\ttotal: 1m 30s\tremaining: 1m 7s\n",
            "572:\tlearn: 0.5046872\ttotal: 1m 30s\tremaining: 1m 7s\n",
            "573:\tlearn: 0.5046392\ttotal: 1m 30s\tremaining: 1m 7s\n",
            "574:\tlearn: 0.5046198\ttotal: 1m 30s\tremaining: 1m 7s\n",
            "575:\tlearn: 0.5045263\ttotal: 1m 30s\tremaining: 1m 6s\n",
            "576:\tlearn: 0.5044812\ttotal: 1m 30s\tremaining: 1m 6s\n",
            "577:\tlearn: 0.5044568\ttotal: 1m 31s\tremaining: 1m 6s\n",
            "578:\tlearn: 0.5042716\ttotal: 1m 31s\tremaining: 1m 6s\n",
            "579:\tlearn: 0.5042460\ttotal: 1m 31s\tremaining: 1m 6s\n",
            "580:\tlearn: 0.5042151\ttotal: 1m 31s\tremaining: 1m 5s\n",
            "581:\tlearn: 0.5041934\ttotal: 1m 31s\tremaining: 1m 5s\n",
            "582:\tlearn: 0.5041706\ttotal: 1m 31s\tremaining: 1m 5s\n",
            "583:\tlearn: 0.5041515\ttotal: 1m 31s\tremaining: 1m 5s\n",
            "584:\tlearn: 0.5040984\ttotal: 1m 31s\tremaining: 1m 5s\n",
            "585:\tlearn: 0.5040044\ttotal: 1m 31s\tremaining: 1m 4s\n",
            "586:\tlearn: 0.5039843\ttotal: 1m 32s\tremaining: 1m 4s\n",
            "587:\tlearn: 0.5039086\ttotal: 1m 32s\tremaining: 1m 4s\n",
            "588:\tlearn: 0.5038809\ttotal: 1m 32s\tremaining: 1m 4s\n",
            "589:\tlearn: 0.5038559\ttotal: 1m 32s\tremaining: 1m 4s\n",
            "590:\tlearn: 0.5038389\ttotal: 1m 32s\tremaining: 1m 3s\n",
            "591:\tlearn: 0.5038109\ttotal: 1m 32s\tremaining: 1m 3s\n",
            "592:\tlearn: 0.5037736\ttotal: 1m 32s\tremaining: 1m 3s\n",
            "593:\tlearn: 0.5037476\ttotal: 1m 32s\tremaining: 1m 3s\n",
            "594:\tlearn: 0.5036181\ttotal: 1m 32s\tremaining: 1m 3s\n",
            "595:\tlearn: 0.5034953\ttotal: 1m 32s\tremaining: 1m 3s\n",
            "596:\tlearn: 0.5034632\ttotal: 1m 33s\tremaining: 1m 2s\n",
            "597:\tlearn: 0.5033197\ttotal: 1m 33s\tremaining: 1m 2s\n",
            "598:\tlearn: 0.5032487\ttotal: 1m 33s\tremaining: 1m 2s\n",
            "599:\tlearn: 0.5032172\ttotal: 1m 33s\tremaining: 1m 2s\n",
            "600:\tlearn: 0.5031903\ttotal: 1m 33s\tremaining: 1m 2s\n",
            "601:\tlearn: 0.5031555\ttotal: 1m 33s\tremaining: 1m 1s\n",
            "602:\tlearn: 0.5031237\ttotal: 1m 33s\tremaining: 1m 1s\n",
            "603:\tlearn: 0.5030881\ttotal: 1m 33s\tremaining: 1m 1s\n",
            "604:\tlearn: 0.5030417\ttotal: 1m 33s\tremaining: 1m 1s\n",
            "605:\tlearn: 0.5029960\ttotal: 1m 34s\tremaining: 1m 1s\n",
            "606:\tlearn: 0.5029333\ttotal: 1m 34s\tremaining: 1m\n",
            "607:\tlearn: 0.5028508\ttotal: 1m 34s\tremaining: 1m\n",
            "608:\tlearn: 0.5027022\ttotal: 1m 34s\tremaining: 1m\n",
            "609:\tlearn: 0.5026817\ttotal: 1m 34s\tremaining: 1m\n",
            "610:\tlearn: 0.5026514\ttotal: 1m 34s\tremaining: 1m\n",
            "611:\tlearn: 0.5026338\ttotal: 1m 34s\tremaining: 1m\n",
            "612:\tlearn: 0.5026004\ttotal: 1m 34s\tremaining: 59.8s\n",
            "613:\tlearn: 0.5025740\ttotal: 1m 34s\tremaining: 59.7s\n",
            "614:\tlearn: 0.5024833\ttotal: 1m 34s\tremaining: 59.5s\n",
            "615:\tlearn: 0.5024556\ttotal: 1m 35s\tremaining: 59.3s\n",
            "616:\tlearn: 0.5023761\ttotal: 1m 35s\tremaining: 59.1s\n",
            "617:\tlearn: 0.5023410\ttotal: 1m 35s\tremaining: 58.9s\n",
            "618:\tlearn: 0.5023049\ttotal: 1m 35s\tremaining: 58.7s\n",
            "619:\tlearn: 0.5022771\ttotal: 1m 35s\tremaining: 58.5s\n",
            "620:\tlearn: 0.5022475\ttotal: 1m 35s\tremaining: 58.4s\n",
            "621:\tlearn: 0.5022288\ttotal: 1m 35s\tremaining: 58.2s\n",
            "622:\tlearn: 0.5021007\ttotal: 1m 35s\tremaining: 58s\n",
            "623:\tlearn: 0.5020758\ttotal: 1m 35s\tremaining: 57.8s\n",
            "624:\tlearn: 0.5019861\ttotal: 1m 36s\tremaining: 57.6s\n",
            "625:\tlearn: 0.5019697\ttotal: 1m 36s\tremaining: 57.5s\n",
            "626:\tlearn: 0.5019525\ttotal: 1m 36s\tremaining: 57.3s\n",
            "627:\tlearn: 0.5019295\ttotal: 1m 36s\tremaining: 57.1s\n",
            "628:\tlearn: 0.5016740\ttotal: 1m 36s\tremaining: 56.9s\n",
            "629:\tlearn: 0.5015605\ttotal: 1m 36s\tremaining: 56.7s\n",
            "630:\tlearn: 0.5015451\ttotal: 1m 36s\tremaining: 56.5s\n",
            "631:\tlearn: 0.5015017\ttotal: 1m 36s\tremaining: 56.4s\n",
            "632:\tlearn: 0.5014854\ttotal: 1m 36s\tremaining: 56.2s\n",
            "633:\tlearn: 0.5014115\ttotal: 1m 37s\tremaining: 56s\n",
            "634:\tlearn: 0.5013735\ttotal: 1m 37s\tremaining: 55.8s\n",
            "635:\tlearn: 0.5013570\ttotal: 1m 37s\tremaining: 55.7s\n",
            "636:\tlearn: 0.5013116\ttotal: 1m 37s\tremaining: 55.5s\n",
            "637:\tlearn: 0.5012494\ttotal: 1m 37s\tremaining: 55.3s\n",
            "638:\tlearn: 0.5012348\ttotal: 1m 37s\tremaining: 55.1s\n",
            "639:\tlearn: 0.5012131\ttotal: 1m 37s\tremaining: 54.9s\n",
            "640:\tlearn: 0.5011940\ttotal: 1m 37s\tremaining: 54.7s\n",
            "641:\tlearn: 0.5011513\ttotal: 1m 37s\tremaining: 54.6s\n",
            "642:\tlearn: 0.5011332\ttotal: 1m 37s\tremaining: 54.4s\n",
            "643:\tlearn: 0.5011110\ttotal: 1m 38s\tremaining: 54.2s\n",
            "644:\tlearn: 0.5010627\ttotal: 1m 38s\tremaining: 54s\n",
            "645:\tlearn: 0.5010458\ttotal: 1m 38s\tremaining: 53.9s\n",
            "646:\tlearn: 0.5009763\ttotal: 1m 38s\tremaining: 53.7s\n",
            "647:\tlearn: 0.5009048\ttotal: 1m 38s\tremaining: 53.5s\n",
            "648:\tlearn: 0.5008841\ttotal: 1m 38s\tremaining: 53.3s\n",
            "649:\tlearn: 0.5007790\ttotal: 1m 38s\tremaining: 53.1s\n",
            "650:\tlearn: 0.5007595\ttotal: 1m 38s\tremaining: 53s\n",
            "651:\tlearn: 0.5007248\ttotal: 1m 38s\tremaining: 52.8s\n",
            "652:\tlearn: 0.5006771\ttotal: 1m 39s\tremaining: 52.6s\n",
            "653:\tlearn: 0.5005583\ttotal: 1m 39s\tremaining: 52.4s\n",
            "654:\tlearn: 0.5004767\ttotal: 1m 39s\tremaining: 52.3s\n",
            "655:\tlearn: 0.5004597\ttotal: 1m 39s\tremaining: 52.1s\n",
            "656:\tlearn: 0.5003716\ttotal: 1m 39s\tremaining: 51.9s\n",
            "657:\tlearn: 0.5003419\ttotal: 1m 39s\tremaining: 51.7s\n",
            "658:\tlearn: 0.5003095\ttotal: 1m 39s\tremaining: 51.6s\n",
            "659:\tlearn: 0.5001965\ttotal: 1m 39s\tremaining: 51.4s\n",
            "660:\tlearn: 0.5000856\ttotal: 1m 39s\tremaining: 51.2s\n",
            "661:\tlearn: 0.4999293\ttotal: 1m 39s\tremaining: 51.1s\n",
            "662:\tlearn: 0.4999145\ttotal: 1m 40s\tremaining: 50.9s\n",
            "663:\tlearn: 0.4998381\ttotal: 1m 40s\tremaining: 50.7s\n",
            "664:\tlearn: 0.4998070\ttotal: 1m 40s\tremaining: 50.5s\n",
            "665:\tlearn: 0.4996873\ttotal: 1m 40s\tremaining: 50.4s\n",
            "666:\tlearn: 0.4995881\ttotal: 1m 40s\tremaining: 50.2s\n",
            "667:\tlearn: 0.4994525\ttotal: 1m 40s\tremaining: 50s\n",
            "668:\tlearn: 0.4994267\ttotal: 1m 40s\tremaining: 49.9s\n",
            "669:\tlearn: 0.4994052\ttotal: 1m 40s\tremaining: 49.7s\n",
            "670:\tlearn: 0.4993748\ttotal: 1m 40s\tremaining: 49.5s\n",
            "671:\tlearn: 0.4993233\ttotal: 1m 41s\tremaining: 49.3s\n",
            "672:\tlearn: 0.4992982\ttotal: 1m 41s\tremaining: 49.2s\n",
            "673:\tlearn: 0.4992798\ttotal: 1m 41s\tremaining: 49s\n",
            "674:\tlearn: 0.4992588\ttotal: 1m 41s\tremaining: 48.8s\n",
            "675:\tlearn: 0.4992403\ttotal: 1m 41s\tremaining: 48.6s\n",
            "676:\tlearn: 0.4991613\ttotal: 1m 41s\tremaining: 48.5s\n",
            "677:\tlearn: 0.4991434\ttotal: 1m 41s\tremaining: 48.3s\n",
            "678:\tlearn: 0.4990342\ttotal: 1m 41s\tremaining: 48.1s\n",
            "679:\tlearn: 0.4990005\ttotal: 1m 41s\tremaining: 48s\n",
            "680:\tlearn: 0.4989092\ttotal: 1m 42s\tremaining: 47.8s\n",
            "681:\tlearn: 0.4988902\ttotal: 1m 42s\tremaining: 47.6s\n",
            "682:\tlearn: 0.4988349\ttotal: 1m 42s\tremaining: 47.5s\n",
            "683:\tlearn: 0.4988125\ttotal: 1m 42s\tremaining: 47.3s\n",
            "684:\tlearn: 0.4987834\ttotal: 1m 42s\tremaining: 47.1s\n",
            "685:\tlearn: 0.4987554\ttotal: 1m 42s\tremaining: 46.9s\n",
            "686:\tlearn: 0.4986284\ttotal: 1m 42s\tremaining: 46.8s\n",
            "687:\tlearn: 0.4985790\ttotal: 1m 42s\tremaining: 46.6s\n",
            "688:\tlearn: 0.4984992\ttotal: 1m 42s\tremaining: 46.4s\n",
            "689:\tlearn: 0.4984648\ttotal: 1m 43s\tremaining: 46.3s\n",
            "690:\tlearn: 0.4983905\ttotal: 1m 43s\tremaining: 46.1s\n",
            "691:\tlearn: 0.4983706\ttotal: 1m 43s\tremaining: 46s\n",
            "692:\tlearn: 0.4983414\ttotal: 1m 43s\tremaining: 45.8s\n",
            "693:\tlearn: 0.4983260\ttotal: 1m 43s\tremaining: 45.6s\n",
            "694:\tlearn: 0.4982815\ttotal: 1m 43s\tremaining: 45.4s\n",
            "695:\tlearn: 0.4982519\ttotal: 1m 43s\tremaining: 45.3s\n",
            "696:\tlearn: 0.4982330\ttotal: 1m 43s\tremaining: 45.1s\n",
            "697:\tlearn: 0.4981535\ttotal: 1m 43s\tremaining: 44.9s\n",
            "698:\tlearn: 0.4981335\ttotal: 1m 43s\tremaining: 44.8s\n",
            "699:\tlearn: 0.4980597\ttotal: 1m 44s\tremaining: 44.6s\n",
            "700:\tlearn: 0.4979866\ttotal: 1m 44s\tremaining: 44.4s\n",
            "701:\tlearn: 0.4978689\ttotal: 1m 44s\tremaining: 44.3s\n",
            "702:\tlearn: 0.4978405\ttotal: 1m 44s\tremaining: 44.1s\n",
            "703:\tlearn: 0.4978203\ttotal: 1m 44s\tremaining: 43.9s\n",
            "704:\tlearn: 0.4977697\ttotal: 1m 44s\tremaining: 43.8s\n",
            "705:\tlearn: 0.4977312\ttotal: 1m 44s\tremaining: 43.6s\n",
            "706:\tlearn: 0.4976554\ttotal: 1m 44s\tremaining: 43.4s\n",
            "707:\tlearn: 0.4975851\ttotal: 1m 44s\tremaining: 43.3s\n",
            "708:\tlearn: 0.4975600\ttotal: 1m 44s\tremaining: 43.1s\n",
            "709:\tlearn: 0.4974815\ttotal: 1m 45s\tremaining: 42.9s\n",
            "710:\tlearn: 0.4974620\ttotal: 1m 45s\tremaining: 42.8s\n",
            "711:\tlearn: 0.4974378\ttotal: 1m 45s\tremaining: 42.6s\n",
            "712:\tlearn: 0.4974194\ttotal: 1m 45s\tremaining: 42.4s\n",
            "713:\tlearn: 0.4973388\ttotal: 1m 45s\tremaining: 42.3s\n",
            "714:\tlearn: 0.4973183\ttotal: 1m 45s\tremaining: 42.1s\n",
            "715:\tlearn: 0.4972941\ttotal: 1m 45s\tremaining: 41.9s\n",
            "716:\tlearn: 0.4972760\ttotal: 1m 45s\tremaining: 41.8s\n",
            "717:\tlearn: 0.4972244\ttotal: 1m 45s\tremaining: 41.6s\n",
            "718:\tlearn: 0.4971725\ttotal: 1m 46s\tremaining: 41.4s\n",
            "719:\tlearn: 0.4971511\ttotal: 1m 46s\tremaining: 41.3s\n",
            "720:\tlearn: 0.4971318\ttotal: 1m 46s\tremaining: 41.1s\n",
            "721:\tlearn: 0.4971115\ttotal: 1m 46s\tremaining: 41s\n",
            "722:\tlearn: 0.4970937\ttotal: 1m 46s\tremaining: 40.8s\n",
            "723:\tlearn: 0.4970746\ttotal: 1m 46s\tremaining: 40.6s\n",
            "724:\tlearn: 0.4970486\ttotal: 1m 46s\tremaining: 40.5s\n",
            "725:\tlearn: 0.4970268\ttotal: 1m 46s\tremaining: 40.3s\n",
            "726:\tlearn: 0.4969796\ttotal: 1m 46s\tremaining: 40.1s\n",
            "727:\tlearn: 0.4969523\ttotal: 1m 46s\tremaining: 40s\n",
            "728:\tlearn: 0.4969267\ttotal: 1m 47s\tremaining: 39.8s\n",
            "729:\tlearn: 0.4968987\ttotal: 1m 47s\tremaining: 39.7s\n",
            "730:\tlearn: 0.4968883\ttotal: 1m 47s\tremaining: 39.5s\n",
            "731:\tlearn: 0.4968095\ttotal: 1m 47s\tremaining: 39.3s\n",
            "732:\tlearn: 0.4966337\ttotal: 1m 47s\tremaining: 39.2s\n",
            "733:\tlearn: 0.4966139\ttotal: 1m 47s\tremaining: 39s\n",
            "734:\tlearn: 0.4965180\ttotal: 1m 47s\tremaining: 38.9s\n",
            "735:\tlearn: 0.4964911\ttotal: 1m 47s\tremaining: 38.7s\n",
            "736:\tlearn: 0.4964672\ttotal: 1m 47s\tremaining: 38.5s\n",
            "737:\tlearn: 0.4964444\ttotal: 1m 48s\tremaining: 38.4s\n",
            "738:\tlearn: 0.4964021\ttotal: 1m 48s\tremaining: 38.2s\n",
            "739:\tlearn: 0.4963517\ttotal: 1m 48s\tremaining: 38.1s\n",
            "740:\tlearn: 0.4963176\ttotal: 1m 48s\tremaining: 37.9s\n",
            "741:\tlearn: 0.4962923\ttotal: 1m 48s\tremaining: 37.7s\n",
            "742:\tlearn: 0.4962679\ttotal: 1m 48s\tremaining: 37.6s\n",
            "743:\tlearn: 0.4962460\ttotal: 1m 48s\tremaining: 37.4s\n",
            "744:\tlearn: 0.4962206\ttotal: 1m 48s\tremaining: 37.2s\n",
            "745:\tlearn: 0.4961972\ttotal: 1m 48s\tremaining: 37.1s\n",
            "746:\tlearn: 0.4961766\ttotal: 1m 49s\tremaining: 36.9s\n",
            "747:\tlearn: 0.4961621\ttotal: 1m 49s\tremaining: 36.8s\n",
            "748:\tlearn: 0.4961269\ttotal: 1m 49s\tremaining: 36.6s\n",
            "749:\tlearn: 0.4960926\ttotal: 1m 49s\tremaining: 36.5s\n",
            "750:\tlearn: 0.4960778\ttotal: 1m 49s\tremaining: 36.3s\n",
            "751:\tlearn: 0.4960547\ttotal: 1m 49s\tremaining: 36.1s\n",
            "752:\tlearn: 0.4960237\ttotal: 1m 49s\tremaining: 36s\n",
            "753:\tlearn: 0.4959658\ttotal: 1m 49s\tremaining: 35.8s\n",
            "754:\tlearn: 0.4959472\ttotal: 1m 49s\tremaining: 35.7s\n",
            "755:\tlearn: 0.4959202\ttotal: 1m 49s\tremaining: 35.5s\n",
            "756:\tlearn: 0.4958901\ttotal: 1m 50s\tremaining: 35.3s\n",
            "757:\tlearn: 0.4958145\ttotal: 1m 50s\tremaining: 35.2s\n",
            "758:\tlearn: 0.4957603\ttotal: 1m 50s\tremaining: 35s\n",
            "759:\tlearn: 0.4957256\ttotal: 1m 50s\tremaining: 34.9s\n",
            "760:\tlearn: 0.4956612\ttotal: 1m 50s\tremaining: 34.7s\n",
            "761:\tlearn: 0.4955141\ttotal: 1m 50s\tremaining: 34.6s\n",
            "762:\tlearn: 0.4954758\ttotal: 1m 50s\tremaining: 34.4s\n",
            "763:\tlearn: 0.4954602\ttotal: 1m 50s\tremaining: 34.3s\n",
            "764:\tlearn: 0.4953879\ttotal: 1m 50s\tremaining: 34.1s\n",
            "765:\tlearn: 0.4953725\ttotal: 1m 51s\tremaining: 33.9s\n",
            "766:\tlearn: 0.4953511\ttotal: 1m 51s\tremaining: 33.8s\n",
            "767:\tlearn: 0.4953008\ttotal: 1m 51s\tremaining: 33.6s\n",
            "768:\tlearn: 0.4952792\ttotal: 1m 51s\tremaining: 33.5s\n",
            "769:\tlearn: 0.4952645\ttotal: 1m 51s\tremaining: 33.3s\n",
            "770:\tlearn: 0.4951835\ttotal: 1m 51s\tremaining: 33.2s\n",
            "771:\tlearn: 0.4951592\ttotal: 1m 51s\tremaining: 33s\n",
            "772:\tlearn: 0.4950585\ttotal: 1m 51s\tremaining: 32.9s\n",
            "773:\tlearn: 0.4950318\ttotal: 1m 52s\tremaining: 32.7s\n",
            "774:\tlearn: 0.4950121\ttotal: 1m 52s\tremaining: 32.5s\n",
            "775:\tlearn: 0.4949222\ttotal: 1m 52s\tremaining: 32.4s\n",
            "776:\tlearn: 0.4948895\ttotal: 1m 52s\tremaining: 32.2s\n",
            "777:\tlearn: 0.4948134\ttotal: 1m 52s\tremaining: 32.1s\n",
            "778:\tlearn: 0.4947595\ttotal: 1m 52s\tremaining: 31.9s\n",
            "779:\tlearn: 0.4947295\ttotal: 1m 52s\tremaining: 31.8s\n",
            "780:\tlearn: 0.4946841\ttotal: 1m 52s\tremaining: 31.6s\n",
            "781:\tlearn: 0.4946541\ttotal: 1m 52s\tremaining: 31.5s\n",
            "782:\tlearn: 0.4946278\ttotal: 1m 52s\tremaining: 31.3s\n",
            "783:\tlearn: 0.4945069\ttotal: 1m 53s\tremaining: 31.2s\n",
            "784:\tlearn: 0.4944399\ttotal: 1m 53s\tremaining: 31s\n",
            "785:\tlearn: 0.4944124\ttotal: 1m 53s\tremaining: 30.8s\n",
            "786:\tlearn: 0.4943827\ttotal: 1m 53s\tremaining: 30.7s\n",
            "787:\tlearn: 0.4943561\ttotal: 1m 53s\tremaining: 30.5s\n",
            "788:\tlearn: 0.4942892\ttotal: 1m 53s\tremaining: 30.4s\n",
            "789:\tlearn: 0.4942393\ttotal: 1m 53s\tremaining: 30.2s\n",
            "790:\tlearn: 0.4941713\ttotal: 1m 53s\tremaining: 30.1s\n",
            "791:\tlearn: 0.4941317\ttotal: 1m 53s\tremaining: 29.9s\n",
            "792:\tlearn: 0.4941037\ttotal: 1m 54s\tremaining: 29.8s\n",
            "793:\tlearn: 0.4940883\ttotal: 1m 54s\tremaining: 29.6s\n",
            "794:\tlearn: 0.4939926\ttotal: 1m 54s\tremaining: 29.5s\n",
            "795:\tlearn: 0.4939816\ttotal: 1m 54s\tremaining: 29.3s\n",
            "796:\tlearn: 0.4939560\ttotal: 1m 54s\tremaining: 29.2s\n",
            "797:\tlearn: 0.4939381\ttotal: 1m 54s\tremaining: 29s\n",
            "798:\tlearn: 0.4939127\ttotal: 1m 54s\tremaining: 28.9s\n",
            "799:\tlearn: 0.4938710\ttotal: 1m 54s\tremaining: 28.7s\n",
            "800:\tlearn: 0.4938231\ttotal: 1m 54s\tremaining: 28.6s\n",
            "801:\tlearn: 0.4937688\ttotal: 1m 55s\tremaining: 28.4s\n",
            "802:\tlearn: 0.4937417\ttotal: 1m 55s\tremaining: 28.2s\n",
            "803:\tlearn: 0.4937177\ttotal: 1m 55s\tremaining: 28.1s\n",
            "804:\tlearn: 0.4937021\ttotal: 1m 55s\tremaining: 27.9s\n",
            "805:\tlearn: 0.4936881\ttotal: 1m 55s\tremaining: 27.8s\n",
            "806:\tlearn: 0.4936209\ttotal: 1m 55s\tremaining: 27.6s\n",
            "807:\tlearn: 0.4935490\ttotal: 1m 55s\tremaining: 27.5s\n",
            "808:\tlearn: 0.4935203\ttotal: 1m 55s\tremaining: 27.3s\n",
            "809:\tlearn: 0.4935005\ttotal: 1m 55s\tremaining: 27.2s\n",
            "810:\tlearn: 0.4934647\ttotal: 1m 55s\tremaining: 27s\n",
            "811:\tlearn: 0.4933896\ttotal: 1m 56s\tremaining: 26.9s\n",
            "812:\tlearn: 0.4933654\ttotal: 1m 56s\tremaining: 26.7s\n",
            "813:\tlearn: 0.4933440\ttotal: 1m 56s\tremaining: 26.6s\n",
            "814:\tlearn: 0.4932744\ttotal: 1m 56s\tremaining: 26.4s\n",
            "815:\tlearn: 0.4932506\ttotal: 1m 56s\tremaining: 26.3s\n",
            "816:\tlearn: 0.4932323\ttotal: 1m 56s\tremaining: 26.1s\n",
            "817:\tlearn: 0.4932030\ttotal: 1m 56s\tremaining: 26s\n",
            "818:\tlearn: 0.4931803\ttotal: 1m 56s\tremaining: 25.8s\n",
            "819:\tlearn: 0.4930707\ttotal: 1m 56s\tremaining: 25.7s\n",
            "820:\tlearn: 0.4930503\ttotal: 1m 57s\tremaining: 25.5s\n",
            "821:\tlearn: 0.4930253\ttotal: 1m 57s\tremaining: 25.4s\n",
            "822:\tlearn: 0.4929817\ttotal: 1m 57s\tremaining: 25.2s\n",
            "823:\tlearn: 0.4929590\ttotal: 1m 57s\tremaining: 25.1s\n",
            "824:\tlearn: 0.4929365\ttotal: 1m 57s\tremaining: 24.9s\n",
            "825:\tlearn: 0.4929173\ttotal: 1m 57s\tremaining: 24.8s\n",
            "826:\tlearn: 0.4928912\ttotal: 1m 57s\tremaining: 24.6s\n",
            "827:\tlearn: 0.4928706\ttotal: 1m 57s\tremaining: 24.5s\n",
            "828:\tlearn: 0.4928478\ttotal: 1m 57s\tremaining: 24.3s\n",
            "829:\tlearn: 0.4928046\ttotal: 1m 58s\tremaining: 24.2s\n",
            "830:\tlearn: 0.4927754\ttotal: 1m 58s\tremaining: 24s\n",
            "831:\tlearn: 0.4927588\ttotal: 1m 58s\tremaining: 23.9s\n",
            "832:\tlearn: 0.4927251\ttotal: 1m 58s\tremaining: 23.7s\n",
            "833:\tlearn: 0.4926882\ttotal: 1m 58s\tremaining: 23.6s\n",
            "834:\tlearn: 0.4926609\ttotal: 1m 58s\tremaining: 23.4s\n",
            "835:\tlearn: 0.4926317\ttotal: 1m 58s\tremaining: 23.3s\n",
            "836:\tlearn: 0.4926120\ttotal: 1m 58s\tremaining: 23.1s\n",
            "837:\tlearn: 0.4925924\ttotal: 1m 58s\tremaining: 23s\n",
            "838:\tlearn: 0.4925715\ttotal: 1m 58s\tremaining: 22.8s\n",
            "839:\tlearn: 0.4925031\ttotal: 1m 59s\tremaining: 22.7s\n",
            "840:\tlearn: 0.4924850\ttotal: 1m 59s\tremaining: 22.5s\n",
            "841:\tlearn: 0.4924664\ttotal: 1m 59s\tremaining: 22.4s\n",
            "842:\tlearn: 0.4923001\ttotal: 1m 59s\tremaining: 22.2s\n",
            "843:\tlearn: 0.4922800\ttotal: 1m 59s\tremaining: 22.1s\n",
            "844:\tlearn: 0.4922645\ttotal: 1m 59s\tremaining: 21.9s\n",
            "845:\tlearn: 0.4922428\ttotal: 1m 59s\tremaining: 21.8s\n",
            "846:\tlearn: 0.4922105\ttotal: 1m 59s\tremaining: 21.7s\n",
            "847:\tlearn: 0.4921809\ttotal: 1m 59s\tremaining: 21.5s\n",
            "848:\tlearn: 0.4921060\ttotal: 2m\tremaining: 21.4s\n",
            "849:\tlearn: 0.4919888\ttotal: 2m\tremaining: 21.2s\n",
            "850:\tlearn: 0.4919549\ttotal: 2m\tremaining: 21.1s\n",
            "851:\tlearn: 0.4919205\ttotal: 2m\tremaining: 20.9s\n",
            "852:\tlearn: 0.4919017\ttotal: 2m\tremaining: 20.8s\n",
            "853:\tlearn: 0.4918748\ttotal: 2m\tremaining: 20.6s\n",
            "854:\tlearn: 0.4918014\ttotal: 2m\tremaining: 20.5s\n",
            "855:\tlearn: 0.4917643\ttotal: 2m\tremaining: 20.3s\n",
            "856:\tlearn: 0.4917348\ttotal: 2m\tremaining: 20.2s\n",
            "857:\tlearn: 0.4917119\ttotal: 2m 1s\tremaining: 20s\n",
            "858:\tlearn: 0.4916854\ttotal: 2m 1s\tremaining: 19.9s\n",
            "859:\tlearn: 0.4916647\ttotal: 2m 1s\tremaining: 19.7s\n",
            "860:\tlearn: 0.4916400\ttotal: 2m 1s\tremaining: 19.6s\n",
            "861:\tlearn: 0.4916172\ttotal: 2m 1s\tremaining: 19.5s\n",
            "862:\tlearn: 0.4915799\ttotal: 2m 1s\tremaining: 19.3s\n",
            "863:\tlearn: 0.4915577\ttotal: 2m 1s\tremaining: 19.2s\n",
            "864:\tlearn: 0.4915429\ttotal: 2m 1s\tremaining: 19s\n",
            "865:\tlearn: 0.4915232\ttotal: 2m 1s\tremaining: 18.9s\n",
            "866:\tlearn: 0.4913830\ttotal: 2m 2s\tremaining: 18.7s\n",
            "867:\tlearn: 0.4913657\ttotal: 2m 2s\tremaining: 18.6s\n",
            "868:\tlearn: 0.4913447\ttotal: 2m 2s\tremaining: 18.4s\n",
            "869:\tlearn: 0.4913284\ttotal: 2m 2s\tremaining: 18.3s\n",
            "870:\tlearn: 0.4913107\ttotal: 2m 2s\tremaining: 18.1s\n",
            "871:\tlearn: 0.4912901\ttotal: 2m 2s\tremaining: 18s\n",
            "872:\tlearn: 0.4912720\ttotal: 2m 2s\tremaining: 17.9s\n",
            "873:\tlearn: 0.4912503\ttotal: 2m 2s\tremaining: 17.7s\n",
            "874:\tlearn: 0.4912290\ttotal: 2m 2s\tremaining: 17.6s\n",
            "875:\tlearn: 0.4911775\ttotal: 2m 3s\tremaining: 17.4s\n",
            "876:\tlearn: 0.4910839\ttotal: 2m 3s\tremaining: 17.3s\n",
            "877:\tlearn: 0.4910672\ttotal: 2m 3s\tremaining: 17.1s\n",
            "878:\tlearn: 0.4909711\ttotal: 2m 3s\tremaining: 17s\n",
            "879:\tlearn: 0.4909090\ttotal: 2m 3s\tremaining: 16.8s\n",
            "880:\tlearn: 0.4908908\ttotal: 2m 3s\tremaining: 16.7s\n",
            "881:\tlearn: 0.4908633\ttotal: 2m 3s\tremaining: 16.6s\n",
            "882:\tlearn: 0.4907785\ttotal: 2m 3s\tremaining: 16.4s\n",
            "883:\tlearn: 0.4907606\ttotal: 2m 3s\tremaining: 16.3s\n",
            "884:\tlearn: 0.4907193\ttotal: 2m 4s\tremaining: 16.1s\n",
            "885:\tlearn: 0.4906954\ttotal: 2m 4s\tremaining: 16s\n",
            "886:\tlearn: 0.4906669\ttotal: 2m 4s\tremaining: 15.8s\n",
            "887:\tlearn: 0.4906440\ttotal: 2m 4s\tremaining: 15.7s\n",
            "888:\tlearn: 0.4906221\ttotal: 2m 4s\tremaining: 15.5s\n",
            "889:\tlearn: 0.4905957\ttotal: 2m 4s\tremaining: 15.4s\n",
            "890:\tlearn: 0.4905469\ttotal: 2m 4s\tremaining: 15.3s\n",
            "891:\tlearn: 0.4905187\ttotal: 2m 4s\tremaining: 15.1s\n",
            "892:\tlearn: 0.4904980\ttotal: 2m 4s\tremaining: 15s\n",
            "893:\tlearn: 0.4904773\ttotal: 2m 5s\tremaining: 14.8s\n",
            "894:\tlearn: 0.4904133\ttotal: 2m 5s\tremaining: 14.7s\n",
            "895:\tlearn: 0.4903938\ttotal: 2m 5s\tremaining: 14.5s\n",
            "896:\tlearn: 0.4903803\ttotal: 2m 5s\tremaining: 14.4s\n",
            "897:\tlearn: 0.4903586\ttotal: 2m 5s\tremaining: 14.2s\n",
            "898:\tlearn: 0.4903323\ttotal: 2m 5s\tremaining: 14.1s\n",
            "899:\tlearn: 0.4902979\ttotal: 2m 5s\tremaining: 14s\n",
            "900:\tlearn: 0.4902818\ttotal: 2m 5s\tremaining: 13.8s\n",
            "901:\tlearn: 0.4902490\ttotal: 2m 5s\tremaining: 13.7s\n",
            "902:\tlearn: 0.4902216\ttotal: 2m 5s\tremaining: 13.5s\n",
            "903:\tlearn: 0.4901990\ttotal: 2m 6s\tremaining: 13.4s\n",
            "904:\tlearn: 0.4901712\ttotal: 2m 6s\tremaining: 13.3s\n",
            "905:\tlearn: 0.4901435\ttotal: 2m 6s\tremaining: 13.1s\n",
            "906:\tlearn: 0.4901307\ttotal: 2m 6s\tremaining: 13s\n",
            "907:\tlearn: 0.4900650\ttotal: 2m 6s\tremaining: 12.8s\n",
            "908:\tlearn: 0.4900495\ttotal: 2m 6s\tremaining: 12.7s\n",
            "909:\tlearn: 0.4900276\ttotal: 2m 6s\tremaining: 12.5s\n",
            "910:\tlearn: 0.4900088\ttotal: 2m 6s\tremaining: 12.4s\n",
            "911:\tlearn: 0.4899874\ttotal: 2m 6s\tremaining: 12.3s\n",
            "912:\tlearn: 0.4899582\ttotal: 2m 7s\tremaining: 12.1s\n",
            "913:\tlearn: 0.4899405\ttotal: 2m 7s\tremaining: 12s\n",
            "914:\tlearn: 0.4898520\ttotal: 2m 7s\tremaining: 11.8s\n",
            "915:\tlearn: 0.4898267\ttotal: 2m 7s\tremaining: 11.7s\n",
            "916:\tlearn: 0.4897813\ttotal: 2m 7s\tremaining: 11.5s\n",
            "917:\tlearn: 0.4897496\ttotal: 2m 7s\tremaining: 11.4s\n",
            "918:\tlearn: 0.4897262\ttotal: 2m 7s\tremaining: 11.3s\n",
            "919:\tlearn: 0.4896782\ttotal: 2m 7s\tremaining: 11.1s\n",
            "920:\tlearn: 0.4896628\ttotal: 2m 7s\tremaining: 11s\n",
            "921:\tlearn: 0.4895867\ttotal: 2m 8s\tremaining: 10.8s\n",
            "922:\tlearn: 0.4895654\ttotal: 2m 8s\tremaining: 10.7s\n",
            "923:\tlearn: 0.4895441\ttotal: 2m 8s\tremaining: 10.6s\n",
            "924:\tlearn: 0.4895183\ttotal: 2m 8s\tremaining: 10.4s\n",
            "925:\tlearn: 0.4894423\ttotal: 2m 8s\tremaining: 10.3s\n",
            "926:\tlearn: 0.4894325\ttotal: 2m 8s\tremaining: 10.1s\n",
            "927:\tlearn: 0.4894210\ttotal: 2m 8s\tremaining: 9.99s\n",
            "928:\tlearn: 0.4893298\ttotal: 2m 8s\tremaining: 9.85s\n",
            "929:\tlearn: 0.4892714\ttotal: 2m 8s\tremaining: 9.7s\n",
            "930:\tlearn: 0.4892450\ttotal: 2m 9s\tremaining: 9.56s\n",
            "931:\tlearn: 0.4892102\ttotal: 2m 9s\tremaining: 9.42s\n",
            "932:\tlearn: 0.4891931\ttotal: 2m 9s\tremaining: 9.28s\n",
            "933:\tlearn: 0.4891733\ttotal: 2m 9s\tremaining: 9.14s\n",
            "934:\tlearn: 0.4891514\ttotal: 2m 9s\tremaining: 9.01s\n",
            "935:\tlearn: 0.4891303\ttotal: 2m 10s\tremaining: 8.89s\n",
            "936:\tlearn: 0.4891147\ttotal: 2m 10s\tremaining: 8.76s\n",
            "937:\tlearn: 0.4890934\ttotal: 2m 10s\tremaining: 8.63s\n",
            "938:\tlearn: 0.4890453\ttotal: 2m 10s\tremaining: 8.49s\n",
            "939:\tlearn: 0.4890243\ttotal: 2m 10s\tremaining: 8.35s\n",
            "940:\tlearn: 0.4889718\ttotal: 2m 10s\tremaining: 8.21s\n",
            "941:\tlearn: 0.4889479\ttotal: 2m 10s\tremaining: 8.06s\n",
            "942:\tlearn: 0.4889284\ttotal: 2m 11s\tremaining: 7.92s\n",
            "943:\tlearn: 0.4889064\ttotal: 2m 11s\tremaining: 7.78s\n",
            "944:\tlearn: 0.4888894\ttotal: 2m 11s\tremaining: 7.64s\n",
            "945:\tlearn: 0.4888712\ttotal: 2m 11s\tremaining: 7.5s\n",
            "946:\tlearn: 0.4888573\ttotal: 2m 11s\tremaining: 7.36s\n",
            "947:\tlearn: 0.4888425\ttotal: 2m 11s\tremaining: 7.22s\n",
            "948:\tlearn: 0.4888285\ttotal: 2m 11s\tremaining: 7.08s\n",
            "949:\tlearn: 0.4887587\ttotal: 2m 11s\tremaining: 6.94s\n",
            "950:\tlearn: 0.4887268\ttotal: 2m 11s\tremaining: 6.8s\n",
            "951:\tlearn: 0.4886984\ttotal: 2m 12s\tremaining: 6.66s\n",
            "952:\tlearn: 0.4886772\ttotal: 2m 12s\tremaining: 6.52s\n",
            "953:\tlearn: 0.4886583\ttotal: 2m 12s\tremaining: 6.38s\n",
            "954:\tlearn: 0.4886052\ttotal: 2m 12s\tremaining: 6.24s\n",
            "955:\tlearn: 0.4885849\ttotal: 2m 12s\tremaining: 6.1s\n",
            "956:\tlearn: 0.4885661\ttotal: 2m 12s\tremaining: 5.96s\n",
            "957:\tlearn: 0.4885446\ttotal: 2m 12s\tremaining: 5.82s\n",
            "958:\tlearn: 0.4885249\ttotal: 2m 12s\tremaining: 5.68s\n",
            "959:\tlearn: 0.4884994\ttotal: 2m 12s\tremaining: 5.54s\n",
            "960:\tlearn: 0.4884753\ttotal: 2m 13s\tremaining: 5.4s\n",
            "961:\tlearn: 0.4884562\ttotal: 2m 13s\tremaining: 5.26s\n",
            "962:\tlearn: 0.4884342\ttotal: 2m 13s\tremaining: 5.12s\n",
            "963:\tlearn: 0.4884150\ttotal: 2m 13s\tremaining: 4.98s\n",
            "964:\tlearn: 0.4883942\ttotal: 2m 13s\tremaining: 4.84s\n",
            "965:\tlearn: 0.4883789\ttotal: 2m 13s\tremaining: 4.7s\n",
            "966:\tlearn: 0.4883434\ttotal: 2m 13s\tremaining: 4.56s\n",
            "967:\tlearn: 0.4883226\ttotal: 2m 13s\tremaining: 4.42s\n",
            "968:\tlearn: 0.4883093\ttotal: 2m 13s\tremaining: 4.28s\n",
            "969:\tlearn: 0.4882857\ttotal: 2m 14s\tremaining: 4.14s\n",
            "970:\tlearn: 0.4882625\ttotal: 2m 14s\tremaining: 4s\n",
            "971:\tlearn: 0.4882281\ttotal: 2m 14s\tremaining: 3.87s\n",
            "972:\tlearn: 0.4881162\ttotal: 2m 14s\tremaining: 3.73s\n",
            "973:\tlearn: 0.4880947\ttotal: 2m 14s\tremaining: 3.59s\n",
            "974:\tlearn: 0.4880732\ttotal: 2m 14s\tremaining: 3.45s\n",
            "975:\tlearn: 0.4880404\ttotal: 2m 14s\tremaining: 3.31s\n",
            "976:\tlearn: 0.4880138\ttotal: 2m 14s\tremaining: 3.17s\n",
            "977:\tlearn: 0.4879949\ttotal: 2m 14s\tremaining: 3.03s\n",
            "978:\tlearn: 0.4879712\ttotal: 2m 15s\tremaining: 2.9s\n",
            "979:\tlearn: 0.4879476\ttotal: 2m 15s\tremaining: 2.76s\n",
            "980:\tlearn: 0.4879342\ttotal: 2m 15s\tremaining: 2.62s\n",
            "981:\tlearn: 0.4879117\ttotal: 2m 15s\tremaining: 2.48s\n",
            "982:\tlearn: 0.4878917\ttotal: 2m 15s\tremaining: 2.34s\n",
            "983:\tlearn: 0.4878442\ttotal: 2m 15s\tremaining: 2.2s\n",
            "984:\tlearn: 0.4877989\ttotal: 2m 15s\tremaining: 2.06s\n",
            "985:\tlearn: 0.4877878\ttotal: 2m 15s\tremaining: 1.93s\n",
            "986:\tlearn: 0.4877686\ttotal: 2m 15s\tremaining: 1.79s\n",
            "987:\tlearn: 0.4877411\ttotal: 2m 15s\tremaining: 1.65s\n",
            "988:\tlearn: 0.4876759\ttotal: 2m 16s\tremaining: 1.51s\n",
            "989:\tlearn: 0.4876083\ttotal: 2m 16s\tremaining: 1.38s\n",
            "990:\tlearn: 0.4875436\ttotal: 2m 16s\tremaining: 1.24s\n",
            "991:\tlearn: 0.4875292\ttotal: 2m 16s\tremaining: 1.1s\n",
            "992:\tlearn: 0.4875089\ttotal: 2m 16s\tremaining: 962ms\n",
            "993:\tlearn: 0.4874896\ttotal: 2m 16s\tremaining: 825ms\n",
            "994:\tlearn: 0.4874207\ttotal: 2m 16s\tremaining: 687ms\n",
            "995:\tlearn: 0.4873931\ttotal: 2m 16s\tremaining: 549ms\n",
            "996:\tlearn: 0.4873637\ttotal: 2m 16s\tremaining: 412ms\n",
            "997:\tlearn: 0.4873424\ttotal: 2m 17s\tremaining: 275ms\n",
            "998:\tlearn: 0.4872551\ttotal: 2m 17s\tremaining: 137ms\n",
            "999:\tlearn: 0.4871923\ttotal: 2m 17s\tremaining: 0us\n",
            "Train Accuracy:  0.7759445370022034\n",
            "Test Accuracy:  0.7693272305473697 \n",
            "\n",
            "ROC-AUC Score:  0.825721487373845\n",
            "Cohen Cappa Score:  0.493747647943528 \n",
            "\n",
            "[[59958  9266]\n",
            " [16487 25932]] \n",
            "\n",
            "              precision    recall  f1-score   support\n",
            "\n",
            "           0       0.78      0.87      0.82     69224\n",
            "           1       0.74      0.61      0.67     42419\n",
            "\n",
            "    accuracy                           0.77    111643\n",
            "   macro avg       0.76      0.74      0.75    111643\n",
            "weighted avg       0.77      0.77      0.76    111643\n",
            "\n"
          ]
        }
      ]
    },
    {
      "cell_type": "code",
      "source": [
        "from lightgbm import LGBMClassifier\n",
        "lgb = LGBMClassifier(random_state=10)\n",
        "lgb.fit(xtrain,ytrain)\n",
        "\n",
        "y_pred_lgb = lgb.predict(xtest)\n",
        "y_train_lgb = lgb.predict(xtrain)\n",
        "ypred_proba_lgb = lgb.predict_proba(xtest)[:,1]\n",
        "\n",
        "print ('Train Accuracy: ',accuracy_score(ytrain,y_train_lgb))\n",
        "print ('Test Accuracy: ',accuracy_score(ytest,y_pred_lgb), '\\n')\n",
        "\n",
        "print('ROC-AUC Score: ',roc_auc_score(ytest,ypred_proba_lgb))\n",
        "print('Cohen Cappa Score: ',cohen_kappa_score(ytest,y_pred_lgb),'\\n')\n",
        "\n",
        "print(confusion_matrix(ytest,y_pred_lgb),'\\n')\n",
        "\n",
        "print(classification_report(ytest,y_pred_lgb))"
      ],
      "metadata": {
        "colab": {
          "base_uri": "https://localhost:8080/"
        },
        "id": "Zl_Uv_K1os5T",
        "outputId": "9e421eec-8a68-4c1e-8a65-8d7a72ea228a"
      },
      "execution_count": null,
      "outputs": [
        {
          "output_type": "stream",
          "name": "stdout",
          "text": [
            "Train Accuracy:  0.7444980383726555\n",
            "Test Accuracy:  0.7439606603190527 \n",
            "\n",
            "ROC-AUC Score:  0.7961715455723369\n",
            "Cohen Cappa Score:  0.42442808753736905 \n",
            "\n",
            "[[61054  8170]\n",
            " [20415 22004]] \n",
            "\n",
            "              precision    recall  f1-score   support\n",
            "\n",
            "           0       0.75      0.88      0.81     69224\n",
            "           1       0.73      0.52      0.61     42419\n",
            "\n",
            "    accuracy                           0.74    111643\n",
            "   macro avg       0.74      0.70      0.71    111643\n",
            "weighted avg       0.74      0.74      0.73    111643\n",
            "\n"
          ]
        }
      ]
    },
    {
      "cell_type": "code",
      "source": [
        "from sklearn.ensemble import GradientBoostingClassifier\n",
        "ada = GradientBoostingClassifier(random_state=10)\n",
        "ada.fit(xtrain,ytrain)\n",
        "\n",
        "y_pred_ada = ada.predict(xtest)\n",
        "y_train_ada = ada.predict(xtrain)\n",
        "ypred_proba_ada = ada.predict_proba(xtest)[:,1]\n",
        "\n",
        "print ('Train Accuracy: ',accuracy_score(ytrain,y_train_ada))\n",
        "print ('Test Accuracy: ',accuracy_score(ytest,y_pred_ada), '\\n\\n')\n",
        "\n",
        "print('ROC-AUC Score: ',roc_auc_score(ytest,ypred_proba_ada))\n",
        "print('Cohen Cappa Score: ',cohen_kappa_score(ytest,y_pred_ada),'\\n\\n')\n",
        "\n",
        "print(classification_report(ytest,y_pred_ada))"
      ],
      "metadata": {
        "colab": {
          "base_uri": "https://localhost:8080/"
        },
        "id": "PF9vH3_5pYsu",
        "outputId": "79b43d02-35e4-4689-c9cf-1f2493afee18"
      },
      "execution_count": null,
      "outputs": [
        {
          "output_type": "stream",
          "name": "stdout",
          "text": [
            "Train Accuracy:  0.687910911664069\n",
            "Test Accuracy:  0.6889908010354433 \n",
            "\n",
            "\n",
            "ROC-AUC Score:  0.7213877189209525\n",
            "Cohen Cappa Score:  0.28059803636318115 \n",
            "\n",
            "\n",
            "              precision    recall  f1-score   support\n",
            "\n",
            "           0       0.70      0.88      0.78     69224\n",
            "           1       0.66      0.38      0.48     42419\n",
            "\n",
            "    accuracy                           0.69    111643\n",
            "   macro avg       0.68      0.63      0.63    111643\n",
            "weighted avg       0.68      0.69      0.66    111643\n",
            "\n"
          ]
        }
      ]
    },
    {
      "cell_type": "code",
      "source": [
        "from sklearn.ensemble import AdaBoostClassifier\n",
        "ada = AdaBoostClassifier(random_state=10)\n",
        "ada.fit(xtrain,ytrain)\n",
        "\n",
        "y_pred_ada = ada.predict(xtest)\n",
        "y_train_ada = ada.predict(xtrain)\n",
        "ypred_proba_ada = ada.predict_proba(xtest)[:,1]\n",
        "\n",
        "print ('Train Accuracy: ',accuracy_score(ytrain,y_train_ada))\n",
        "print ('Test Accuracy: ',accuracy_score(ytest,y_pred_ada), '\\n\\n')\n",
        "\n",
        "print('ROC-AUC Score: ',roc_auc_score(ytest,ypred_proba_ada))\n",
        "print('Cohen Cappa Score: ',cohen_kappa_score(ytest,y_pred_ada),'\\n\\n')\n",
        "\n",
        "print(classification_report(ytest,y_pred_ada))"
      ],
      "metadata": {
        "colab": {
          "base_uri": "https://localhost:8080/"
        },
        "id": "VGGuGfolpYvW",
        "outputId": "057b5c0a-107a-485f-ea0d-716266c034e2"
      },
      "execution_count": null,
      "outputs": [
        {
          "output_type": "stream",
          "name": "stdout",
          "text": [
            "Train Accuracy:  0.6564980025438455\n",
            "Test Accuracy:  0.6571930170274894 \n",
            "\n",
            "\n",
            "ROC-AUC Score:  0.6840655132658225\n",
            "Cohen Cappa Score:  0.1883685397919883 \n",
            "\n",
            "\n",
            "              precision    recall  f1-score   support\n",
            "\n",
            "           0       0.67      0.89      0.76     69224\n",
            "           1       0.61      0.28      0.38     42419\n",
            "\n",
            "    accuracy                           0.66    111643\n",
            "   macro avg       0.64      0.58      0.57    111643\n",
            "weighted avg       0.64      0.66      0.62    111643\n",
            "\n"
          ]
        }
      ]
    },
    {
      "cell_type": "code",
      "source": [
        "from sklearn.model_selection import RandomizedSearchCV\n",
        "\n",
        "params = {'n_estimators': [5,25,50,100,150],\n",
        "         'max_depth': [3,6,8,10,12,16],\n",
        "         'criterion': ['gini','entropy'],\n",
        "         'min_samples_split':[5,10,15],\n",
        "         'min_samples_leaf':[5,10,15]\n",
        "         }\n",
        "\n",
        "rf = RandomForestClassifier(random_state = 10)\n",
        "\n",
        "randmcv = RandomizedSearchCV(estimator=rf, param_distributions = params,\n",
        "                               cv = 5, n_iter = 10, n_jobs=-1)\n",
        "\n",
        "\n",
        "randmcv.fit(xtrain, ytrain)\n",
        "\n",
        "randmcv.best_params_"
      ],
      "metadata": {
        "id": "_ASPB-EwpYxr",
        "colab": {
          "base_uri": "https://localhost:8080/"
        },
        "outputId": "76eb855a-6fe2-41eb-aeb8-4f04af3e60ca"
      },
      "execution_count": null,
      "outputs": [
        {
          "output_type": "execute_result",
          "data": {
            "text/plain": [
              "{'criterion': 'entropy',\n",
              " 'max_depth': 16,\n",
              " 'min_samples_leaf': 10,\n",
              " 'min_samples_split': 10,\n",
              " 'n_estimators': 25}"
            ]
          },
          "metadata": {},
          "execution_count": 54
        }
      ]
    },
    {
      "cell_type": "code",
      "source": [
        "rf = RandomForestClassifier(criterion= 'entropy',max_depth=16,min_samples_leaf=15,min_samples_split=15,n_estimators=150, random_state=10)\n",
        "rf.fit(xtrain,ytrain)\n",
        "\n",
        "y_pred_rf = rf.predict(xtest)\n",
        "y_train_rf = rf.predict(xtrain)\n",
        "ypred_proba_rf = rf.predict_proba(xtest)[:,1]\n",
        "\n",
        "print ('Train Accuracy: ',accuracy_score(ytrain,y_train_rf))\n",
        "print ('Test Accuracy: ',accuracy_score(ytest,y_pred_rf), '\\n')\n",
        "\n",
        "print('ROC-AUC Score: ',roc_auc_score(ytest,ypred_proba_rf))\n",
        "print('Cohen Cappa Score: ',cohen_kappa_score(ytest,y_pred_rf),'\\n')\n",
        "\n",
        "print(confusion_matrix(ytest,y_pred_rf),'\\n')\n",
        "\n",
        "print(classification_report(ytest,y_pred_rf))"
      ],
      "metadata": {
        "id": "MHbMUw0ipY0N",
        "colab": {
          "base_uri": "https://localhost:8080/"
        },
        "outputId": "a3245941-3dbb-41fa-acba-c29158b17083"
      },
      "execution_count": null,
      "outputs": [
        {
          "output_type": "stream",
          "name": "stdout",
          "text": [
            "Train Accuracy:  0.7033486501495853\n",
            "Test Accuracy:  0.6901104413174135 \n",
            "\n",
            "ROC-AUC Score:  0.7350988918637265\n",
            "Cohen Cappa Score:  0.2734548225971377 \n",
            "\n",
            "[[62307  6917]\n",
            " [27680 14739]] \n",
            "\n",
            "              precision    recall  f1-score   support\n",
            "\n",
            "           0       0.69      0.90      0.78     69224\n",
            "           1       0.68      0.35      0.46     42419\n",
            "\n",
            "    accuracy                           0.69    111643\n",
            "   macro avg       0.69      0.62      0.62    111643\n",
            "weighted avg       0.69      0.69      0.66    111643\n",
            "\n"
          ]
        }
      ]
    },
    {
      "cell_type": "code",
      "source": [
        "final_df_cat.columns"
      ],
      "metadata": {
        "colab": {
          "base_uri": "https://localhost:8080/"
        },
        "id": "Art7nGLGjSDy",
        "outputId": "1d7df4be-0c77-4cfb-f995-507643243749"
      },
      "execution_count": null,
      "outputs": [
        {
          "output_type": "execute_result",
          "data": {
            "text/plain": [
              "Index(['PotentialFraud', 'Gender', 'Race', 'State', 'County',\n",
              "       'Patient_visitType', 'DeadorNot', 'Repeted_Physician'],\n",
              "      dtype='object')"
            ]
          },
          "metadata": {},
          "execution_count": 56
        }
      ]
    },
    {
      "cell_type": "code",
      "source": [
        "from sklearn.model_selection import RandomizedSearchCV\n",
        "\n",
        "params = {\n",
        "         'max_depth': [16,17,18,19,20,22,24],\n",
        "         'criterion': ['gini','entropy'],\n",
        "         'min_samples_split':[13,15,18],\n",
        "         'min_samples_leaf':[13,15,18]\n",
        "         }\n",
        "\n",
        "dt = DecisionTreeClassifier(random_state = 10)\n",
        "\n",
        "randmcv = RandomizedSearchCV(estimator=dt, param_distributions = params,\n",
        "                               cv = 5, n_iter = 10, n_jobs=-1)\n",
        "\n",
        "\n",
        "randmcv.fit(xtrain, ytrain)\n",
        "\n",
        "randmcv.best_params_"
      ],
      "metadata": {
        "id": "B3zG6DSGpY3s",
        "colab": {
          "base_uri": "https://localhost:8080/"
        },
        "outputId": "a1b98dae-1d56-4a1e-83dc-88f1d681a52b"
      },
      "execution_count": null,
      "outputs": [
        {
          "output_type": "execute_result",
          "data": {
            "text/plain": [
              "{'criterion': 'gini',\n",
              " 'max_depth': 18,\n",
              " 'min_samples_leaf': 15,\n",
              " 'min_samples_split': 15}"
            ]
          },
          "metadata": {},
          "execution_count": 57
        }
      ]
    },
    {
      "cell_type": "code",
      "source": [
        "dt = DecisionTreeClassifier(criterion= 'gini',max_depth=16,min_samples_leaf=15,min_samples_split=18,random_state=10)\n",
        "dt.fit(xtrain,ytrain)\n",
        "\n",
        "y_pred_dt = dt.predict(xtest)\n",
        "y_train_dt = dt.predict(xtrain)\n",
        "ypred_proba_dt = dt.predict_proba(xtest)[:,1]\n",
        "\n",
        "print ('Train Accuracy: ',accuracy_score(ytrain,y_train_dt))\n",
        "print ('Test Accuracy: ',accuracy_score(ytest,y_pred_dt), '\\n')\n",
        "\n",
        "print('ROC-AUC Score: ',roc_auc_score(ytest,ypred_proba_dt))\n",
        "print('Cohen Cappa Score: ',cohen_kappa_score(ytest,y_pred_dt),'\\n')\n",
        "\n",
        "print(confusion_matrix(ytest,y_pred_dt),'\\n')\n",
        "\n",
        "print(classification_report(ytest,y_pred_dt))"
      ],
      "metadata": {
        "id": "gaT0Nry5ouD6",
        "colab": {
          "base_uri": "https://localhost:8080/"
        },
        "outputId": "489f6c01-7199-4d92-df92-333b8f40b9a9"
      },
      "execution_count": null,
      "outputs": [
        {
          "output_type": "stream",
          "name": "stdout",
          "text": [
            "Train Accuracy:  0.787671754357679\n",
            "Test Accuracy:  0.7668819361715468 \n",
            "\n",
            "ROC-AUC Score:  0.8284939660405846\n",
            "Cohen Cappa Score:  0.49989733011521986 \n",
            "\n",
            "[[57382 11842]\n",
            " [14184 28235]] \n",
            "\n",
            "              precision    recall  f1-score   support\n",
            "\n",
            "           0       0.80      0.83      0.82     69224\n",
            "           1       0.70      0.67      0.68     42419\n",
            "\n",
            "    accuracy                           0.77    111643\n",
            "   macro avg       0.75      0.75      0.75    111643\n",
            "weighted avg       0.76      0.77      0.77    111643\n",
            "\n"
          ]
        }
      ]
    },
    {
      "cell_type": "code",
      "source": [
        ""
      ],
      "metadata": {
        "id": "fQLvHBLDnpyy"
      },
      "execution_count": null,
      "outputs": []
    },
    {
      "cell_type": "code",
      "source": [
        "dt = DecisionTreeClassifier(criterion= 'gini',max_depth=18,min_samples_leaf=26,min_samples_split=22,random_state=10)\n",
        "dt.fit(xtrain,ytrain)\n",
        "\n",
        "y_pred_dt = dt.predict(xtest)\n",
        "y_train_dt = dt.predict(xtrain)\n",
        "ypred_proba_dt = dt.predict_proba(xtest)[:,1]\n",
        "\n",
        "print ('Train Accuracy: ',accuracy_score(ytrain,y_train_dt))\n",
        "print ('Test Accuracy: ',accuracy_score(ytest,y_pred_dt), '\\n')\n",
        "\n",
        "print('ROC-AUC Score: ',roc_auc_score(ytest,ypred_proba_dt))\n",
        "print('Cohen Cappa Score: ',cohen_kappa_score(ytest,y_pred_dt),'\\n')\n",
        "\n",
        "print(confusion_matrix(ytest,y_pred_dt),'\\n')\n",
        "\n",
        "print(classification_report(ytest,y_pred_dt))"
      ],
      "metadata": {
        "colab": {
          "base_uri": "https://localhost:8080/"
        },
        "id": "6WDJFzPFh7JB",
        "outputId": "cc3ec7d9-557f-41f2-af8e-b236bd185228"
      },
      "execution_count": null,
      "outputs": [
        {
          "output_type": "stream",
          "name": "stdout",
          "text": [
            "Train Accuracy:  0.7923630891599935\n",
            "Test Accuracy:  0.7706260132744552 \n",
            "\n",
            "ROC-AUC Score:  0.8313343517114746\n",
            "Cohen Cappa Score:  0.505621194346088 \n",
            "\n",
            "[[58097 11127]\n",
            " [14481 27938]] \n",
            "\n",
            "              precision    recall  f1-score   support\n",
            "\n",
            "           0       0.80      0.84      0.82     69224\n",
            "           1       0.72      0.66      0.69     42419\n",
            "\n",
            "    accuracy                           0.77    111643\n",
            "   macro avg       0.76      0.75      0.75    111643\n",
            "weighted avg       0.77      0.77      0.77    111643\n",
            "\n"
          ]
        }
      ]
    },
    {
      "cell_type": "code",
      "source": [
        "dt = DecisionTreeClassifier(criterion= 'gini',max_depth=20,min_samples_leaf=18,min_samples_split=18,random_state=10)\n",
        "dt.fit(xtrain,ytrain)\n",
        "\n",
        "y_pred_dt = dt.predict(xtest)\n",
        "y_train_dt = dt.predict(xtrain)\n",
        "ypred_proba_dt = dt.predict_proba(xtest)[:,1]\n",
        "\n",
        "print ('Train Accuracy: ',accuracy_score(ytrain,y_train_dt))\n",
        "print ('Test Accuracy: ',accuracy_score(ytest,y_pred_dt), '\\n')\n",
        "\n",
        "print('ROC-AUC Score: ',roc_auc_score(ytest,ypred_proba_dt))\n",
        "print('Cohen Cappa Score: ',cohen_kappa_score(ytest,y_pred_dt),'\\n')\n",
        "\n",
        "print(confusion_matrix(ytest,y_pred_dt),'\\n')\n",
        "\n",
        "print(classification_report(ytest,y_pred_dt))"
      ],
      "metadata": {
        "colab": {
          "base_uri": "https://localhost:8080/"
        },
        "id": "q_ZzgejstVsl",
        "outputId": "b70ee915-ad6a-4ee9-c35d-4f63a0a1334a"
      },
      "execution_count": null,
      "outputs": [
        {
          "output_type": "stream",
          "name": "stdout",
          "text": [
            "Train Accuracy:  0.8049390014510668\n",
            "Test Accuracy:  0.7701154573058767 \n",
            "\n",
            "ROC-AUC Score:  0.8276478694179917\n",
            "Cohen Cappa Score:  0.5059611633646539 \n",
            "\n",
            "[[57754 11470]\n",
            " [14195 28224]] \n",
            "\n",
            "              precision    recall  f1-score   support\n",
            "\n",
            "           0       0.80      0.83      0.82     69224\n",
            "           1       0.71      0.67      0.69     42419\n",
            "\n",
            "    accuracy                           0.77    111643\n",
            "   macro avg       0.76      0.75      0.75    111643\n",
            "weighted avg       0.77      0.77      0.77    111643\n",
            "\n"
          ]
        }
      ]
    },
    {
      "cell_type": "code",
      "source": [
        "from sklearn.ensemble import BaggingClassifier\n",
        "\n",
        "dt = DecisionTreeClassifier(random_state=10)\n",
        "\n",
        "bc = BaggingClassifier(base_estimator =dt, random_state=10)\n",
        "\n",
        "bc.fit(xtrain,ytrain)\n",
        "ypred_bc = bc.predict(xtest)\n",
        "y_train_bc = bc.predict(xtrain)\n",
        "ypred_proba_bc = bc.predict_proba(xtest)[:,1]\n",
        "\n",
        "print ('Train Accuracy: ',accuracy_score(ytrain,y_train_bc))\n",
        "print ('Test Accuracy: ',accuracy_score(ytest,ypred_bc), '\\n')\n",
        "\n",
        "print('ROC-AUC Score: ',roc_auc_score(ytest,ypred_proba_bc))\n",
        "print('Cohen Cappa Score: ',cohen_kappa_score(ytest,ypred_bc),'\\n')\n",
        "\n",
        "print(confusion_matrix(ytest,ypred_bc),'\\n')\n",
        "\n",
        "print(classification_report(ytest,ypred_bc))"
      ],
      "metadata": {
        "colab": {
          "base_uri": "https://localhost:8080/"
        },
        "id": "rvTItjtZtbpO",
        "outputId": "205c1f10-cf42-4c6d-d750-29997f172ffc"
      },
      "execution_count": null,
      "outputs": [
        {
          "output_type": "stream",
          "name": "stdout",
          "text": [
            "Train Accuracy:  0.9800881388724674\n",
            "Test Accuracy:  0.7483675644688874 \n",
            "\n",
            "ROC-AUC Score:  0.8023004500835763\n",
            "Cohen Cappa Score:  0.4508633007224395 \n",
            "\n",
            "[[58187 11037]\n",
            " [17056 25363]] \n",
            "\n",
            "              precision    recall  f1-score   support\n",
            "\n",
            "           0       0.77      0.84      0.81     69224\n",
            "           1       0.70      0.60      0.64     42419\n",
            "\n",
            "    accuracy                           0.75    111643\n",
            "   macro avg       0.74      0.72      0.72    111643\n",
            "weighted avg       0.74      0.75      0.74    111643\n",
            "\n"
          ]
        }
      ]
    },
    {
      "cell_type": "code",
      "source": [
        "from sklearn.ensemble import BaggingClassifier\n",
        "dt1 = DecisionTreeClassifier(criterion= 'gini',max_depth=16,min_samples_leaf=15,min_samples_split=18,random_state=10)\n",
        "\n",
        "bc = BaggingClassifier(base_estimator =dt1, random_state=10)\n",
        "\n",
        "bc.fit(xtrain,ytrain)\n",
        "ypred_bc = bc.predict(xtest)\n",
        "y_train_bc = bc.predict(xtrain)\n",
        "ypred_proba_bc = bc.predict_proba(xtest)[:,1]\n",
        "\n",
        "print ('Train Accuracy: ',accuracy_score(ytrain,y_train_bc))\n",
        "print ('Test Accuracy: ',accuracy_score(ytest,ypred_bc), '\\n')\n",
        "\n",
        "print('ROC-AUC Score: ',roc_auc_score(ytest,ypred_proba_bc))\n",
        "print('Cohen Cappa Score: ',cohen_kappa_score(ytest,ypred_bc),'\\n')\n",
        "\n",
        "print(confusion_matrix(ytest,ypred_bc),'\\n')\n",
        "\n",
        "print(classification_report(ytest,ypred_bc))"
      ],
      "metadata": {
        "id": "BVgnFZMI8CJo"
      },
      "execution_count": null,
      "outputs": []
    },
    {
      "cell_type": "code",
      "source": [
        "# dt = DecisionTreeClassifier()\n",
        "# rf = RandomForestClassifier()\n",
        "# xgb = XGBClassifier()\n",
        "# cat = CatBoostClassifier()\n",
        "# from sklearn.ensemble import StackingClassifier\n",
        "\n",
        "# base_learners = [('DT Model',dt),\n",
        "#                 ('RF Model',rf),\n",
        "#                 ('CatB Model',cat)]\n",
        "\n",
        "# stack_model = StackingClassifier(estimators=base_learners, final_estimator=dt, )\n",
        "\n",
        "# stack_model.fit(xtrain, ytrain)\n",
        "# ypred_stack = stack_model.predict(xtest)\n",
        "# y_train_stack = bc.predict(xtrain)\n",
        "# ypred_proba_stack = bc.predict_proba(xtest)[:,1]\n",
        "\n",
        "# print ('Train Accuracy: ',accuracy_score(ytrain,y_train_stack))\n",
        "# print ('Test Accuracy: ',accuracy_score(ytest,ypred_stack), '\\n')\n",
        "\n",
        "# print('ROC-AUC Score: ',roc_auc_score(ytest,ypred_proba_stack))\n",
        "# print('Cohen Cappa Score: ',cohen_kappa_score(ytest,ypred_stack),'\\n')\n",
        "\n",
        "# print(confusion_matrix(ytest,ypred_stack),'\\n')\n",
        "\n",
        "# print(classification_report(ytest,ypred_stack))"
      ],
      "metadata": {
        "id": "V9O1Uk1y8grn"
      },
      "execution_count": null,
      "outputs": []
    }
  ],
  "metadata": {
    "kernelspec": {
      "display_name": "Python 3",
      "language": "python",
      "name": "python3"
    },
    "language_info": {
      "codemirror_mode": {
        "name": "ipython",
        "version": 3
      },
      "file_extension": ".py",
      "mimetype": "text/x-python",
      "name": "python",
      "nbconvert_exporter": "python",
      "pygments_lexer": "ipython3",
      "version": "3.8.5"
    },
    "colab": {
      "name": "Capstone Gr-1, S-3,  Statistical Tests & Build Model .ipynb",
      "provenance": []
    }
  },
  "nbformat": 4,
  "nbformat_minor": 0
}