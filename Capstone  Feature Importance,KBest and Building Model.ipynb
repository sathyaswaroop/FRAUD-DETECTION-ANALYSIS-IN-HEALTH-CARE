{
 "cells": [
  {
   "cell_type": "code",
   "execution_count": 1,
   "metadata": {
    "ExecuteTime": {
     "end_time": "2022-03-23T18:23:31.798506Z",
     "start_time": "2022-03-23T18:23:26.813278Z"
    }
   },
   "outputs": [],
   "source": [
    "import numpy as np\n",
    "import pandas as pd\n",
    "import seaborn as sns\n",
    "import matplotlib.pyplot as plt\n",
    "from sklearn.ensemble import AdaBoostClassifier,GradientBoostingClassifier\n",
    "from xgboost import XGBClassifier\n",
    "from sklearn.model_selection import GridSearchCV,cross_val_score,train_test_split\n",
    "from sklearn.metrics import classification_report,accuracy_score,confusion_matrix,roc_auc_score,roc_curve"
   ]
  },
  {
   "cell_type": "code",
   "execution_count": 2,
   "metadata": {
    "ExecuteTime": {
     "end_time": "2022-03-23T18:23:34.323681Z",
     "start_time": "2022-03-23T18:23:31.803507Z"
    }
   },
   "outputs": [
    {
     "data": {
      "text/html": [
       "<div>\n",
       "<style scoped>\n",
       "    .dataframe tbody tr th:only-of-type {\n",
       "        vertical-align: middle;\n",
       "    }\n",
       "\n",
       "    .dataframe tbody tr th {\n",
       "        vertical-align: top;\n",
       "    }\n",
       "\n",
       "    .dataframe thead th {\n",
       "        text-align: right;\n",
       "    }\n",
       "</style>\n",
       "<table border=\"1\" class=\"dataframe\">\n",
       "  <thead>\n",
       "    <tr style=\"text-align: right;\">\n",
       "      <th></th>\n",
       "      <th>PotentialFraud</th>\n",
       "      <th>ClaimID</th>\n",
       "      <th>InscClaimAmtReimbursed</th>\n",
       "      <th>DeductibleAmtPaid</th>\n",
       "      <th>Gender</th>\n",
       "      <th>Race</th>\n",
       "      <th>State</th>\n",
       "      <th>County</th>\n",
       "      <th>NoOfMonths_PartACov</th>\n",
       "      <th>NoOfMonths_PartBCov</th>\n",
       "      <th>...</th>\n",
       "      <th>Age</th>\n",
       "      <th>Days_stayed_inhospital</th>\n",
       "      <th>Patient_visitType</th>\n",
       "      <th>DeadorNot</th>\n",
       "      <th>Days_to_settle_claim</th>\n",
       "      <th>Total_PhysiciansChecked</th>\n",
       "      <th>Repeted_Physician</th>\n",
       "      <th>TotalClmDiagnosisCount</th>\n",
       "      <th>TotalClmProcedureCount</th>\n",
       "      <th>TotalDiseaseCount</th>\n",
       "    </tr>\n",
       "  </thead>\n",
       "  <tbody>\n",
       "    <tr>\n",
       "      <th>0</th>\n",
       "      <td>0</td>\n",
       "      <td>CLM272936</td>\n",
       "      <td>500</td>\n",
       "      <td>0.0</td>\n",
       "      <td>1</td>\n",
       "      <td>1</td>\n",
       "      <td>1</td>\n",
       "      <td>410</td>\n",
       "      <td>12</td>\n",
       "      <td>12</td>\n",
       "      <td>...</td>\n",
       "      <td>74.0</td>\n",
       "      <td>0.0</td>\n",
       "      <td>0.0</td>\n",
       "      <td>0.0</td>\n",
       "      <td>1</td>\n",
       "      <td>2</td>\n",
       "      <td>0.0</td>\n",
       "      <td>1</td>\n",
       "      <td>0</td>\n",
       "      <td>8</td>\n",
       "    </tr>\n",
       "    <tr>\n",
       "      <th>1</th>\n",
       "      <td>0</td>\n",
       "      <td>CLM58316</td>\n",
       "      <td>36000</td>\n",
       "      <td>1068.0</td>\n",
       "      <td>1</td>\n",
       "      <td>1</td>\n",
       "      <td>1</td>\n",
       "      <td>510</td>\n",
       "      <td>12</td>\n",
       "      <td>12</td>\n",
       "      <td>...</td>\n",
       "      <td>69.0</td>\n",
       "      <td>4.0</td>\n",
       "      <td>1.0</td>\n",
       "      <td>0.0</td>\n",
       "      <td>4</td>\n",
       "      <td>1</td>\n",
       "      <td>0.0</td>\n",
       "      <td>3</td>\n",
       "      <td>0</td>\n",
       "      <td>6</td>\n",
       "    </tr>\n",
       "    <tr>\n",
       "      <th>2</th>\n",
       "      <td>0</td>\n",
       "      <td>CLM52334</td>\n",
       "      <td>12000</td>\n",
       "      <td>1068.0</td>\n",
       "      <td>1</td>\n",
       "      <td>1</td>\n",
       "      <td>1</td>\n",
       "      <td>160</td>\n",
       "      <td>12</td>\n",
       "      <td>12</td>\n",
       "      <td>...</td>\n",
       "      <td>72.0</td>\n",
       "      <td>2.0</td>\n",
       "      <td>1.0</td>\n",
       "      <td>0.0</td>\n",
       "      <td>2</td>\n",
       "      <td>1</td>\n",
       "      <td>0.0</td>\n",
       "      <td>1</td>\n",
       "      <td>0</td>\n",
       "      <td>1</td>\n",
       "    </tr>\n",
       "    <tr>\n",
       "      <th>3</th>\n",
       "      <td>0</td>\n",
       "      <td>CLM452024</td>\n",
       "      <td>70</td>\n",
       "      <td>0.0</td>\n",
       "      <td>1</td>\n",
       "      <td>1</td>\n",
       "      <td>1</td>\n",
       "      <td>510</td>\n",
       "      <td>12</td>\n",
       "      <td>12</td>\n",
       "      <td>...</td>\n",
       "      <td>91.0</td>\n",
       "      <td>0.0</td>\n",
       "      <td>0.0</td>\n",
       "      <td>0.0</td>\n",
       "      <td>0</td>\n",
       "      <td>1</td>\n",
       "      <td>0.0</td>\n",
       "      <td>4</td>\n",
       "      <td>0</td>\n",
       "      <td>4</td>\n",
       "    </tr>\n",
       "    <tr>\n",
       "      <th>4</th>\n",
       "      <td>0</td>\n",
       "      <td>CLM36844</td>\n",
       "      <td>3000</td>\n",
       "      <td>1068.0</td>\n",
       "      <td>2</td>\n",
       "      <td>1</td>\n",
       "      <td>1</td>\n",
       "      <td>510</td>\n",
       "      <td>12</td>\n",
       "      <td>12</td>\n",
       "      <td>...</td>\n",
       "      <td>75.0</td>\n",
       "      <td>5.0</td>\n",
       "      <td>1.0</td>\n",
       "      <td>0.0</td>\n",
       "      <td>5</td>\n",
       "      <td>1</td>\n",
       "      <td>0.0</td>\n",
       "      <td>2</td>\n",
       "      <td>0</td>\n",
       "      <td>6</td>\n",
       "    </tr>\n",
       "  </tbody>\n",
       "</table>\n",
       "<p>5 rows × 24 columns</p>\n",
       "</div>"
      ],
      "text/plain": [
       "   PotentialFraud    ClaimID  InscClaimAmtReimbursed  DeductibleAmtPaid  \\\n",
       "0               0  CLM272936                     500                0.0   \n",
       "1               0   CLM58316                   36000             1068.0   \n",
       "2               0   CLM52334                   12000             1068.0   \n",
       "3               0  CLM452024                      70                0.0   \n",
       "4               0   CLM36844                    3000             1068.0   \n",
       "\n",
       "   Gender  Race  State  County  NoOfMonths_PartACov  NoOfMonths_PartBCov  ...  \\\n",
       "0       1     1      1     410                   12                   12  ...   \n",
       "1       1     1      1     510                   12                   12  ...   \n",
       "2       1     1      1     160                   12                   12  ...   \n",
       "3       1     1      1     510                   12                   12  ...   \n",
       "4       2     1      1     510                   12                   12  ...   \n",
       "\n",
       "    Age  Days_stayed_inhospital  Patient_visitType  DeadorNot  \\\n",
       "0  74.0                     0.0                0.0        0.0   \n",
       "1  69.0                     4.0                1.0        0.0   \n",
       "2  72.0                     2.0                1.0        0.0   \n",
       "3  91.0                     0.0                0.0        0.0   \n",
       "4  75.0                     5.0                1.0        0.0   \n",
       "\n",
       "   Days_to_settle_claim  Total_PhysiciansChecked  Repeted_Physician  \\\n",
       "0                     1                        2                0.0   \n",
       "1                     4                        1                0.0   \n",
       "2                     2                        1                0.0   \n",
       "3                     0                        1                0.0   \n",
       "4                     5                        1                0.0   \n",
       "\n",
       "   TotalClmDiagnosisCount  TotalClmProcedureCount  TotalDiseaseCount  \n",
       "0                       1                       0                  8  \n",
       "1                       3                       0                  6  \n",
       "2                       1                       0                  1  \n",
       "3                       4                       0                  4  \n",
       "4                       2                       0                  6  \n",
       "\n",
       "[5 rows x 24 columns]"
      ]
     },
     "execution_count": 2,
     "metadata": {},
     "output_type": "execute_result"
    }
   ],
   "source": [
    "df=pd.read_csv('Healthcare_fraud.csv')\n",
    "df.head()"
   ]
  },
  {
   "cell_type": "code",
   "execution_count": 3,
   "metadata": {},
   "outputs": [
    {
     "data": {
      "text/plain": [
       "(558211, 24)"
      ]
     },
     "execution_count": 3,
     "metadata": {},
     "output_type": "execute_result"
    }
   ],
   "source": [
    "df.shape"
   ]
  },
  {
   "cell_type": "code",
   "execution_count": 4,
   "metadata": {},
   "outputs": [
    {
     "data": {
      "text/plain": [
       "PotentialFraud              0\n",
       "ClaimID                     0\n",
       "InscClaimAmtReimbursed      0\n",
       "DeductibleAmtPaid           0\n",
       "Gender                      0\n",
       "Race                        0\n",
       "State                       0\n",
       "County                      0\n",
       "NoOfMonths_PartACov         0\n",
       "NoOfMonths_PartBCov         0\n",
       "IPAnnualReimbursementAmt    0\n",
       "IPAnnualDeductibleAmt       0\n",
       "OPAnnualReimbursementAmt    0\n",
       "OPAnnualDeductibleAmt       0\n",
       "Age                         0\n",
       "Days_stayed_inhospital      0\n",
       "Patient_visitType           0\n",
       "DeadorNot                   0\n",
       "Days_to_settle_claim        0\n",
       "Total_PhysiciansChecked     0\n",
       "Repeted_Physician           0\n",
       "TotalClmDiagnosisCount      0\n",
       "TotalClmProcedureCount      0\n",
       "TotalDiseaseCount           0\n",
       "dtype: int64"
      ]
     },
     "execution_count": 4,
     "metadata": {},
     "output_type": "execute_result"
    }
   ],
   "source": [
    "df.isnull().sum()"
   ]
  },
  {
   "cell_type": "code",
   "execution_count": 5,
   "metadata": {},
   "outputs": [
    {
     "data": {
      "text/plain": [
       "(array([ 1,  2,  3,  4,  5,  6,  7,  8,  9, 10, 11, 12, 13, 14, 15, 16, 17,\n",
       "        18, 19, 20, 21, 22, 23]),\n",
       " [Text(1, 0, 'PotentialFraud'),\n",
       "  Text(2, 0, 'InscClaimAmtReimbursed'),\n",
       "  Text(3, 0, 'DeductibleAmtPaid'),\n",
       "  Text(4, 0, 'Gender'),\n",
       "  Text(5, 0, 'Race'),\n",
       "  Text(6, 0, 'State'),\n",
       "  Text(7, 0, 'County'),\n",
       "  Text(8, 0, 'NoOfMonths_PartACov'),\n",
       "  Text(9, 0, 'NoOfMonths_PartBCov'),\n",
       "  Text(10, 0, 'IPAnnualReimbursementAmt'),\n",
       "  Text(11, 0, 'IPAnnualDeductibleAmt'),\n",
       "  Text(12, 0, 'OPAnnualReimbursementAmt'),\n",
       "  Text(13, 0, 'OPAnnualDeductibleAmt'),\n",
       "  Text(14, 0, 'Age'),\n",
       "  Text(15, 0, 'Days_stayed_inhospital'),\n",
       "  Text(16, 0, 'Patient_visitType'),\n",
       "  Text(17, 0, 'DeadorNot'),\n",
       "  Text(18, 0, 'Days_to_settle_claim'),\n",
       "  Text(19, 0, 'Total_PhysiciansChecked'),\n",
       "  Text(20, 0, 'Repeted_Physician'),\n",
       "  Text(21, 0, 'TotalClmDiagnosisCount'),\n",
       "  Text(22, 0, 'TotalClmProcedureCount'),\n",
       "  Text(23, 0, 'TotalDiseaseCount')])"
      ]
     },
     "execution_count": 5,
     "metadata": {},
     "output_type": "execute_result"
    },
    {
     "data": {
      "image/png": "[encoded data removed]",
      "text/plain": [
       "<Figure size 864x504 with 1 Axes>"
      ]
     },
     "metadata": {
      "needs_background": "light"
     },
     "output_type": "display_data"
    }
   ],
   "source": [
    "df.plot(kind='box',figsize=(12,7))\n",
    "plt.xticks(rotation=90)"
   ]
  },
  {
   "cell_type": "code",
   "execution_count": 6,
   "metadata": {},
   "outputs": [
    {
     "data": {
      "text/plain": [
       "PotentialFraud                int64\n",
       "ClaimID                      object\n",
       "InscClaimAmtReimbursed        int64\n",
       "DeductibleAmtPaid           float64\n",
       "Gender                        int64\n",
       "Race                          int64\n",
       "State                         int64\n",
       "County                        int64\n",
       "NoOfMonths_PartACov           int64\n",
       "NoOfMonths_PartBCov           int64\n",
       "IPAnnualReimbursementAmt      int64\n",
       "IPAnnualDeductibleAmt         int64\n",
       "OPAnnualReimbursementAmt      int64\n",
       "OPAnnualDeductibleAmt         int64\n",
       "Age                         float64\n",
       "Days_stayed_inhospital      float64\n",
       "Patient_visitType           float64\n",
       "DeadorNot                   float64\n",
       "Days_to_settle_claim          int64\n",
       "Total_PhysiciansChecked       int64\n",
       "Repeted_Physician           float64\n",
       "TotalClmDiagnosisCount        int64\n",
       "TotalClmProcedureCount        int64\n",
       "TotalDiseaseCount             int64\n",
       "dtype: object"
      ]
     },
     "execution_count": 6,
     "metadata": {},
     "output_type": "execute_result"
    }
   ],
   "source": [
    "df.dtypes"
   ]
  },
  {
   "cell_type": "markdown",
   "metadata": {},
   "source": [
    "## Train Test Split for K-Best Features"
   ]
  },
  {
   "cell_type": "code",
   "execution_count": 4,
   "metadata": {
    "ExecuteTime": {
     "end_time": "2022-03-23T18:46:39.691714Z",
     "start_time": "2022-03-23T18:46:39.524762Z"
    }
   },
   "outputs": [
    {
     "name": "stdout",
     "output_type": "stream",
     "text": [
      "xtrain (446568, 14)\n",
      "ytrain (446568,)\n",
      "xtest (111643, 14)\n",
      "ytest (111643,)\n"
     ]
    }
   ],
   "source": [
    "x=df[['NoOfMonths_PartACov', 'NoOfMonths_PartBCov','IPAnnualReimbursementAmt', 'IPAnnualDeductibleAmt',\n",
    "       'OPAnnualReimbursementAmt', 'OPAnnualDeductibleAmt', 'Age', 'Days_to_settle_claim','TotalClmDiagnosisCount', \n",
    "      'TotalClmProcedureCount','TotalDiseaseCount','Total_PhysiciansChecked','Race','DeadorNot']]\n",
    "y=df['PotentialFraud']\n",
    "xtrain,xtest,ytrain,ytest=train_test_split(x,y,test_size=0.2,random_state=10)\n",
    "print('xtrain',xtrain.shape)\n",
    "print('ytrain',ytrain.shape)\n",
    "print('xtest',xtest.shape)\n",
    "print('ytest',ytest.shape)"
   ]
  },
  {
   "cell_type": "code",
   "execution_count": 5,
   "metadata": {
    "ExecuteTime": {
     "end_time": "2022-03-23T18:48:41.583504Z",
     "start_time": "2022-03-23T18:48:41.543423Z"
    }
   },
   "outputs": [],
   "source": [
    "from xverse.transformer import WOE"
   ]
  },
  {
   "cell_type": "code",
   "execution_count": 9,
   "metadata": {
    "ExecuteTime": {
     "end_time": "2022-03-23T18:51:38.947075Z",
     "start_time": "2022-03-23T18:50:59.167321Z"
    }
   },
   "outputs": [
    {
     "name": "stdout",
     "output_type": "stream",
     "text": [
      "Training Accuracy\n",
      "0.6405877716271654\n",
      "Testing Accuracy\n",
      "0.6172532088890481\n",
      "[[64151  5073]\n",
      " [37658  4761]]\n",
      "              precision    recall  f1-score   support\n",
      "\n",
      "           0       0.63      0.93      0.75     69224\n",
      "           1       0.48      0.11      0.18     42419\n",
      "\n",
      "    accuracy                           0.62    111643\n",
      "   macro avg       0.56      0.52      0.47    111643\n",
      "weighted avg       0.57      0.62      0.53    111643\n",
      "\n"
     ]
    }
   ],
   "source": [
    "clf = WOE()\n",
    "clf.fit(xtrain, ytrain)\n",
    "xtrain = clf.transform(xtrain)\n",
    "xtest = clf.transform(xtest)\n",
    "\n",
    "lr = RandomForestClassifier(random_state=10)\n",
    "lr.fit(xtrain,ytrain)\n",
    "\n",
    "print(\"Training Accuracy\")\n",
    "print(lr.score(xtrain,ytrain))\n",
    "print(\"Testing Accuracy\")\n",
    "print(lr.score(xtest,ytest))\n",
    "predicted = lr.predict(xtest)\n",
    "print(confusion_matrix(ytest,predicted))\n",
    "print(classification_report(ytest,predicted))\n",
    "\n",
    "# scoresdt = cross_val_score(lr,Xtrain,ytrain,cv=10,scoring='f1')\n",
    "# print(scoresdt)\n",
    "# print(\"Average f1\")\n",
    "# print(np.mean(scoresdt))"
   ]
  },
  {
   "cell_type": "code",
   "execution_count": 8,
   "metadata": {},
   "outputs": [
    {
     "data": {
      "text/plain": [
       "Index(['PotentialFraud', 'ClaimID', 'InscClaimAmtReimbursed',\n",
       "       'DeductibleAmtPaid', 'Gender', 'Race', 'State', 'County',\n",
       "       'NoOfMonths_PartACov', 'NoOfMonths_PartBCov',\n",
       "       'IPAnnualReimbursementAmt', 'IPAnnualDeductibleAmt',\n",
       "       'OPAnnualReimbursementAmt', 'OPAnnualDeductibleAmt', 'Age',\n",
       "       'Days_stayed_inhospital', 'Patient_visitType', 'DeadorNot',\n",
       "       'Days_to_settle_claim', 'Total_PhysiciansChecked', 'Repeted_Physician',\n",
       "       'TotalClmDiagnosisCount', 'TotalClmProcedureCount',\n",
       "       'TotalDiseaseCount'],\n",
       "      dtype='object')"
      ]
     },
     "execution_count": 8,
     "metadata": {},
     "output_type": "execute_result"
    }
   ],
   "source": [
    "df.columns"
   ]
  },
  {
   "cell_type": "markdown",
   "metadata": {},
   "source": [
    "## Boosting Models"
   ]
  },
  {
   "cell_type": "code",
   "execution_count": null,
   "metadata": {},
   "outputs": [],
   "source": []
  },
  {
   "cell_type": "markdown",
   "metadata": {},
   "source": [
    "### 1. Adaboost model"
   ]
  },
  {
   "cell_type": "code",
   "execution_count": 37,
   "metadata": {},
   "outputs": [
    {
     "name": "stdout",
     "output_type": "stream",
     "text": [
      "Accuracy Score: 0.623120123966572\n",
      "Classification Report for AdaBoost Model:\n",
      "               precision    recall  f1-score   support\n",
      "\n",
      "           0       0.63      0.97      0.76     69224\n",
      "           1       0.54      0.05      0.09     42419\n",
      "\n",
      "    accuracy                           0.62    111643\n",
      "   macro avg       0.58      0.51      0.43    111643\n",
      "weighted avg       0.59      0.62      0.51    111643\n",
      "\n"
     ]
    }
   ],
   "source": [
    "ab=AdaBoostClassifier(random_state=10)\n",
    "ab.fit(xtrain,ytrain)\n",
    "ypred_ab=ab.predict(xtest)\n",
    "print('Accuracy Score:',accuracy_score(ytest,ypred_ab))\n",
    "print('Classification Report for AdaBoost Model:\\n',classification_report(ytest,ypred_ab))"
   ]
  },
  {
   "cell_type": "markdown",
   "metadata": {},
   "source": [
    "### 2. Gradient Boosting Model"
   ]
  },
  {
   "cell_type": "code",
   "execution_count": 38,
   "metadata": {},
   "outputs": [
    {
     "name": "stdout",
     "output_type": "stream",
     "text": [
      "Accuracy Score: 0.6266492301353421\n",
      "Classification Report for Gradient Boosting Model:\n",
      "               precision    recall  f1-score   support\n",
      "\n",
      "           0       0.63      0.95      0.76     69224\n",
      "           1       0.55      0.10      0.16     42419\n",
      "\n",
      "    accuracy                           0.63    111643\n",
      "   macro avg       0.59      0.52      0.46    111643\n",
      "weighted avg       0.60      0.63      0.53    111643\n",
      "\n"
     ]
    }
   ],
   "source": [
    "gb=GradientBoostingClassifier(random_state=10)\n",
    "gb.fit(xtrain,ytrain)\n",
    "ypred_gb=gb.predict(xtest)\n",
    "print('Accuracy Score:',accuracy_score(ytest,ypred_gb))\n",
    "print('Classification Report for Gradient Boosting Model:\\n',classification_report(ytest,ypred_gb))"
   ]
  },
  {
   "cell_type": "code",
   "execution_count": 8,
   "metadata": {
    "ExecuteTime": {
     "end_time": "2022-03-23T18:50:49.805622Z",
     "start_time": "2022-03-23T18:50:49.795611Z"
    }
   },
   "outputs": [],
   "source": [
    "import warnings\n",
    "warnings.filterwarnings('ignore')\n",
    "import numpy as np\n",
    "import pandas as pd\n",
    "import matplotlib.pyplot as plt\n",
    "import seaborn as sns\n",
    "import warnings\n",
    "warnings.filterwarnings('ignore')\n",
    "\n",
    "plt.rcParams['figure.figsize'] = [15,8]\n",
    "\n",
    "from sklearn.naive_bayes import GaussianNB\n",
    "from sklearn.tree import DecisionTreeClassifier\n",
    "from sklearn.ensemble import RandomForestClassifier\n",
    "from sklearn.ensemble import AdaBoostClassifier\n",
    "from sklearn.linear_model import LogisticRegression\n",
    "\n",
    "from sklearn.metrics import roc_auc_score,cohen_kappa_score, confusion_matrix,classification_report, accuracy_score,f1_score\n",
    "from sklearn.model_selection import train_test_split"
   ]
  },
  {
   "cell_type": "code",
   "execution_count": 8,
   "metadata": {
    "ExecuteTime": {
     "end_time": "2022-03-23T11:08:14.797917Z",
     "start_time": "2022-03-23T11:08:10.036094Z"
    }
   },
   "outputs": [
    {
     "name": "stdout",
     "output_type": "stream",
     "text": [
      "Train Accuracy:  0.9713705415524624\n",
      "Test Accuracy:  0.6223677256970881 \n",
      "\n",
      "ROC-AUC Score:  0.6019552158301816\n",
      "Cohen Cappa Score:  0.1968920336232599 \n",
      "\n",
      "[[48368 20856]\n",
      " [21304 21115]] \n",
      "\n",
      "              precision    recall  f1-score   support\n",
      "\n",
      "           0       0.69      0.70      0.70     69224\n",
      "           1       0.50      0.50      0.50     42419\n",
      "\n",
      "    accuracy                           0.62    111643\n",
      "   macro avg       0.60      0.60      0.60    111643\n",
      "weighted avg       0.62      0.62      0.62    111643\n",
      "\n"
     ]
    }
   ],
   "source": [
    "dt = DecisionTreeClassifier(random_state=10)\n",
    "dt.fit(xtrain,ytrain)\n",
    "\n",
    "y_pred_dt = dt.predict(xtest)\n",
    "y_train_dt = dt.predict(xtrain)\n",
    "ypred_proba_dt = dt.predict_proba(xtest)[:,1]\n",
    "\n",
    "print ('Train Accuracy: ',accuracy_score(ytrain,y_train_dt))\n",
    "print ('Test Accuracy: ',accuracy_score(ytest,y_pred_dt), '\\n')\n",
    "\n",
    "print('ROC-AUC Score: ',roc_auc_score(ytest,ypred_proba_dt))\n",
    "print('Cohen Cappa Score: ',cohen_kappa_score(ytest,y_pred_dt),'\\n')\n",
    "\n",
    "print(confusion_matrix(ytest,y_pred_dt),'\\n')\n",
    "\n",
    "print(classification_report(ytest,y_pred_dt))"
   ]
  },
  {
   "cell_type": "markdown",
   "metadata": {},
   "source": [
    "### 3. XG-Boost Model"
   ]
  },
  {
   "cell_type": "code",
   "execution_count": 9,
   "metadata": {
    "ExecuteTime": {
     "end_time": "2022-03-23T11:08:27.091101Z",
     "start_time": "2022-03-23T11:08:14.799842Z"
    }
   },
   "outputs": [
    {
     "name": "stdout",
     "output_type": "stream",
     "text": [
      "[16:38:15] WARNING: C:/Users/Administrator/workspace/xgboost-win64_release_1.5.1/src/learner.cc:1115: Starting in XGBoost 1.3.0, the default evaluation metric used with the objective 'binary:logistic' was changed from 'error' to 'logloss'. Explicitly set eval_metric if you'd like to restore the old behavior.\n",
      "Train Accuracy:  0.6440094229770158\n",
      "Test Accuracy:  0.6343613123975529 \n",
      "\n",
      "\n",
      "ROC-AUC Score:  0.5363671539857882\n",
      "Cohen Cappa Score:  0.08569624442047508 \n",
      "\n",
      "\n",
      "              precision    recall  f1-score   support\n",
      "\n",
      "           0       0.64      0.94      0.76     69224\n",
      "           1       0.59      0.13      0.21     42419\n",
      "\n",
      "    accuracy                           0.63    111643\n",
      "   macro avg       0.61      0.54      0.49    111643\n",
      "weighted avg       0.62      0.63      0.55    111643\n",
      "\n"
     ]
    }
   ],
   "source": [
    "from xgboost import XGBClassifier\n",
    "xgb = XGBClassifier(random_state=10)\n",
    "xgb.fit(xtrain,ytrain)\n",
    "\n",
    "y_pred_xgb = xgb.predict(xtest)\n",
    "y_train_xgb = xgb.predict(xtrain)\n",
    "\n",
    "print ('Train Accuracy: ',accuracy_score(ytrain,y_train_xgb))\n",
    "print ('Test Accuracy: ',accuracy_score(ytest,y_pred_xgb), '\\n\\n')\n",
    "\n",
    "print('ROC-AUC Score: ',roc_auc_score(ytest,y_pred_xgb))\n",
    "print('Cohen Cappa Score: ',cohen_kappa_score(ytest,y_pred_xgb),'\\n\\n')\n",
    "\n",
    "print(classification_report(ytest,y_pred_xgb))"
   ]
  },
  {
   "cell_type": "code",
   "execution_count": 39,
   "metadata": {},
   "outputs": [
    {
     "name": "stderr",
     "output_type": "stream",
     "text": [
      "D:\\DatascienceSoftwares\\lib\\site-packages\\xgboost\\sklearn.py:1224: UserWarning: The use of label encoder in XGBClassifier is deprecated and will be removed in a future release. To remove this warning, do the following: 1) Pass option use_label_encoder=False when constructing XGBClassifier object; and 2) Encode your labels (y) as integers starting with 0, i.e. 0, 1, 2, ..., [num_class - 1].\n",
      "  warnings.warn(label_encoder_deprecation_msg, UserWarning)\n"
     ]
    },
    {
     "name": "stdout",
     "output_type": "stream",
     "text": [
      "[18:32:22] WARNING: C:/Users/Administrator/workspace/xgboost-win64_release_1.5.1/src/learner.cc:1115: Starting in XGBoost 1.3.0, the default evaluation metric used with the objective 'binary:logistic' was changed from 'error' to 'logloss'. Explicitly set eval_metric if you'd like to restore the old behavior.\n",
      "Accuracy Score: 0.6343613123975529\n",
      "Classification Report for XG-Boost Model:\n",
      "               precision    recall  f1-score   support\n",
      "\n",
      "           0       0.64      0.94      0.76     69224\n",
      "           1       0.59      0.13      0.21     42419\n",
      "\n",
      "    accuracy                           0.63    111643\n",
      "   macro avg       0.61      0.54      0.49    111643\n",
      "weighted avg       0.62      0.63      0.55    111643\n",
      "\n"
     ]
    }
   ],
   "source": [
    "xg=XGBClassifier(random_state=10)\n",
    "xg.fit(xtrain,ytrain)\n",
    "ypred_xg=xg.predict(xtest)\n",
    "print('Accuracy Score:',accuracy_score(ytest,ypred_xg))\n",
    "print('Classification Report for XG-Boost Model:\\n',classification_report(ytest,ypred_xg))"
   ]
  },
  {
   "cell_type": "code",
   "execution_count": 12,
   "metadata": {},
   "outputs": [
    {
     "name": "stdout",
     "output_type": "stream",
     "text": [
      "xtrain (446568, 22)\n",
      "ytrain (446568,)\n",
      "xtest (111643, 22)\n",
      "ytest (111643,)\n"
     ]
    }
   ],
   "source": [
    "x=df.drop(['ClaimID','PotentialFraud'],axis=1)\n",
    "y=df['PotentialFraud']\n",
    "xtrain,xtest,ytrain,ytest=train_test_split(x,y,test_size=0.2,random_state=10)\n",
    "print('xtrain',xtrain.shape)\n",
    "print('ytrain',ytrain.shape)\n",
    "print('xtest',xtest.shape)\n",
    "print('ytest',ytest.shape)"
   ]
  },
  {
   "cell_type": "code",
   "execution_count": 13,
   "metadata": {},
   "outputs": [
    {
     "name": "stderr",
     "output_type": "stream",
     "text": [
      "D:\\DatascienceSoftwares\\lib\\site-packages\\xgboost\\sklearn.py:1224: UserWarning: The use of label encoder in XGBClassifier is deprecated and will be removed in a future release. To remove this warning, do the following: 1) Pass option use_label_encoder=False when constructing XGBClassifier object; and 2) Encode your labels (y) as integers starting with 0, i.e. 0, 1, 2, ..., [num_class - 1].\n",
      "  warnings.warn(label_encoder_deprecation_msg, UserWarning)\n"
     ]
    },
    {
     "name": "stdout",
     "output_type": "stream",
     "text": [
      "[16:03:13] WARNING: C:/Users/Administrator/workspace/xgboost-win64_release_1.5.1/src/learner.cc:1115: Starting in XGBoost 1.3.0, the default evaluation metric used with the objective 'binary:logistic' was changed from 'error' to 'logloss'. Explicitly set eval_metric if you'd like to restore the old behavior.\n",
      "Accuracy Score: 0.7674999776071944\n",
      "Classification Report for XG-Boost Model:\n",
      "               precision    recall  f1-score   support\n",
      "\n",
      "           0       0.78      0.86      0.82     69224\n",
      "           1       0.73      0.61      0.67     42419\n",
      "\n",
      "    accuracy                           0.77    111643\n",
      "   macro avg       0.76      0.74      0.74    111643\n",
      "weighted avg       0.76      0.77      0.76    111643\n",
      "\n"
     ]
    }
   ],
   "source": [
    "xg=XGBClassifier(random_state=10)\n",
    "xg.fit(xtrain,ytrain)\n",
    "ypred_xg=xg.predict(xtest)\n",
    "print('Accuracy Score:',accuracy_score(ytest,ypred_xg))\n",
    "print('Classification Report for XG-Boost Model:\\n',classification_report(ytest,ypred_xg))"
   ]
  },
  {
   "cell_type": "code",
   "execution_count": 14,
   "metadata": {},
   "outputs": [
    {
     "data": {
      "text/html": [
       "<div>\n",
       "<style scoped>\n",
       "    .dataframe tbody tr th:only-of-type {\n",
       "        vertical-align: middle;\n",
       "    }\n",
       "\n",
       "    .dataframe tbody tr th {\n",
       "        vertical-align: top;\n",
       "    }\n",
       "\n",
       "    .dataframe thead th {\n",
       "        text-align: right;\n",
       "    }\n",
       "</style>\n",
       "<table border=\"1\" class=\"dataframe\">\n",
       "  <thead>\n",
       "    <tr style=\"text-align: right;\">\n",
       "      <th></th>\n",
       "      <th>Importance</th>\n",
       "    </tr>\n",
       "  </thead>\n",
       "  <tbody>\n",
       "    <tr>\n",
       "      <th>Patient_visitType</th>\n",
       "      <td>0.345781</td>\n",
       "    </tr>\n",
       "    <tr>\n",
       "      <th>State</th>\n",
       "      <td>0.149931</td>\n",
       "    </tr>\n",
       "    <tr>\n",
       "      <th>County</th>\n",
       "      <td>0.124607</td>\n",
       "    </tr>\n",
       "    <tr>\n",
       "      <th>Repeted_Physician</th>\n",
       "      <td>0.099451</td>\n",
       "    </tr>\n",
       "    <tr>\n",
       "      <th>Total_PhysiciansChecked</th>\n",
       "      <td>0.084264</td>\n",
       "    </tr>\n",
       "    <tr>\n",
       "      <th>DeductibleAmtPaid</th>\n",
       "      <td>0.035373</td>\n",
       "    </tr>\n",
       "    <tr>\n",
       "      <th>Days_stayed_inhospital</th>\n",
       "      <td>0.025469</td>\n",
       "    </tr>\n",
       "    <tr>\n",
       "      <th>TotalClmProcedureCount</th>\n",
       "      <td>0.019267</td>\n",
       "    </tr>\n",
       "    <tr>\n",
       "      <th>NoOfMonths_PartBCov</th>\n",
       "      <td>0.010491</td>\n",
       "    </tr>\n",
       "    <tr>\n",
       "      <th>InscClaimAmtReimbursed</th>\n",
       "      <td>0.009449</td>\n",
       "    </tr>\n",
       "    <tr>\n",
       "      <th>OPAnnualDeductibleAmt</th>\n",
       "      <td>0.009445</td>\n",
       "    </tr>\n",
       "    <tr>\n",
       "      <th>OPAnnualReimbursementAmt</th>\n",
       "      <td>0.009386</td>\n",
       "    </tr>\n",
       "    <tr>\n",
       "      <th>IPAnnualReimbursementAmt</th>\n",
       "      <td>0.008957</td>\n",
       "    </tr>\n",
       "    <tr>\n",
       "      <th>Age</th>\n",
       "      <td>0.008827</td>\n",
       "    </tr>\n",
       "    <tr>\n",
       "      <th>IPAnnualDeductibleAmt</th>\n",
       "      <td>0.008265</td>\n",
       "    </tr>\n",
       "  </tbody>\n",
       "</table>\n",
       "</div>"
      ],
      "text/plain": [
       "                          Importance\n",
       "Patient_visitType           0.345781\n",
       "State                       0.149931\n",
       "County                      0.124607\n",
       "Repeted_Physician           0.099451\n",
       "Total_PhysiciansChecked     0.084264\n",
       "DeductibleAmtPaid           0.035373\n",
       "Days_stayed_inhospital      0.025469\n",
       "TotalClmProcedureCount      0.019267\n",
       "NoOfMonths_PartBCov         0.010491\n",
       "InscClaimAmtReimbursed      0.009449\n",
       "OPAnnualDeductibleAmt       0.009445\n",
       "OPAnnualReimbursementAmt    0.009386\n",
       "IPAnnualReimbursementAmt    0.008957\n",
       "Age                         0.008827\n",
       "IPAnnualDeductibleAmt       0.008265"
      ]
     },
     "execution_count": 14,
     "metadata": {},
     "output_type": "execute_result"
    }
   ],
   "source": [
    "f_imp=pd.DataFrame(xg.feature_importances_,index=xtrain.columns,columns=['Importance']).sort_values(by='Importance',ascending=False)\n",
    "f_imp.head(15)"
   ]
  },
  {
   "cell_type": "code",
   "execution_count": 15,
   "metadata": {},
   "outputs": [
    {
     "data": {
      "text/plain": [
       "Index(['PotentialFraud', 'ClaimID', 'InscClaimAmtReimbursed',\n",
       "       'DeductibleAmtPaid', 'Gender', 'Race', 'State', 'County',\n",
       "       'NoOfMonths_PartACov', 'NoOfMonths_PartBCov',\n",
       "       'IPAnnualReimbursementAmt', 'IPAnnualDeductibleAmt',\n",
       "       'OPAnnualReimbursementAmt', 'OPAnnualDeductibleAmt', 'Age',\n",
       "       'Days_stayed_inhospital', 'Patient_visitType', 'DeadorNot',\n",
       "       'Days_to_settle_claim', 'Total_PhysiciansChecked', 'Repeted_Physician',\n",
       "       'TotalClmDiagnosisCount', 'TotalClmProcedureCount',\n",
       "       'TotalDiseaseCount'],\n",
       "      dtype='object')"
      ]
     },
     "execution_count": 15,
     "metadata": {},
     "output_type": "execute_result"
    }
   ],
   "source": [
    "df.columns"
   ]
  },
  {
   "cell_type": "markdown",
   "metadata": {},
   "source": [
    "## Train Test split for top 15 Feature Importance taken from XG-Boost"
   ]
  },
  {
   "cell_type": "code",
   "execution_count": 16,
   "metadata": {},
   "outputs": [
    {
     "name": "stdout",
     "output_type": "stream",
     "text": [
      "xtrain (446568, 15)\n",
      "ytrain (446568,)\n",
      "xtest (111643, 15)\n",
      "ytest (111643,)\n"
     ]
    }
   ],
   "source": [
    "x=df[['Patient_visitType','State', 'County','Repeted_Physician','Total_PhysiciansChecked','DeductibleAmtPaid',\n",
    "      'Days_stayed_inhospital','TotalClmProcedureCount','NoOfMonths_PartBCov','InscClaimAmtReimbursed','OPAnnualDeductibleAmt',\n",
    "      'OPAnnualReimbursementAmt','IPAnnualReimbursementAmt','Age','IPAnnualDeductibleAmt']]\n",
    "y=df['PotentialFraud']\n",
    "xtrain,xtest,ytrain,ytest=train_test_split(x,y,test_size=0.2,random_state=10)\n",
    "print('xtrain',xtrain.shape)\n",
    "print('ytrain',ytrain.shape)\n",
    "print('xtest',xtest.shape)\n",
    "print('ytest',ytest.shape)"
   ]
  },
  {
   "cell_type": "code",
   "execution_count": 17,
   "metadata": {},
   "outputs": [
    {
     "name": "stderr",
     "output_type": "stream",
     "text": [
      "D:\\DatascienceSoftwares\\lib\\site-packages\\xgboost\\sklearn.py:1224: UserWarning: The use of label encoder in XGBClassifier is deprecated and will be removed in a future release. To remove this warning, do the following: 1) Pass option use_label_encoder=False when constructing XGBClassifier object; and 2) Encode your labels (y) as integers starting with 0, i.e. 0, 1, 2, ..., [num_class - 1].\n",
      "  warnings.warn(label_encoder_deprecation_msg, UserWarning)\n"
     ]
    },
    {
     "name": "stdout",
     "output_type": "stream",
     "text": [
      "[16:04:09] WARNING: C:/Users/Administrator/workspace/xgboost-win64_release_1.5.1/src/learner.cc:1115: Starting in XGBoost 1.3.0, the default evaluation metric used with the objective 'binary:logistic' was changed from 'error' to 'logloss'. Explicitly set eval_metric if you'd like to restore the old behavior.\n",
      "Accuracy Score: 0.7693451447918813\n",
      "Classification Report for XG-Boost Model:\n",
      "               precision    recall  f1-score   support\n",
      "\n",
      "           0       0.78      0.87      0.82     69224\n",
      "           1       0.74      0.61      0.67     42419\n",
      "\n",
      "    accuracy                           0.77    111643\n",
      "   macro avg       0.76      0.74      0.75    111643\n",
      "weighted avg       0.77      0.77      0.76    111643\n",
      "\n"
     ]
    }
   ],
   "source": [
    "xg=XGBClassifier(random_state=10)\n",
    "xg.fit(xtrain,ytrain)\n",
    "ypred_xg=xg.predict(xtest)\n",
    "print('Accuracy Score:',accuracy_score(ytest,ypred_xg))\n",
    "print('Classification Report for XG-Boost Model:\\n',classification_report(ytest,ypred_xg))"
   ]
  },
  {
   "cell_type": "markdown",
   "metadata": {},
   "source": [
    "## Train Test split for top 5 Feature Importance taken from XG-Boost"
   ]
  },
  {
   "cell_type": "code",
   "execution_count": 18,
   "metadata": {},
   "outputs": [
    {
     "name": "stdout",
     "output_type": "stream",
     "text": [
      "xtrain (446568, 5)\n",
      "ytrain (446568,)\n",
      "xtest (111643, 5)\n",
      "ytest (111643,)\n"
     ]
    }
   ],
   "source": [
    "x=df[['Patient_visitType','State', 'County','Repeted_Physician','Total_PhysiciansChecked']]\n",
    "y=df['PotentialFraud']\n",
    "xtrain,xtest,ytrain,ytest=train_test_split(x,y,test_size=0.2,random_state=10)\n",
    "print('xtrain',xtrain.shape)\n",
    "print('ytrain',ytrain.shape)\n",
    "print('xtest',xtest.shape)\n",
    "print('ytest',ytest.shape)"
   ]
  },
  {
   "cell_type": "code",
   "execution_count": 19,
   "metadata": {},
   "outputs": [
    {
     "name": "stderr",
     "output_type": "stream",
     "text": [
      "D:\\DatascienceSoftwares\\lib\\site-packages\\xgboost\\sklearn.py:1224: UserWarning: The use of label encoder in XGBClassifier is deprecated and will be removed in a future release. To remove this warning, do the following: 1) Pass option use_label_encoder=False when constructing XGBClassifier object; and 2) Encode your labels (y) as integers starting with 0, i.e. 0, 1, 2, ..., [num_class - 1].\n",
      "  warnings.warn(label_encoder_deprecation_msg, UserWarning)\n"
     ]
    },
    {
     "name": "stdout",
     "output_type": "stream",
     "text": [
      "[16:04:58] WARNING: C:/Users/Administrator/workspace/xgboost-win64_release_1.5.1/src/learner.cc:1115: Starting in XGBoost 1.3.0, the default evaluation metric used with the objective 'binary:logistic' was changed from 'error' to 'logloss'. Explicitly set eval_metric if you'd like to restore the old behavior.\n",
      "Accuracy Score: 0.7783560097811775\n",
      "Classification Report for XG-Boost Model:\n",
      "               precision    recall  f1-score   support\n",
      "\n",
      "           0       0.80      0.86      0.83     69224\n",
      "           1       0.74      0.64      0.69     42419\n",
      "\n",
      "    accuracy                           0.78    111643\n",
      "   macro avg       0.77      0.75      0.76    111643\n",
      "weighted avg       0.78      0.78      0.77    111643\n",
      "\n"
     ]
    }
   ],
   "source": [
    "xg=XGBClassifier(random_state=10)\n",
    "xg.fit(xtrain,ytrain)\n",
    "ypred_xg=xg.predict(xtest)\n",
    "print('Accuracy Score:',accuracy_score(ytest,ypred_xg))\n",
    "print('Classification Report for XG-Boost Model:\\n',classification_report(ytest,ypred_xg))"
   ]
  },
  {
   "cell_type": "markdown",
   "metadata": {},
   "source": [
    "## Confusion matrix for Top 5 features"
   ]
  },
  {
   "cell_type": "code",
   "execution_count": 20,
   "metadata": {},
   "outputs": [
    {
     "data": {
      "text/plain": [
       "array([[59868,  9356],\n",
       "       [15389, 27030]], dtype=int64)"
      ]
     },
     "execution_count": 20,
     "metadata": {},
     "output_type": "execute_result"
    }
   ],
   "source": [
    "cm_5=confusion_matrix(ytest,ypred_xg)\n",
    "cm_5"
   ]
  },
  {
   "cell_type": "code",
   "execution_count": 21,
   "metadata": {},
   "outputs": [
    {
     "data": {
      "text/plain": [
       "<AxesSubplot:>"
      ]
     },
     "execution_count": 21,
     "metadata": {},
     "output_type": "execute_result"
    },
    {
     "data": {
      "image/png": "[encoded data removed]",
      "text/plain": [
       "<Figure size 432x288 with 2 Axes>"
      ]
     },
     "metadata": {
      "needs_background": "light"
     },
     "output_type": "display_data"
    }
   ],
   "source": [
    "sns.heatmap(cm_5,annot=True)"
   ]
  },
  {
   "cell_type": "markdown",
   "metadata": {},
   "source": [
    "## Hyper parameter tuning"
   ]
  },
  {
   "cell_type": "code",
   "execution_count": 22,
   "metadata": {},
   "outputs": [
    {
     "name": "stderr",
     "output_type": "stream",
     "text": [
      "D:\\DatascienceSoftwares\\lib\\site-packages\\xgboost\\sklearn.py:1224: UserWarning: The use of label encoder in XGBClassifier is deprecated and will be removed in a future release. To remove this warning, do the following: 1) Pass option use_label_encoder=False when constructing XGBClassifier object; and 2) Encode your labels (y) as integers starting with 0, i.e. 0, 1, 2, ..., [num_class - 1].\n",
      "  warnings.warn(label_encoder_deprecation_msg, UserWarning)\n"
     ]
    },
    {
     "name": "stdout",
     "output_type": "stream",
     "text": [
      "[16:24:41] WARNING: C:/Users/Administrator/workspace/xgboost-win64_release_1.5.1/src/learner.cc:1115: Starting in XGBoost 1.3.0, the default evaluation metric used with the objective 'binary:logistic' was changed from 'error' to 'logloss'. Explicitly set eval_metric if you'd like to restore the old behavior.\n"
     ]
    },
    {
     "data": {
      "text/plain": [
       "{'max_depth': 6, 'n_estimators': 200}"
      ]
     },
     "execution_count": 22,
     "metadata": {},
     "output_type": "execute_result"
    }
   ],
   "source": [
    "params={'n_estimators':[7,8,9,10,100,200],\n",
    "       'max_depth':[4,5,6]}\n",
    "xgb=XGBClassifier(random_state=10)\n",
    "xgbcv=GridSearchCV(estimator=xgb,param_grid=params,cv=10,scoring='accuracy',n_jobs=-1)\n",
    "xgbcv.fit(xtrain,ytrain)\n",
    "xgbcv.best_params_"
   ]
  },
  {
   "cell_type": "markdown",
   "metadata": {},
   "source": [
    "## Final_model"
   ]
  },
  {
   "cell_type": "code",
   "execution_count": 24,
   "metadata": {},
   "outputs": [
    {
     "name": "stderr",
     "output_type": "stream",
     "text": [
      "D:\\DatascienceSoftwares\\lib\\site-packages\\xgboost\\sklearn.py:1224: UserWarning: The use of label encoder in XGBClassifier is deprecated and will be removed in a future release. To remove this warning, do the following: 1) Pass option use_label_encoder=False when constructing XGBClassifier object; and 2) Encode your labels (y) as integers starting with 0, i.e. 0, 1, 2, ..., [num_class - 1].\n",
      "  warnings.warn(label_encoder_deprecation_msg, UserWarning)\n"
     ]
    },
    {
     "name": "stdout",
     "output_type": "stream",
     "text": [
      "[16:26:46] WARNING: C:/Users/Administrator/workspace/xgboost-win64_release_1.5.1/src/learner.cc:1115: Starting in XGBoost 1.3.0, the default evaluation metric used with the objective 'binary:logistic' was changed from 'error' to 'logloss'. Explicitly set eval_metric if you'd like to restore the old behavior.\n",
      "Accuracy Score: 0.7870712897360336\n",
      "Classification Report for XG-Boost Model:\n",
      "               precision    recall  f1-score   support\n",
      "\n",
      "           0       0.81      0.86      0.83     69224\n",
      "           1       0.75      0.67      0.70     42419\n",
      "\n",
      "    accuracy                           0.79    111643\n",
      "   macro avg       0.78      0.76      0.77    111643\n",
      "weighted avg       0.78      0.79      0.78    111643\n",
      "\n"
     ]
    }
   ],
   "source": [
    "xg=XGBClassifier(n_estimators=300,max_depth=6,random_state=10)\n",
    "xg.fit(xtrain,ytrain)\n",
    "ypred_xg=xg.predict(xtest)\n",
    "print('Accuracy Score:',accuracy_score(ytest,ypred_xg))\n",
    "print('Classification Report for XG-Boost Model:\\n',classification_report(ytest,ypred_xg))"
   ]
  },
  {
   "cell_type": "markdown",
   "metadata": {},
   "source": [
    "### As we can see by taking Top 5 feature importances from XG Boost model we got model accuracy of 79%."
   ]
  },
  {
   "cell_type": "markdown",
   "metadata": {},
   "source": [
    "## Confusion matrix After tuning XG-Boost Model."
   ]
  },
  {
   "cell_type": "code",
   "execution_count": 25,
   "metadata": {},
   "outputs": [
    {
     "data": {
      "text/plain": [
       "array([[59605,  9619],\n",
       "       [14153, 28266]], dtype=int64)"
      ]
     },
     "execution_count": 25,
     "metadata": {},
     "output_type": "execute_result"
    }
   ],
   "source": [
    "cm_t=confusion_matrix(ytest,ypred_xg)\n",
    "cm_t"
   ]
  },
  {
   "cell_type": "code",
   "execution_count": 26,
   "metadata": {},
   "outputs": [
    {
     "data": {
      "text/plain": [
       "<AxesSubplot:>"
      ]
     },
     "execution_count": 26,
     "metadata": {},
     "output_type": "execute_result"
    },
    {
     "data": {
      "image/png": "[encoded data removed]",
      "text/plain": [
       "<Figure size 432x288 with 2 Axes>"
      ]
     },
     "metadata": {
      "needs_background": "light"
     },
     "output_type": "display_data"
    }
   ],
   "source": [
    "sns.heatmap(cm_t,annot=True)"
   ]
  },
  {
   "cell_type": "markdown",
   "metadata": {},
   "source": [
    "## ROC-Curve"
   ]
  },
  {
   "cell_type": "code",
   "execution_count": 30,
   "metadata": {},
   "outputs": [
    {
     "data": {
      "text/plain": [
       "array([0.19819659, 0.07071607, 0.16865961, ..., 0.23352754, 0.56146723,\n",
       "       0.03033177], dtype=float32)"
      ]
     },
     "execution_count": 30,
     "metadata": {},
     "output_type": "execute_result"
    }
   ],
   "source": [
    "ypred_prob_xg=xg.predict_proba(xtest)[:,1]\n",
    "ypred_prob_xg"
   ]
  },
  {
   "cell_type": "code",
   "execution_count": 35,
   "metadata": {
    "scrolled": true
   },
   "outputs": [
    {
     "data": {
      "text/plain": [
       "Text(0, 0.5, 'tpr')"
      ]
     },
     "execution_count": 35,
     "metadata": {},
     "output_type": "execute_result"
    },
    {
     "data": {
      "image/png": "[encoded data removed]",
      "text/plain": [
       "<Figure size 432x288 with 1 Axes>"
      ]
     },
     "metadata": {
      "needs_background": "light"
     },
     "output_type": "display_data"
    }
   ],
   "source": [
    "fpr,tpr,threshold=roc_curve(ytest,ypred_prob_xg)\n",
    "\n",
    "plt.plot(fpr,tpr,marker='*')\n",
    "plt.title('Roc_curve for XG-Boost')\n",
    "plt.text(x=0.5,y=0.05,s=('Auc Score:',round(roc_auc_score(ytest,ypred_prob_xg),2)))\n",
    "plt.text(x=0.05,y=0.85,s=('Error:',0.15))\n",
    "plt.xlabel('fpr(1-specificity)')\n",
    "plt.ylabel('tpr')"
   ]
  },
  {
   "cell_type": "markdown",
   "metadata": {},
   "source": [
    "#######################################################################\n",
    "\n"
   ]
  },
  {
   "cell_type": "markdown",
   "metadata": {},
   "source": [
    "## Below code i have  build XG-Boost model  for k-Best Features(14)."
   ]
  },
  {
   "cell_type": "markdown",
   "metadata": {},
   "source": [
    "#### As we can see among all the boosting models XG Boost is giving the accuracy of 63%.\n",
    "#### So we take this XG Boost model and try to fine tune the model with all required hyperparameters,inorder to improve my 'Accuracy' of the model."
   ]
  },
  {
   "cell_type": "code",
   "execution_count": 84,
   "metadata": {},
   "outputs": [],
   "source": [
    "# Before that we will check for the False negatives whether it is reduced or not.\n",
    "# Because our main aim here is to reduce the False negative."
   ]
  },
  {
   "cell_type": "code",
   "execution_count": 85,
   "metadata": {},
   "outputs": [
    {
     "data": {
      "text/plain": [
       "array([[67407,  1817],\n",
       "       [40259,  2160]], dtype=int64)"
      ]
     },
     "execution_count": 85,
     "metadata": {},
     "output_type": "execute_result"
    }
   ],
   "source": [
    "cm_ab=confusion_matrix(ytest,ypred_ab)\n",
    "cm_ab"
   ]
  },
  {
   "cell_type": "code",
   "execution_count": 86,
   "metadata": {},
   "outputs": [
    {
     "data": {
      "text/plain": [
       "<AxesSubplot:>"
      ]
     },
     "execution_count": 86,
     "metadata": {},
     "output_type": "execute_result"
    },
    {
     "data": {
      "image/png": "[encoded data removed]",
      "text/plain": [
       "<Figure size 432x288 with 2 Axes>"
      ]
     },
     "metadata": {
      "needs_background": "light"
     },
     "output_type": "display_data"
    }
   ],
   "source": [
    "sns.heatmap(cm_ab,annot=True)"
   ]
  },
  {
   "cell_type": "code",
   "execution_count": 87,
   "metadata": {},
   "outputs": [
    {
     "data": {
      "text/plain": [
       "array([[65853,  3371],\n",
       "       [38311,  4108]], dtype=int64)"
      ]
     },
     "execution_count": 87,
     "metadata": {},
     "output_type": "execute_result"
    }
   ],
   "source": [
    "cm_gb=confusion_matrix(ytest,ypred_gb)\n",
    "cm_gb"
   ]
  },
  {
   "cell_type": "code",
   "execution_count": 88,
   "metadata": {},
   "outputs": [
    {
     "data": {
      "text/plain": [
       "<AxesSubplot:>"
      ]
     },
     "execution_count": 88,
     "metadata": {},
     "output_type": "execute_result"
    },
    {
     "data": {
      "image/png": "[encoded data removed]",
      "text/plain": [
       "<Figure size 432x288 with 2 Axes>"
      ]
     },
     "metadata": {
      "needs_background": "light"
     },
     "output_type": "display_data"
    }
   ],
   "source": [
    "sns.heatmap(cm_gb,annot=True)"
   ]
  },
  {
   "cell_type": "code",
   "execution_count": 89,
   "metadata": {},
   "outputs": [
    {
     "data": {
      "text/plain": [
       "array([[65383,  3841],\n",
       "       [36980,  5439]], dtype=int64)"
      ]
     },
     "execution_count": 89,
     "metadata": {},
     "output_type": "execute_result"
    }
   ],
   "source": [
    "cm_xg=confusion_matrix(ytest,ypred_xg)\n",
    "cm_xg"
   ]
  },
  {
   "cell_type": "code",
   "execution_count": 90,
   "metadata": {
    "scrolled": true
   },
   "outputs": [
    {
     "data": {
      "text/plain": [
       "<AxesSubplot:>"
      ]
     },
     "execution_count": 90,
     "metadata": {},
     "output_type": "execute_result"
    },
    {
     "data": {
      "image/png": "[encoded data removed]",
      "text/plain": [
       "<Figure size 432x288 with 2 Axes>"
      ]
     },
     "metadata": {
      "needs_background": "light"
     },
     "output_type": "display_data"
    }
   ],
   "source": [
    "sns.heatmap(cm_xg,annot=True)"
   ]
  },
  {
   "cell_type": "code",
   "execution_count": 91,
   "metadata": {},
   "outputs": [],
   "source": [
    "# Now we will tune our XG-Boost Model."
   ]
  },
  {
   "cell_type": "markdown",
   "metadata": {},
   "source": [
    "## Hyperparameter Tuning for XG Boost Model."
   ]
  },
  {
   "cell_type": "code",
   "execution_count": 92,
   "metadata": {},
   "outputs": [
    {
     "name": "stderr",
     "output_type": "stream",
     "text": [
      "D:\\DatascienceSoftwares\\lib\\site-packages\\xgboost\\sklearn.py:1224: UserWarning: The use of label encoder in XGBClassifier is deprecated and will be removed in a future release. To remove this warning, do the following: 1) Pass option use_label_encoder=False when constructing XGBClassifier object; and 2) Encode your labels (y) as integers starting with 0, i.e. 0, 1, 2, ..., [num_class - 1].\n",
      "  warnings.warn(label_encoder_deprecation_msg, UserWarning)\n"
     ]
    },
    {
     "name": "stdout",
     "output_type": "stream",
     "text": [
      "[14:37:13] WARNING: C:/Users/Administrator/workspace/xgboost-win64_release_1.5.1/src/learner.cc:1115: Starting in XGBoost 1.3.0, the default evaluation metric used with the objective 'binary:logistic' was changed from 'error' to 'logloss'. Explicitly set eval_metric if you'd like to restore the old behavior.\n"
     ]
    },
    {
     "data": {
      "text/plain": [
       "{'max_depth': 6, 'n_estimators': 10}"
      ]
     },
     "execution_count": 92,
     "metadata": {},
     "output_type": "execute_result"
    }
   ],
   "source": [
    "params={'n_estimators':[7,8,9,10],\n",
    "       'max_depth':[4,5,6]}\n",
    "xgb=XGBClassifier(random_state=10)\n",
    "xgbcv=GridSearchCV(estimator=xgb,param_grid=params,cv=10,scoring='accuracy',n_jobs=-1)\n",
    "xgbcv.fit(xtrain,ytrain)\n",
    "xgbcv.best_params_"
   ]
  },
  {
   "cell_type": "code",
   "execution_count": 97,
   "metadata": {},
   "outputs": [
    {
     "name": "stderr",
     "output_type": "stream",
     "text": [
      "D:\\DatascienceSoftwares\\lib\\site-packages\\xgboost\\sklearn.py:1224: UserWarning: The use of label encoder in XGBClassifier is deprecated and will be removed in a future release. To remove this warning, do the following: 1) Pass option use_label_encoder=False when constructing XGBClassifier object; and 2) Encode your labels (y) as integers starting with 0, i.e. 0, 1, 2, ..., [num_class - 1].\n",
      "  warnings.warn(label_encoder_deprecation_msg, UserWarning)\n"
     ]
    },
    {
     "name": "stdout",
     "output_type": "stream",
     "text": [
      "[14:41:45] WARNING: C:/Users/Administrator/workspace/xgboost-win64_release_1.5.1/src/learner.cc:1115: Starting in XGBoost 1.3.0, the default evaluation metric used with the objective 'binary:logistic' was changed from 'error' to 'logloss'. Explicitly set eval_metric if you'd like to restore the old behavior.\n",
      "Accuracy Score: 0.6619671631898104\n",
      "Classification Report for XG-Boost Model:\n",
      "               precision    recall  f1-score   support\n",
      "\n",
      "           0       0.69      0.82      0.75     69224\n",
      "           1       0.58      0.41      0.48     42419\n",
      "\n",
      "    accuracy                           0.66    111643\n",
      "   macro avg       0.64      0.61      0.61    111643\n",
      "weighted avg       0.65      0.66      0.65    111643\n",
      "\n"
     ]
    }
   ],
   "source": [
    "xg=XGBClassifier(n_estimators=1000,max_depth=6,random_state=10,learning_rate=1)\n",
    "xg.fit(xtrain,ytrain)\n",
    "ypred_xg=xg.predict(xtest)\n",
    "print('Accuracy Score:',accuracy_score(ytest,ypred_xg))\n",
    "print('Classification Report for XG-Boost Model:\\n',classification_report(ytest,ypred_xg))"
   ]
  },
  {
   "cell_type": "code",
   "execution_count": 98,
   "metadata": {},
   "outputs": [],
   "source": [
    "# So far i checked with all the other hyperparmeters to tune the model for getting best accuracy.\n",
    "# But still im getting the Highest accuracy of 66%.\n",
    "# So Above all tunining done for  model(XG Boost) that it is giving the  accuracy of 66%."
   ]
  },
  {
   "cell_type": "code",
   "execution_count": 40,
   "metadata": {},
   "outputs": [
    {
     "data": {
      "text/plain": [
       "array([0.49637967, 0.49734396, 0.49740262, ..., 0.49735351, 0.49713439,\n",
       "       0.49714256])"
      ]
     },
     "execution_count": 40,
     "metadata": {},
     "output_type": "execute_result"
    }
   ],
   "source": [
    "ypred_prob_ab=ab.predict_proba(xtest)[:,1]\n",
    "ypred_prob_ab"
   ]
  },
  {
   "cell_type": "code",
   "execution_count": 41,
   "metadata": {},
   "outputs": [],
   "source": [
    "fpr,tpr,threshold=roc_curve(ytest,ypred_prob_ab)"
   ]
  },
  {
   "cell_type": "code",
   "execution_count": 43,
   "metadata": {},
   "outputs": [
    {
     "data": {
      "text/plain": [
       "Text(0, 0.5, 'tpr')"
      ]
     },
     "execution_count": 43,
     "metadata": {},
     "output_type": "execute_result"
    },
    {
     "data": {
      "image/png": "[encoded data removed]",
      "text/plain": [
       "<Figure size 432x288 with 1 Axes>"
      ]
     },
     "metadata": {
      "needs_background": "light"
     },
     "output_type": "display_data"
    }
   ],
   "source": [
    "plt.plot(fpr,tpr,marker='*')\n",
    "plt.title('Roc_curve for Adaboost')\n",
    "plt.text(x=0.5,y=0.05,s=('Auc Score:',round(roc_auc_score(ytest,ypred_prob_ab),2)))\n",
    "plt.text(x=0.05,y=0.85,s=('Error:',0.46))\n",
    "plt.xlabel('fpr(1-specificity)')\n",
    "plt.ylabel('tpr')"
   ]
  },
  {
   "cell_type": "code",
   "execution_count": 44,
   "metadata": {},
   "outputs": [
    {
     "data": {
      "text/plain": [
       "array([0.34036627, 0.36739296, 0.36601587, ..., 0.37546838, 0.36408678,\n",
       "       0.37415504])"
      ]
     },
     "execution_count": 44,
     "metadata": {},
     "output_type": "execute_result"
    }
   ],
   "source": [
    "ypred_prob_gb=gb.predict_proba(xtest)[:,1]\n",
    "ypred_prob_gb"
   ]
  },
  {
   "cell_type": "code",
   "execution_count": 45,
   "metadata": {},
   "outputs": [],
   "source": [
    "fpr,tpr,threshold=roc_curve(ytest,ypred_prob_gb)"
   ]
  },
  {
   "cell_type": "code",
   "execution_count": 47,
   "metadata": {},
   "outputs": [
    {
     "data": {
      "text/plain": [
       "Text(0, 0.5, 'tpr')"
      ]
     },
     "execution_count": 47,
     "metadata": {},
     "output_type": "execute_result"
    },
    {
     "data": {
      "image/png": "[encoded data removed]",
      "text/plain": [
       "<Figure size 432x288 with 1 Axes>"
      ]
     },
     "metadata": {
      "needs_background": "light"
     },
     "output_type": "display_data"
    }
   ],
   "source": [
    "plt.plot(fpr,tpr,marker='*')\n",
    "plt.title('Roc_curve for Gradient Boost')\n",
    "plt.text(x=0.5,y=0.05,s=('Auc Score:',round(roc_auc_score(ytest,ypred_prob_gb),2)))\n",
    "plt.text(x=0.05,y=0.85,s=('Error:',0.45))\n",
    "plt.xlabel('fpr(1-specificity)')\n",
    "plt.ylabel('tpr')"
   ]
  },
  {
   "cell_type": "code",
   "execution_count": 48,
   "metadata": {},
   "outputs": [
    {
     "data": {
      "text/plain": [
       "array([0.3426898 , 0.36595336, 0.3880626 , ..., 0.36671597, 0.3674104 ,\n",
       "       0.3456061 ], dtype=float32)"
      ]
     },
     "execution_count": 48,
     "metadata": {},
     "output_type": "execute_result"
    }
   ],
   "source": [
    "ypred_prob_xg=xg.predict_proba(xtest)[:,1]\n",
    "ypred_prob_xg"
   ]
  },
  {
   "cell_type": "code",
   "execution_count": 49,
   "metadata": {},
   "outputs": [],
   "source": [
    "fpr,tpr,threshold=roc_curve(ytest,ypred_prob_xg)"
   ]
  },
  {
   "cell_type": "code",
   "execution_count": 51,
   "metadata": {},
   "outputs": [
    {
     "data": {
      "text/plain": [
       "Text(0, 0.5, 'tpr')"
      ]
     },
     "execution_count": 51,
     "metadata": {},
     "output_type": "execute_result"
    },
    {
     "data": {
      "image/png": "[encoded data removed]",
      "text/plain": [
       "<Figure size 432x288 with 1 Axes>"
      ]
     },
     "metadata": {
      "needs_background": "light"
     },
     "output_type": "display_data"
    }
   ],
   "source": [
    "plt.plot(fpr,tpr,marker='*')\n",
    "plt.title('Roc_curve for XG Boost')\n",
    "plt.text(x=0.5,y=0.05,s=('Auc Score:',round(roc_auc_score(ytest,ypred_prob_xg),2)))\n",
    "plt.text(x=0.05,y=0.85,s=('Error:',0.40))\n",
    "plt.xlabel('fpr(1-specificity)')\n",
    "plt.ylabel('tpr')"
   ]
  },
  {
   "cell_type": "code",
   "execution_count": null,
   "metadata": {},
   "outputs": [],
   "source": []
  }
 ],
 "metadata": {
  "kernelspec": {
   "display_name": "Python 3",
   "language": "python",
   "name": "python3"
  },
  "language_info": {
   "codemirror_mode": {
    "name": "ipython",
    "version": 3
   },
   "file_extension": ".py",
   "mimetype": "text/x-python",
   "name": "python",
   "nbconvert_exporter": "python",
   "pygments_lexer": "ipython3",
   "version": "3.8.5"
  }
 },
 "nbformat": 4,
 "nbformat_minor": 5
}
